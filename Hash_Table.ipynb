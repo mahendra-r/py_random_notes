{
 "cells": [
  {
   "cell_type": "markdown",
   "metadata": {},
   "source": [
    "# The Mighty Dictionary\n",
    "\n",
    "\n",
    "<p> <i>Adapted from:</i>\n",
    "<br>\n",
    "<a href = \"http://rhodesmill.org/brandon/slides/2010-03-pycon/\"> Brenden PyCon10 </a>\n",
    "</p>"
   ]
  },
  {
   "cell_type": "code",
   "execution_count": 77,
   "metadata": {
    "collapsed": false
   },
   "outputs": [
    {
     "name": "stdout",
     "output_type": "stream",
     "text": [
      "00000000000000000000000000000001\n",
      "11111111111111111111111111111111\n"
     ]
    }
   ],
   "source": [
    "def bits(n):\n",
    "    n = n+2**32\n",
    "    return bin(n)[-32:]\n",
    "\n",
    "print(bits(1))\n",
    "print(bits(-1))"
   ]
  },
  {
   "cell_type": "markdown",
   "metadata": {},
   "source": [
    "## The Three Rules\n",
    "\n",
    "\n",
    "<p style=\"text-align:center; font-family:times,serif; font-size:20pt; font-style:italic; line-height:2.0\"> \n",
    "<b><font color ='red'> #1. </b> A dictonary is really a list <br>\n",
    "<b><font color ='green'> #2. </b> Keys are hashed to produce indexes <br>\n",
    "<b><font color ='blue'> #3. </b> If can't hash at the first try, keep trying </p>"
   ]
  },
  {
   "cell_type": "code",
   "execution_count": 16,
   "metadata": {
    "collapsed": true
   },
   "outputs": [],
   "source": [
    "d = {\n",
    "    'Brandon': 35,\n",
    "    3.1415: 'pi',\n",
    "    'flickr.com': '68.142.214.24',\n",
    "    (2, 6, 4): 'Python version',\n",
    "    }\n"
   ]
  },
  {
   "cell_type": "markdown",
   "metadata": {},
   "source": [
    "<img src=\"HashTable1.png\" />"
   ]
  },
  {
   "cell_type": "code",
   "execution_count": 28,
   "metadata": {
    "collapsed": false
   },
   "outputs": [
    {
     "name": "stdout",
     "output_type": "stream",
     "text": [
      "Monty--->11011111000000010001011111010000000111101101101111000110001111\n",
      "3.1415--->10010000111001010110000001100001100010010011011110000000011\n",
      "(2, 6, 4)--->11010010010111101101101110011101000111010110111010001100110111\n"
     ]
    }
   ],
   "source": [
    "for key in 'Monty',3.1415, (2,6,4):\n",
    "    print(\"{}--->{}\".format(key, bits(hash(key))))"
   ]
  },
  {
   "cell_type": "code",
   "execution_count": 72,
   "metadata": {
    "collapsed": false
   },
   "outputs": [
    {
     "name": "stdout",
     "output_type": "stream",
     "text": [
      "00000111101101101111000110001111\n",
      "10101101110000001111010111110000\n",
      "^ ^ ^ ^  ^^^ ^^      ^   ^^^^^^^\n"
     ]
    }
   ],
   "source": [
    "k1 = bits(hash('Monty'))\n",
    "k2 = bits(hash('Money'))\n",
    "diff = []\n",
    "for a,b in zip(k1, k2):\n",
    "    if a==b:\n",
    "        diff.append(\" \")\n",
    "    else:\n",
    "        diff.append(\"^\")\n",
    "\n",
    "print(k1); print(k2);\n",
    "print(\"\".join(diff))"
   ]
  },
  {
   "cell_type": "markdown",
   "metadata": {},
   "source": [
    "<p style=\"text-align:center; font-family:times,serif; font-size:20pt; font-style:italic; line-height:2.0\"> \n",
    "<b><font color ='green'> #2. </b> Keys are hashed to produce indexes <br>\n"
   ]
  },
  {
   "cell_type": "code",
   "execution_count": 76,
   "metadata": {
    "collapsed": false
   },
   "outputs": [
    {
     "name": "stdout",
     "output_type": "stream",
     "text": [
      "1110\n",
      "1001\n",
      "0010\n"
     ]
    }
   ],
   "source": [
    "d['ftp'] = 21\n",
    "d['ssh'] = 22\n",
    "d['server'] = 200\n",
    "\n",
    "b = bits(hash('ftp'))\n",
    "\n",
    "print(b[-4:])\n",
    "print(bits(hash('ssh'))[-4:])\n",
    "print(bits(hash('server'))[-4:])"
   ]
  },
  {
   "cell_type": "markdown",
   "metadata": {},
   "source": [
    "<img src = \"HashTable2.png\" />"
   ]
  },
  {
   "cell_type": "markdown",
   "metadata": {},
   "source": [
    "Dictonary order of values returned by the dict is the same order as stored in hash and not the insertion order."
   ]
  },
  {
   "cell_type": "markdown",
   "metadata": {},
   "source": [
    "<p style=\"text-align:center; font-family:times,serif; font-size:20pt; font-style:italic; line-height:2.0\"> \n",
    "<b><font color ='blue'> #3. </b> If can't hash at the first try, keep trying </p>\n",
    "\n",
    "### Collision"
   ]
  },
  {
   "cell_type": "code",
   "execution_count": 78,
   "metadata": {
    "collapsed": true
   },
   "outputs": [],
   "source": [
    "d= {}\n",
    "d['smtp'] = 21\n",
    "d['dict'] = 2682 #dict has collision"
   ]
  },
  {
   "cell_type": "markdown",
   "metadata": {},
   "source": [
    "<img src=\"HashTable3.png\"/>"
   ]
  },
  {
   "cell_type": "code",
   "execution_count": 79,
   "metadata": {
    "collapsed": true
   },
   "outputs": [],
   "source": [
    "d['svn'] = 3690 #finds a place\n",
    "d['ircd'] = 6667 # multiple collisions"
   ]
  },
  {
   "cell_type": "markdown",
   "metadata": {},
   "source": [
    "<img src=\"HashTable4.png\" />"
   ]
  },
  {
   "cell_type": "code",
   "execution_count": null,
   "metadata": {
    "collapsed": true
   },
   "outputs": [],
   "source": []
  }
 ],
 "metadata": {
  "kernelspec": {
   "display_name": "Python 3",
   "language": "python",
   "name": "python3"
  },
  "language_info": {
   "codemirror_mode": {
    "name": "ipython",
    "version": 3
   },
   "file_extension": ".py",
   "mimetype": "text/x-python",
   "name": "python",
   "nbconvert_exporter": "python",
   "pygments_lexer": "ipython3",
   "version": "3.4.3"
  }
 },
 "nbformat": 4,
 "nbformat_minor": 0
}
