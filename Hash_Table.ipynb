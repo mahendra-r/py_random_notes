{
 "cells": [
  {
   "cell_type": "markdown",
   "metadata": {},
   "source": [
    "# The Mighty Dictionary\n",
    "\n",
    "\n",
    "<p> <i>Adapted from:</i>\n",
    "<br>\n",
    "<a href = \"http://rhodesmill.org/brandon/slides/2010-03-pycon/\"> Brenden PyCon10 </a>\n",
    "</p>"
   ]
  },
  {
   "cell_type": "code",
   "execution_count": 77,
   "metadata": {
    "collapsed": false
   },
   "outputs": [
    {
     "name": "stdout",
     "output_type": "stream",
     "text": [
      "00000000000000000000000000000001\n",
      "11111111111111111111111111111111\n"
     ]
    }
   ],
   "source": [
    "def bits(n):\n",
    "    n = n+2**32\n",
    "    return bin(n)[-32:]\n",
    "\n",
    "print(bits(1))\n",
    "print(bits(-1))"
   ]
  },
  {
   "cell_type": "markdown",
   "metadata": {},
   "source": [
    "## The Three Rules\n",
    "\n",
    "\n",
    "<p style=\"text-align:center; font-family:times,serif; font-size:20pt; font-style:italic; line-height:2.0\"> \n",
    "<b><font color ='red'> #1. </b> A dictonary is really a list <br>\n",
    "<b><font color ='green'> #2. </b> Keys are hashed to produce indexes <br>\n",
    "<b><font color ='blue'> #3. </b> If can't hash at the first try, keep trying </p>\n",
    "\n",
    "## Consequences\n",
    "\n",
    "<p style=\"color:blue; text-align:left; font-family:times,serif; font-size:10pt; font-style:italic; line-height:2.0\"> \n",
    "<b> #1. </b> Dictonary returns their content in order different than insertion order <br>\n",
    "<b> #2. </b> Because collisions move keys away from their natural hash values, key order is sensitive to dictionary history <br>\n",
    "<b> #3. </b> Lookup algorithm is more complicated than \"hash, truncate, look\". Until an empty spot is found, keep looking <br>\n",
    "<b> #4. </b> Not all lookups are created equal <br>\n",
    "\n",
    "</p>"
   ]
  },
  {
   "cell_type": "code",
   "execution_count": 124,
   "metadata": {
    "collapsed": true
   },
   "outputs": [],
   "source": [
    "d = {\n",
    "    'Brandon': 35,\n",
    "    3.1415: 'pi',\n",
    "    'flickr.com': '68.142.214.24',\n",
    "    (2, 6, 4): 'Python version',\n",
    "    }"
   ]
  },
  {
   "cell_type": "markdown",
   "metadata": {},
   "source": [
    "<img src=\"HashTable1.png\" />"
   ]
  },
  {
   "cell_type": "code",
   "execution_count": 28,
   "metadata": {
    "collapsed": false
   },
   "outputs": [
    {
     "name": "stdout",
     "output_type": "stream",
     "text": [
      "Monty--->11011111000000010001011111010000000111101101101111000110001111\n",
      "3.1415--->10010000111001010110000001100001100010010011011110000000011\n",
      "(2, 6, 4)--->11010010010111101101101110011101000111010110111010001100110111\n"
     ]
    }
   ],
   "source": [
    "for key in 'Monty',3.1415, (2,6,4):\n",
    "    print(\"{}--->{}\".format(key, bits(hash(key))))"
   ]
  },
  {
   "cell_type": "code",
   "execution_count": 72,
   "metadata": {
    "collapsed": false
   },
   "outputs": [
    {
     "name": "stdout",
     "output_type": "stream",
     "text": [
      "00000111101101101111000110001111\n",
      "10101101110000001111010111110000\n",
      "^ ^ ^ ^  ^^^ ^^      ^   ^^^^^^^\n"
     ]
    }
   ],
   "source": [
    "k1 = bits(hash('Monty'))\n",
    "k2 = bits(hash('Money'))\n",
    "diff = []\n",
    "for a,b in zip(k1, k2):\n",
    "    if a==b:\n",
    "        diff.append(\" \")\n",
    "    else:\n",
    "        diff.append(\"^\")\n",
    "\n",
    "print(k1); print(k2);\n",
    "print(\"\".join(diff))"
   ]
  },
  {
   "cell_type": "markdown",
   "metadata": {},
   "source": [
    "<p style=\"text-align:center; font-family:times,serif; font-size:20pt; font-style:italic; line-height:2.0\"> \n",
    "<b><font color ='green'> #2. </b> Keys are hashed to produce indexes <br>\n"
   ]
  },
  {
   "cell_type": "code",
   "execution_count": 76,
   "metadata": {
    "collapsed": false
   },
   "outputs": [
    {
     "name": "stdout",
     "output_type": "stream",
     "text": [
      "1110\n",
      "1001\n",
      "0010\n"
     ]
    }
   ],
   "source": [
    "d['ftp'] = 21\n",
    "d['ssh'] = 22\n",
    "d['server'] = 200\n",
    "\n",
    "b = bits(hash('ftp'))\n",
    "\n",
    "print(b[-4:])\n",
    "print(bits(hash('ssh'))[-4:])\n",
    "print(bits(hash('server'))[-4:])"
   ]
  },
  {
   "cell_type": "markdown",
   "metadata": {},
   "source": [
    "<img src = \"HashTable2.png\" />"
   ]
  },
  {
   "cell_type": "markdown",
   "metadata": {},
   "source": [
    "<br>\n",
    "### Consequence 1:\n",
    "<p style=\"color:blue; text-align:left; font-family:times,serif; font-size:15pt; font-style:italic; line-height:1.2\">\n",
    "Dictonary order of values returned by the dict is the same order as stored in hash and not the insertion order. </p>\n",
    "<br>"
   ]
  },
  {
   "cell_type": "markdown",
   "metadata": {},
   "source": [
    "<p style=\"text-align:center; font-family:times,serif; font-size:20pt; font-style:italic; line-height:2.0\"> \n",
    "<b><font color ='blue'> #3. </b> If can't hash at the first try, keep trying </p>\n",
    "\n",
    "### Collision"
   ]
  },
  {
   "cell_type": "code",
   "execution_count": 78,
   "metadata": {
    "collapsed": true
   },
   "outputs": [],
   "source": [
    "d= {}\n",
    "d['smtp'] = 21\n",
    "d['dict'] = 2682 #dict has collision"
   ]
  },
  {
   "cell_type": "markdown",
   "metadata": {},
   "source": [
    "<img src=\"HashTable3.png\"/>"
   ]
  },
  {
   "cell_type": "code",
   "execution_count": 79,
   "metadata": {
    "collapsed": true
   },
   "outputs": [],
   "source": [
    "d['svn'] = 3690 #finds a place\n",
    "d['ircd'] = 6667 # multiple collisions"
   ]
  },
  {
   "cell_type": "markdown",
   "metadata": {},
   "source": [
    "<img src=\"HashTable4.png\" />"
   ]
  },
  {
   "cell_type": "code",
   "execution_count": 121,
   "metadata": {
    "collapsed": false
   },
   "outputs": [
    {
     "name": "stdout",
     "output_type": "stream",
     "text": [
      "True \n",
      " dict_keys(['ircd', 'smtp', 'dict', 'svn', 'zope']) \n",
      " dict_keys(['ircd', 'smtp', 'zope', 'svn', 'dict'])\n"
     ]
    }
   ],
   "source": [
    "d = {'smtp': 21, 'dict': 2628,'svn': 3690, 'ircd': 6667, 'zope': 9673}\n",
    "e = {'ircd': 6667, 'zope': 9673,'smtp': 21, 'dict': 2628, 'svn': 3690}\n",
    "\n",
    "print(d == e,\"\\n\", d.keys(),\"\\n\", e.keys())"
   ]
  },
  {
   "cell_type": "markdown",
   "metadata": {},
   "source": [
    "### Consequence 3\n",
    "\n",
    "<p style=\"color:blue; text-align:left; font-family:times,serif; font-size:15pt; font-style:italic; line-height:1.\"> \n",
    "Lookup algorithm is more complicated than \"hash, truncate, look\". Until an empty spot is found, keep looking.\n",
    "</p>\n",
    "<br>"
   ]
  },
  {
   "cell_type": "code",
   "execution_count": 116,
   "metadata": {
    "collapsed": false
   },
   "outputs": [
    {
     "name": "stdout",
     "output_type": "stream",
     "text": [
      "101\n"
     ]
    },
    {
     "ename": "KeyError",
     "evalue": "'sdz'",
     "output_type": "error",
     "traceback": [
      "\u001b[1;31m---------------------------------------------------------------------------\u001b[0m",
      "\u001b[1;31mKeyError\u001b[0m                                  Traceback (most recent call last)",
      "\u001b[1;32m<ipython-input-116-24d6c2161d10>\u001b[0m in \u001b[0;36m<module>\u001b[1;34m()\u001b[0m\n\u001b[0;32m      1\u001b[0m \u001b[0mprint\u001b[0m\u001b[1;33m(\u001b[0m\u001b[0mbits\u001b[0m\u001b[1;33m(\u001b[0m\u001b[0mhash\u001b[0m\u001b[1;33m(\u001b[0m\u001b[1;34m\"sdz\"\u001b[0m\u001b[1;33m)\u001b[0m\u001b[1;33m)\u001b[0m\u001b[1;33m[\u001b[0m\u001b[1;33m-\u001b[0m\u001b[1;36m3\u001b[0m\u001b[1;33m:\u001b[0m\u001b[1;33m]\u001b[0m\u001b[1;33m)\u001b[0m\u001b[1;33m\u001b[0m\u001b[0m\n\u001b[1;32m----> 2\u001b[1;33m \u001b[0md\u001b[0m\u001b[1;33m[\u001b[0m\u001b[1;34m'sdz'\u001b[0m\u001b[1;33m]\u001b[0m\u001b[1;33m\u001b[0m\u001b[0m\n\u001b[0m",
      "\u001b[1;31mKeyError\u001b[0m: 'sdz'"
     ]
    }
   ],
   "source": [
    "print(bits(hash(\"sdz\"))[-3:])\n",
    "d['sdz']"
   ]
  },
  {
   "cell_type": "markdown",
   "metadata": {},
   "source": [
    "<img src=\"HashTable5.png\" />"
   ]
  },
  {
   "cell_type": "markdown",
   "metadata": {},
   "source": [
    "### Consequence 4 & 5\n",
    "\n",
    "<p style=\"text-align:left; font-family:times,serif; font-size:15pt; font-style:italic; line-height:2.0\">\n",
    "<font color ='red'> Not all lookups are created equal<br> </p>\n",
    "\n",
    "<p style=\"text-align:left; font-family:times,serif; font-size:15pt; font-style:italic; line-height:1.0\">\n",
    "<font color ='blue'> When deleting a key, need to leave <b>dummy</b> keys. Otherwise any key that collided with it would now be imposible to find!<br>\n",
    "</p>\n",
    "\n",
    "<img src=\"HashTable6.png\" />"
   ]
  },
  {
   "cell_type": "code",
   "execution_count": 123,
   "metadata": {
    "collapsed": false
   },
   "outputs": [
    {
     "data": {
      "text/plain": [
       "6667"
      ]
     },
     "execution_count": 123,
     "metadata": {},
     "output_type": "execute_result"
    }
   ],
   "source": [
    "d = {'smtp': 21, 'dict': 2628,'svn': 3690, 'ircd': 6667, 'zope': 9673}\n",
    "     \n",
    "del d['svn'], d['dict'], d['zope']\n",
    "d['ircd'] #requires 4 steps to find it "
   ]
  },
  {
   "cell_type": "markdown",
   "metadata": {},
   "source": [
    "<img src=\"HashTable7.png\" />"
   ]
  },
  {
   "cell_type": "markdown",
   "metadata": {},
   "source": [
    "## Dicts refuse to get full\n",
    "\n",
    "<p style=\"color:blue; text-align:left; font-family:times,serif; font-size:15pt; font-style:italic; line-height:1.0\">\n",
    "To keep collisions rare, dicts resize when $\\frac{2}{3}$ full.\n",
    "</p>\n",
    "<img src=\"HashTable8.png\" />"
   ]
  },
  {
   "cell_type": "markdown",
   "metadata": {},
   "source": [
    "### Consequence 6\n",
    "\n",
    "<p style=\"color:blue; text-align:left; font-family:times,serif; font-size:15pt; font-style:italic; line-height:2.0\">\n",
    "On Average dictionary performace is excellant<br> </p>\n",
    "\n"
   ]
  },
  {
   "cell_type": "code",
   "execution_count": null,
   "metadata": {
    "collapsed": true
   },
   "outputs": [],
   "source": []
  }
 ],
 "metadata": {
  "kernelspec": {
   "display_name": "Python 3",
   "language": "python",
   "name": "python3"
  },
  "language_info": {
   "codemirror_mode": {
    "name": "ipython",
    "version": 3
   },
   "file_extension": ".py",
   "mimetype": "text/x-python",
   "name": "python",
   "nbconvert_exporter": "python",
   "pygments_lexer": "ipython3",
   "version": "3.4.3"
  }
 },
 "nbformat": 4,
 "nbformat_minor": 0
}
