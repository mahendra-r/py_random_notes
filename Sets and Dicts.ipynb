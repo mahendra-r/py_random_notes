{
 "cells": [
  {
   "cell_type": "markdown",
   "metadata": {},
   "source": [
    "# Sets and Dictinonaries"
   ]
  },
  {
   "cell_type": "markdown",
   "metadata": {},
   "source": [
    "## Set\n",
    "\n",
    "Set is an unordered collection of distinct items. The keywords here are 'unordered','collection' and 'distinct'. A set contains zero or more values and cannot hold a duplicate copy of any item/s."
   ]
  },
  {
   "cell_type": "markdown",
   "metadata": {},
   "source": [
    "### Set creation"
   ]
  },
  {
   "cell_type": "code",
   "execution_count": 204,
   "metadata": {
    "collapsed": false
   },
   "outputs": [
    {
     "name": "stdout",
     "output_type": "stream",
     "text": [
      "[{1, 2, 3, 4, 5}, {1, 2, 3, 4, 5}, {1, 2, 3, 4, 5}, {1, 2, 3, 4, 5}, {'a', 'o', 'u', 'e', 'i'}, {'a', 'o', 'u', 'e', 'i'}, {'a', 'o', 'u', 'e', 'i'}, {'aeiou'}, {}, set()]\n"
     ]
    }
   ],
   "source": [
    "s1 = set([1,2,3,4,5])\n",
    "s2 = set({1,2,3,4,5})\n",
    "s3 = ({1,2,3,4,5})\n",
    "s4 = {1,2,3,4,5}\n",
    "\n",
    "#string\n",
    "s5 = {'a','e', 'i', 'o', 'u'}\n",
    "s7 = set(\"aeiou\")\n",
    "s8 = set([\"aeiou\"])\n",
    "\n",
    "'''\n",
    "error_sets = {[\"aeiou\"]}\n",
    "error_sets = set('a','e', 'i', 'o', 'u')\n",
    "\n",
    "Notice the difference between using set() and {} !!!\n",
    "'''\n",
    "\n",
    "#empty set\n",
    "s9 = {}\n",
    "s10 = set()\n",
    "\n",
    "\n",
    "sets = [eval(\"s\"+str(i)) for i in range(1,11)]\n",
    "print(\"{}\".format(sets))"
   ]
  },
  {
   "cell_type": "code",
   "execution_count": 205,
   "metadata": {
    "collapsed": false
   },
   "outputs": [
    {
     "name": "stdout",
     "output_type": "stream",
     "text": [
      "{'a', 'T', 'm', 'g', 'n', 'r', 's', 'l', 'd', 'p', 't', 'q', 'i', 'v', 'b', 'y', 'k', 'u', 'e', 'j', 'c', 'w', 'z', ' ', 'o', 'x', 'h', 'f'}\n",
      "{'a', 'm', 'g', 'n', 'r', 's', 'l', 'd', 'p', 't', 'q', 'i', 'b', 'v', 'y', 'k', 'u', 'e', 'j', 'c', 'w', 'z', ' ', 'o', 'x', 'h', 'f'}\n"
     ]
    }
   ],
   "source": [
    "pangram = \"The quick brown fox jumps over the lazy dog\"\n",
    "\n",
    "print(\"{}\".format(set(pangram)))\n",
    "\n",
    "alphabets = {x.lower() for x in pangram}\n",
    "print(\"{}\".format(alphabets))"
   ]
  },
  {
   "cell_type": "markdown",
   "metadata": {},
   "source": [
    "### Modify elements"
   ]
  },
  {
   "cell_type": "code",
   "execution_count": 206,
   "metadata": {
    "collapsed": false
   },
   "outputs": [
    {
     "name": "stdout",
     "output_type": "stream",
     "text": [
      "{1, 3, 5, 7, 8}\n"
     ]
    }
   ],
   "source": [
    "real = set(range(10))\n",
    "evens = set([x for x in real if x%2 == 0])\n",
    "odds = set([x for x in real if x&1 == 1])\n",
    "\n",
    "\n",
    "odds.clear()\n",
    "odds = set([x for x in real if x&1 == 1])\n",
    "\n",
    "\n",
    "odds.add(9) #adds 1 element\n",
    "odds.update({8,9}) #updates with a set of elements\n",
    "odds.remove(9)\n",
    "\n",
    "print(odds)"
   ]
  },
  {
   "cell_type": "code",
   "execution_count": 207,
   "metadata": {
    "collapsed": false
   },
   "outputs": [
    {
     "data": {
      "text/plain": [
       "{0, 2, 4, 6}"
      ]
     },
     "execution_count": 207,
     "metadata": {},
     "output_type": "execute_result"
    }
   ],
   "source": [
    "evens.difference(odds)"
   ]
  },
  {
   "cell_type": "code",
   "execution_count": 208,
   "metadata": {
    "collapsed": false
   },
   "outputs": [
    {
     "data": {
      "text/plain": [
       "False"
      ]
     },
     "execution_count": 208,
     "metadata": {},
     "output_type": "execute_result"
    }
   ],
   "source": [
    "evens."
   ]
  },
  {
   "cell_type": "code",
   "execution_count": 209,
   "metadata": {
    "collapsed": false
   },
   "outputs": [
    {
     "name": "stdout",
     "output_type": "stream",
     "text": [
      "/home/mahi/MEGA/Programming/Python/dictonaries\r\n"
     ]
    }
   ],
   "source": [
    "!pwd"
   ]
  },
  {
   "cell_type": "code",
   "execution_count": null,
   "metadata": {
    "collapsed": true
   },
   "outputs": [],
   "source": []
  },
  {
   "cell_type": "code",
   "execution_count": null,
   "metadata": {
    "collapsed": true
   },
   "outputs": [],
   "source": []
  },
  {
   "cell_type": "code",
   "execution_count": null,
   "metadata": {
    "collapsed": true
   },
   "outputs": [],
   "source": []
  },
  {
   "cell_type": "code",
   "execution_count": null,
   "metadata": {
    "collapsed": true
   },
   "outputs": [],
   "source": []
  },
  {
   "cell_type": "code",
   "execution_count": null,
   "metadata": {
    "collapsed": true
   },
   "outputs": [],
   "source": []
  },
  {
   "cell_type": "code",
   "execution_count": null,
   "metadata": {
    "collapsed": true
   },
   "outputs": [],
   "source": []
  },
  {
   "cell_type": "code",
   "execution_count": null,
   "metadata": {
    "collapsed": true
   },
   "outputs": [],
   "source": []
  },
  {
   "cell_type": "code",
   "execution_count": null,
   "metadata": {
    "collapsed": true
   },
   "outputs": [],
   "source": []
  },
  {
   "cell_type": "code",
   "execution_count": null,
   "metadata": {
    "collapsed": true
   },
   "outputs": [],
   "source": []
  },
  {
   "cell_type": "code",
   "execution_count": null,
   "metadata": {
    "collapsed": true
   },
   "outputs": [],
   "source": []
  },
  {
   "cell_type": "code",
   "execution_count": null,
   "metadata": {
    "collapsed": true
   },
   "outputs": [],
   "source": []
  },
  {
   "cell_type": "code",
   "execution_count": null,
   "metadata": {
    "collapsed": true
   },
   "outputs": [],
   "source": []
  },
  {
   "cell_type": "code",
   "execution_count": null,
   "metadata": {
    "collapsed": true
   },
   "outputs": [],
   "source": []
  },
  {
   "cell_type": "code",
   "execution_count": null,
   "metadata": {
    "collapsed": true
   },
   "outputs": [],
   "source": []
  },
  {
   "cell_type": "code",
   "execution_count": null,
   "metadata": {
    "collapsed": true
   },
   "outputs": [],
   "source": []
  },
  {
   "cell_type": "code",
   "execution_count": null,
   "metadata": {
    "collapsed": true
   },
   "outputs": [],
   "source": []
  },
  {
   "cell_type": "code",
   "execution_count": null,
   "metadata": {
    "collapsed": true
   },
   "outputs": [],
   "source": []
  },
  {
   "cell_type": "code",
   "execution_count": null,
   "metadata": {
    "collapsed": true
   },
   "outputs": [],
   "source": []
  },
  {
   "cell_type": "code",
   "execution_count": null,
   "metadata": {
    "collapsed": true
   },
   "outputs": [],
   "source": []
  },
  {
   "cell_type": "code",
   "execution_count": null,
   "metadata": {
    "collapsed": true
   },
   "outputs": [],
   "source": []
  },
  {
   "cell_type": "code",
   "execution_count": null,
   "metadata": {
    "collapsed": true
   },
   "outputs": [],
   "source": []
  },
  {
   "cell_type": "code",
   "execution_count": null,
   "metadata": {
    "collapsed": true
   },
   "outputs": [],
   "source": []
  },
  {
   "cell_type": "markdown",
   "metadata": {},
   "source": [
    "## Dictonaries"
   ]
  },
  {
   "cell_type": "markdown",
   "metadata": {},
   "source": [
    "**Dict** are hash tables with *key* as index.\n",
    "\n",
    "Dict supports three forms of initialization. Its constructor can be called with a sequence of items, a dictionary containing keys and counts, or using keyword arguments mapping string names to counts."
   ]
  },
  {
   "cell_type": "code",
   "execution_count": null,
   "metadata": {
    "collapsed": true
   },
   "outputs": [],
   "source": [
    "eg_dict = dict(one=[1], two=[2,2], three=[3,3,3])\n",
    "\n",
    "eg_dict1 = {'one':[1],\n",
    "            'two':[2,2],\n",
    "            'three':[3,3,3]\n",
    "           }\n",
    "\n",
    "eg_dict2 = {}\n",
    "eg_dict2['one'] = [1]\n",
    "eg_dict2['two'] = [2,2]\n",
    "eg_dict2['three'] = [3,3,3]"
   ]
  },
  {
   "cell_type": "code",
   "execution_count": null,
   "metadata": {
    "collapsed": false
   },
   "outputs": [],
   "source": [
    "d = {\"a\":[1,2,3],\n",
    "     \"b\":[4,5,6],\n",
    "     \"c\":[4,6,8]\n",
    "    }"
   ]
  },
  {
   "cell_type": "markdown",
   "metadata": {},
   "source": [
    "#### Common operations"
   ]
  },
  {
   "cell_type": "code",
   "execution_count": null,
   "metadata": {
    "collapsed": false
   },
   "outputs": [],
   "source": [
    "len(d), d['a'], d.keys(), d.values(), d.items()"
   ]
  },
  {
   "cell_type": "markdown",
   "metadata": {},
   "source": [
    "#### Verifying the key"
   ]
  },
  {
   "cell_type": "code",
   "execution_count": null,
   "metadata": {
    "collapsed": false
   },
   "outputs": [],
   "source": [
    "#Does the dictonary \"d\" have a key 'a'\n",
    "'a' in d, 'd' in d, 'd' not in d"
   ]
  },
  {
   "cell_type": "code",
   "execution_count": null,
   "metadata": {
    "collapsed": false
   },
   "outputs": [],
   "source": [
    "eg_dict1.update(d)\n",
    "eg_dict1"
   ]
  },
  {
   "cell_type": "markdown",
   "metadata": {},
   "source": [
    "#### Accessing the keys / values"
   ]
  },
  {
   "cell_type": "code",
   "execution_count": null,
   "metadata": {
    "collapsed": false
   },
   "outputs": [],
   "source": [
    "d['a'], d['a'][1:]"
   ]
  },
  {
   "cell_type": "code",
   "execution_count": null,
   "metadata": {
    "collapsed": false
   },
   "outputs": [],
   "source": [
    "\"\"\"\n",
    ".get('key', 'vlaues')\n",
    "Return the previously set 'values' of the 'key' if 'key' is present\n",
    "Set a default value if the key is not found in the existing dict\n",
    "    Note: this does not update an existing dict\n",
    "\"\"\"\n",
    "\n",
    "d.get('a', 'int, float, text, list'), d.get('dt', ['Key not found','int|float|text|list'])"
   ]
  },
  {
   "cell_type": "markdown",
   "metadata": {},
   "source": [
    "#### Modifying the dict"
   ]
  },
  {
   "cell_type": "code",
   "execution_count": null,
   "metadata": {
    "collapsed": false
   },
   "outputs": [],
   "source": [
    "d.update({'dt': ['foo, bar'], 'del_this':['delete','these','values']})\n",
    "\n",
    "del(d['del_this']) #deletes key and values\n",
    "d['del_this'] = ['delete','these','values'] # adds key and values\n",
    "\n",
    "d"
   ]
  },
  {
   "cell_type": "code",
   "execution_count": null,
   "metadata": {
    "collapsed": false
   },
   "outputs": [],
   "source": [
    "keys = d.keys()\n",
    "keys_sorted = sorted(keys)\n",
    "\n",
    "for key in keys:\n",
    "    print(key)\n",
    "\n",
    "print(\"*****\")\n",
    "\n",
    "for key,value in sorted(d.items()):\n",
    "    print(\"{}--> {}\".format(key, value))"
   ]
  },
  {
   "cell_type": "markdown",
   "metadata": {},
   "source": [
    "### Default dict\n",
    "\n",
    "A dict will raise a KeyError if the input key is absent\n",
    "\n",
    "\n",
    "Note: defaultdict is very very differnet from $\\texttt{.get()}$ method. $\\texttt{.get}$ compares against existing dictonary and returns a default value if the expected/input key is not present "
   ]
  },
  {
   "cell_type": "code",
   "execution_count": null,
   "metadata": {
    "collapsed": false
   },
   "outputs": [],
   "source": [
    "a_dict = {\"a\":[1,2,3],\n",
    "          \"b\":[4,5,6],\n",
    "          \"c\":[4,6,8],\n",
    "          \"b\":[5,6,7]\n",
    "         }\n",
    "#duplicate keys are overwritten"
   ]
  },
  {
   "cell_type": "code",
   "execution_count": null,
   "metadata": {
    "collapsed": true
   },
   "outputs": [],
   "source": [
    "from collections import defaultdict"
   ]
  },
  {
   "cell_type": "code",
   "execution_count": null,
   "metadata": {
    "collapsed": false
   },
   "outputs": [],
   "source": [
    "a_def_dict = defaultdict(lambda: 'text', key=\"some_value\")\n",
    "\n",
    "for k,v in a_dict.items():\n",
    "    a_def_dict[k] = v\n",
    "\n",
    "a_def_dict, a_def_dict['b'], a_def_dict['x']"
   ]
  },
  {
   "cell_type": "code",
   "execution_count": null,
   "metadata": {
    "collapsed": false
   },
   "outputs": [],
   "source": [
    "a_def_dict = defaultdict(list) #initialization can be 'int | float'\n",
    "a_def_dict = defaultdict(lambda: defaultdict(lambda: list))\n",
    "\n",
    "for k,v in a_dict.items():\n",
    "    a_def_dict[k] = v\n",
    "\n",
    "a_def_dict, a_def_dict['b'], a_def_dict['x']"
   ]
  },
  {
   "cell_type": "markdown",
   "metadata": {},
   "source": [
    "## Iterating a *Dictonary*"
   ]
  },
  {
   "cell_type": "code",
   "execution_count": null,
   "metadata": {
    "collapsed": false
   },
   "outputs": [],
   "source": [
    "for k,v in a_def_dict.items():\n",
    "    print(\"{}->{}\".format(k,v))\n",
    "\n",
    "#onlinener\n",
    "[print(\"\\n{}->{}\".format(k,v)) for k,v in a_def_dict.items()]"
   ]
  },
  {
   "cell_type": "code",
   "execution_count": null,
   "metadata": {
    "collapsed": true
   },
   "outputs": [],
   "source": []
  },
  {
   "cell_type": "markdown",
   "metadata": {},
   "source": [
    "## Inverting a dictionary"
   ]
  },
  {
   "cell_type": "code",
   "execution_count": null,
   "metadata": {
    "collapsed": false
   },
   "outputs": [],
   "source": [
    "m = {'a': 1, 'b': 2, 'c': 3, 'd': 4}\n",
    "\n",
    "m_inv = dict(zip(m.values(), m.keys()))\n",
    "m_inv"
   ]
  },
  {
   "cell_type": "code",
   "execution_count": null,
   "metadata": {
    "collapsed": false
   },
   "outputs": [],
   "source": [
    "m = {x: x ** 2 for x in range(5)}\n",
    "m = {x: 'A' + str(x) for x in range(10)}\n",
    "print(m)\n",
    "{v: k for k, v in m.items()}"
   ]
  },
  {
   "cell_type": "markdown",
   "metadata": {},
   "source": [
    "## Trees"
   ]
  },
  {
   "cell_type": "code",
   "execution_count": null,
   "metadata": {
    "collapsed": false
   },
   "outputs": [],
   "source": [
    "import json\n",
    "tree = lambda: defaultdict(tree)\n",
    "root = tree()\n",
    "root['menu']['id'] = 'file'\n",
    "root['menu']['value'] = 'File'\n",
    "root['menu']['menuitems']['new']['value'] = 'New'\n",
    "root['menu']['menuitems']['new']['onclick'] = 'new();'\n",
    "root['menu']['menuitems']['open']['value'] = 'Open'\n",
    "root['menu']['menuitems']['open']['onclick'] = 'open();'\n",
    "root['menu']['menuitems']['close']['value'] = 'Close'\n",
    "root['menu']['menuitems']['close']['onclick'] = 'close();'\n",
    "\n",
    "print(json.dumps(root, sort_keys=True, indent=4, separators=(',', ': ')))"
   ]
  },
  {
   "cell_type": "markdown",
   "metadata": {},
   "source": [
    "### collections.Counter\n",
    "\n",
    "**Counter** keeps track of how many times equivalent values are added.\n",
    "\n",
    "Counter supports three forms of initialization. Its constructor can be called with a:\n",
    "    \n",
    "    * sequence of items, \n",
    "    * dictionary containing keys and counts,\n",
    "    * using keyword arguments mapping string names to counts."
   ]
  },
  {
   "cell_type": "code",
   "execution_count": null,
   "metadata": {
    "collapsed": true
   },
   "outputs": [],
   "source": [
    "from collections import Counter"
   ]
  },
  {
   "cell_type": "code",
   "execution_count": null,
   "metadata": {
    "collapsed": false
   },
   "outputs": [],
   "source": [
    "print(Counter(['a', 'b', 'c', 'a', 'b', 'b']))\n",
    "print(Counter({'a':2, 'b':3, 'c':1}))\n",
    "print(Counter(a=2, b=3, c=1))"
   ]
  },
  {
   "cell_type": "code",
   "execution_count": null,
   "metadata": {
    "collapsed": true
   },
   "outputs": [],
   "source": []
  }
 ],
 "metadata": {
  "kernelspec": {
   "display_name": "Python 3",
   "language": "python",
   "name": "python3"
  },
  "language_info": {
   "codemirror_mode": {
    "name": "ipython",
    "version": 3
   },
   "file_extension": ".py",
   "mimetype": "text/x-python",
   "name": "python",
   "nbconvert_exporter": "python",
   "pygments_lexer": "ipython3",
   "version": "3.4.3"
  }
 },
 "nbformat": 4,
 "nbformat_minor": 0
}
