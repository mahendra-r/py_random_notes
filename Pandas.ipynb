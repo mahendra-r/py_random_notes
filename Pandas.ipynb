{
 "cells": [
  {
   "cell_type": "markdown",
   "metadata": {},
   "source": [
    "# Pandas Tutorial\n",
    "\n",
    "\n",
    "<em> <p style = \"text-indent:10em\"> adapted from .....  Brandon Rhodes, PyCon15 </p> </em>"
   ]
  },
  {
   "cell_type": "markdown",
   "metadata": {},
   "source": [
    "[GitHub](https://github.com/brandon-rhodes/pycon-pandas-tutorial.git)\n",
    "\n",
    "\n",
    "[Data](pages.stern.nyu.edu/~dbackus/csv/)\n",
    "\n",
    "\n",
    "[Pandas API](http://pandas.pydata.org/pandas-docs/stable/api.html)"
   ]
  },
  {
   "cell_type": "code",
   "execution_count": null,
   "metadata": {
    "collapsed": false
   },
   "outputs": [],
   "source": [
    "%matplotlib inline\n",
    "\n",
    "import random\n",
    "import numpy as np\n",
    "import pandas as pd\n",
    "\n",
    "import seaborn\n",
    "\n",
    "# pd display option\n",
    "pd.options.display.max_columns = 6\n",
    "pd.options.display.max_rows = 25\n",
    "\n",
    "from IPython.core.display import HTML\n",
    "\n",
    "css = open('style-table.css').read() #+ open('custom.css').read()\n",
    "HTML('<style>{}</style>'.format(css))\n"
   ]
  },
  {
   "cell_type": "markdown",
   "metadata": {},
   "source": [
    "## Data format\n",
    "[series](#Series)\n",
    "\n",
    "Series are list/1D array like objects"
   ]
  },
  {
   "cell_type": "code",
   "execution_count": null,
   "metadata": {
    "collapsed": false
   },
   "outputs": [],
   "source": [
    "s = pd.Series([1,2,3,4,5])\n",
    "s"
   ]
  },
  {
   "cell_type": "markdown",
   "metadata": {},
   "source": [
    "[DataFrame](#DataFrame)\n",
    "\n",
    "DataFrames are dict/multi dimensional array like objects "
   ]
  },
  {
   "cell_type": "code",
   "execution_count": null,
   "metadata": {
    "collapsed": false
   },
   "outputs": [],
   "source": [
    "titles = pd.DataFrame.from_csv(\n",
    "    'pycon-pandas-tutorial/titles.csv', \n",
    "    index_col = None, \n",
    "    encoding = 'utf-8')\n",
    "titles"
   ]
  },
  {
   "cell_type": "markdown",
   "metadata": {},
   "source": [
    "You may see some glitch in the notebook whenever a cell with existing ouput is ran. When a cell is executed (Shift/Ctrl+Enter), Ipython notebook discards the existing output. DOM of the browser kicks in clearing the bottom screen and scrolls up, since there is no need for that extra blank space. Ipython then produces a new output which falls below the view scope."
   ]
  },
  {
   "cell_type": "code",
   "execution_count": null,
   "metadata": {
    "collapsed": false
   },
   "outputs": [],
   "source": [
    "titles.loc[214579:214582, 'year']"
   ]
  },
  {
   "cell_type": "code",
   "execution_count": null,
   "metadata": {
    "collapsed": false
   },
   "outputs": [],
   "source": [
    "titles.iloc[214579:214582] #location by index"
   ]
  },
  {
   "cell_type": "markdown",
   "metadata": {},
   "source": [
    "## head and tail \n",
    "\n",
    "slices and creates a new DataFrame"
   ]
  },
  {
   "cell_type": "code",
   "execution_count": null,
   "metadata": {
    "collapsed": false
   },
   "outputs": [],
   "source": [
    "h = titles.head(20)\n",
    "h"
   ]
  },
  {
   "cell_type": "markdown",
   "metadata": {},
   "source": [
    "# Series\n",
    "\n",
    "## Filtering by Rows & Columns"
   ]
  },
  {
   "cell_type": "code",
   "execution_count": null,
   "metadata": {
    "collapsed": false
   },
   "outputs": [],
   "source": [
    "h['title']\n",
    "h.title"
   ]
  },
  {
   "cell_type": "code",
   "execution_count": null,
   "metadata": {
    "collapsed": false
   },
   "outputs": [],
   "source": [
    "h[['title', 'year']] \n",
    "# Note the [] inside [];  returns only the chosen colums"
   ]
  },
  {
   "cell_type": "code",
   "execution_count": null,
   "metadata": {
    "collapsed": false
   },
   "outputs": [],
   "source": [
    "h.ix[0:4]"
   ]
  },
  {
   "cell_type": "markdown",
   "metadata": {},
   "source": [
    "## Operations\n",
    "\n",
    "Any mathermatical operations can be performed on a **Series**"
   ]
  },
  {
   "cell_type": "code",
   "execution_count": null,
   "metadata": {
    "collapsed": false
   },
   "outputs": [],
   "source": [
    "h['year'] // 10 + 1000"
   ]
  },
  {
   "cell_type": "code",
   "execution_count": null,
   "metadata": {
    "collapsed": false
   },
   "outputs": [],
   "source": [
    "# Comparison operator returns boolean (True|False)\n",
    "after2000 = h['year'] > 2000\n",
    "after2000"
   ]
  },
  {
   "cell_type": "code",
   "execution_count": null,
   "metadata": {
    "collapsed": false
   },
   "outputs": [],
   "source": [
    "h[h['year'] < 1985]\n",
    "\n",
    "#The output of the Series (boolean) is fed into the DataFrame. \n",
    "#Only the True values of DF is returned"
   ]
  },
  {
   "cell_type": "code",
   "execution_count": null,
   "metadata": {
    "collapsed": false
   },
   "outputs": [],
   "source": [
    "#Is any|all element True over requested axis\n",
    "\n",
    "after2000.any(), after2000.all()"
   ]
  },
  {
   "cell_type": "markdown",
   "metadata": {},
   "source": [
    "### Gotcha1\n",
    "\n",
    "`h[h['year'] < 1985 and h['year'] >= 1990]` will throw an Exception error: The truth value of a Series is ambiguous.\n",
    "\n",
    "`and` in this scenario proceeds by two steps: \n",
    "    \n",
    "    STEP1: Compare the left argument \n",
    "    `h['year'] < 1985` to be True or False.\n",
    "    \n",
    "    STEP2: Move on and compare right argument \n",
    "    `h['year'] >= 1990`.\n",
    "\n",
    "`and` can compare only single value not a Series/list of values.\n",
    "\n",
    "#### Solution\n",
    "\n",
    "**`&`** is a bitwise opertor of `and`. It can compare a list of bits against other.\n",
    "\n",
    "The only problem is operator precedence (PEMDAS :)). For an input \n",
    "\n",
    "<pre><code>`h[h['year'] < 1985 & h['year'] >= 1990]` </code></pre>\n",
    "\n",
    "\n",
    "**`&`** first compares '1990' and 'h.year' first and then compares the outer. So use `()` to order the operator precedence."
   ]
  },
  {
   "cell_type": "code",
   "execution_count": null,
   "metadata": {
    "collapsed": false
   },
   "outputs": [],
   "source": [
    "h[(h['year'] < 1990) & (h['year'] <= 1971)]\n",
    "h[(h['year'] < 1990) | (h['year'] <= 1971)]"
   ]
  },
  {
   "cell_type": "markdown",
   "metadata": {},
   "source": [
    "### Gotcha2\n",
    "\n",
    "**evaluating != assigning**\n",
    "<pre><code>\n",
    "x = 10; h = titles.head(10)\n",
    "x + 10; h[h.year > 1980]\n",
    "x     ; h  \n",
    "</pre> </code>\n",
    "\n",
    "x is still 10 ! 20 ; h is still `titles.head(10)`"
   ]
  },
  {
   "cell_type": "markdown",
   "metadata": {},
   "source": [
    "### Gotcha3\n",
    "\n",
    "**variables are just 'labels'**\n",
    "\n",
    "    x = pd.Series([1,2,3,4])\n",
    "    y = x\n",
    "    y[0] = 2000\n",
    "    x"
   ]
  },
  {
   "cell_type": "code",
   "execution_count": null,
   "metadata": {
    "collapsed": false
   },
   "outputs": [],
   "source": [
    "x = pd.Series([1,2,3,4])\n",
    "y = x\n",
    "y[0] = 2000\n",
    "x"
   ]
  },
  {
   "cell_type": "markdown",
   "metadata": {},
   "source": [
    "## copy"
   ]
  },
  {
   "cell_type": "code",
   "execution_count": null,
   "metadata": {
    "collapsed": false
   },
   "outputs": [],
   "source": [
    "x = pd.Series([1,2,3,4])\n",
    "y = x\n",
    "x = y.copy()\n",
    "y[0] = 2000\n",
    "x"
   ]
  },
  {
   "cell_type": "markdown",
   "metadata": {},
   "source": [
    "## Ordering / Sorting\n",
    "\n",
    "`order` a Series, `sort` a DataFrame "
   ]
  },
  {
   "cell_type": "code",
   "execution_count": null,
   "metadata": {
    "collapsed": false,
    "scrolled": false
   },
   "outputs": [],
   "source": [
    "h['year'].order()"
   ]
  },
  {
   "cell_type": "markdown",
   "metadata": {},
   "source": [
    "see [Gotcha4](### Gotcha4)"
   ]
  },
  {
   "cell_type": "markdown",
   "metadata": {},
   "source": [
    "## apply,  map, drop\n",
    "\n",
    "`apply` works on a row / column basis of a DataFrame, \n",
    "\n",
    "`applymap` works element-wise on a DataFrame, \n",
    "\n",
    "`map` works element-wise on a Series."
   ]
  },
  {
   "cell_type": "code",
   "execution_count": null,
   "metadata": {
    "collapsed": false
   },
   "outputs": [],
   "source": [
    "h.ix[5:10] #h.head(5:10) !!!!"
   ]
  },
  {
   "cell_type": "code",
   "execution_count": null,
   "metadata": {
    "collapsed": true
   },
   "outputs": [],
   "source": [
    "def f(x):\n",
    "    if x >= 1950:\n",
    "        return str(\"19th Century\")\n",
    "    else:\n",
    "        return str(\"20th Century\")"
   ]
  },
  {
   "cell_type": "code",
   "execution_count": null,
   "metadata": {
    "collapsed": false
   },
   "outputs": [],
   "source": [
    "df = h.copy()\n",
    "df['Century'] = h[\"year\"].apply(f)\n",
    "df.ix[5:10]"
   ]
  },
  {
   "cell_type": "code",
   "execution_count": null,
   "metadata": {
    "collapsed": false
   },
   "outputs": [],
   "source": [
    "dec = lambda x: x // 10*10\n",
    "df['decade'] = df['year'].map(dec)\n",
    "\n",
    "df = df.drop('Century', axis=1) #axis = 0 is rowwise operation.\n",
    "df.ix[5:10]"
   ]
  },
  {
   "cell_type": "markdown",
   "metadata": {},
   "source": [
    "## Freq and Plot"
   ]
  },
  {
   "cell_type": "code",
   "execution_count": null,
   "metadata": {
    "collapsed": false
   },
   "outputs": [],
   "source": [
    "#value_counts of a Series returns the frequency.\n",
    "df.decade.value_counts().head(10)"
   ]
  },
  {
   "cell_type": "markdown",
   "metadata": {},
   "source": [
    "### Gotcha4\n",
    "\n",
    "The resulting Series will be sorted  by *values*. \n",
    "\n",
    "\n",
    "If we have a Series with *index* and *values*, we can use `.plot()` to vizualise."
   ]
  },
  {
   "cell_type": "code",
   "execution_count": null,
   "metadata": {
    "collapsed": false
   },
   "outputs": [],
   "source": [
    "titles.year.value_counts().sort_index().plot()"
   ]
  },
  {
   "cell_type": "code",
   "execution_count": null,
   "metadata": {
    "collapsed": false
   },
   "outputs": [],
   "source": [
    "cast = pd.DataFrame.from_csv(\n",
    "    'pycon-pandas-tutorial/cast.csv',\n",
    "    index_col = None,\n",
    "    encoding = 'utf-8')\n",
    "cast.head(10)"
   ]
  },
  {
   "cell_type": "code",
   "execution_count": null,
   "metadata": {
    "collapsed": false
   },
   "outputs": [],
   "source": [
    "c = cast\n",
    "c = c[c.character == 'Bosco']\n",
    "c.plot(x='year', y='n', kind='scatter')"
   ]
  },
  {
   "cell_type": "code",
   "execution_count": null,
   "metadata": {
    "collapsed": true
   },
   "outputs": [],
   "source": []
  },
  {
   "cell_type": "markdown",
   "metadata": {},
   "source": [
    "# DataFrame"
   ]
  },
  {
   "cell_type": "code",
   "execution_count": null,
   "metadata": {
    "collapsed": false
   },
   "outputs": [],
   "source": [
    "cast = pd.DataFrame.from_csv(\n",
    "    'pycon-pandas-tutorial/cast.csv',\n",
    "    index_col = None,\n",
    "    encoding = 'utf-8')\n",
    "cast.head(10)"
   ]
  },
  {
   "cell_type": "code",
   "execution_count": null,
   "metadata": {
    "collapsed": false
   },
   "outputs": [],
   "source": [
    "len(cast), list(cast)"
   ]
  },
  {
   "cell_type": "code",
   "execution_count": null,
   "metadata": {
    "collapsed": false
   },
   "outputs": [],
   "source": [
    "c = cast.head(10)\n",
    "c = c[c.n.isnull()] #.notnull()\n",
    "c[c.name == \"Too $hort\"]"
   ]
  },
  {
   "cell_type": "markdown",
   "metadata": {},
   "source": [
    "## Index / Indices\n",
    "\n",
    "Organise and fast access of data "
   ]
  },
  {
   "cell_type": "code",
   "execution_count": null,
   "metadata": {
    "collapsed": false
   },
   "outputs": [],
   "source": [
    "cast.head()"
   ]
  },
  {
   "cell_type": "code",
   "execution_count": null,
   "metadata": {
    "collapsed": false
   },
   "outputs": [],
   "source": [
    "%%time \n",
    "#timeit runs the cell four times, Avoid it\n",
    "cast[cast.title == 'Sleuth']"
   ]
  },
  {
   "cell_type": "code",
   "execution_count": null,
   "metadata": {
    "collapsed": false
   },
   "outputs": [],
   "source": [
    "c = cast.set_index(['title'])\n",
    "c.head()"
   ]
  },
  {
   "cell_type": "markdown",
   "metadata": {},
   "source": [
    "## DataFrame acts like a dict\n",
    "\n",
    "After changing the usefull column as index, the DataFrame behaves like a 'dict'.\n",
    "\n",
    "`.loc['key']` acts as dict look up. similar to `x['key']` in dict\n"
   ]
  },
  {
   "cell_type": "code",
   "execution_count": null,
   "metadata": {
    "collapsed": false
   },
   "outputs": [],
   "source": [
    "%time\n",
    "c.loc['Sleuth']"
   ]
  },
  {
   "cell_type": "markdown",
   "metadata": {},
   "source": [
    "### Trick\n",
    "An index helps if it is ordered. 'divide and conquer' alogorithm can operate fast on a sorted index"
   ]
  },
  {
   "cell_type": "code",
   "execution_count": null,
   "metadata": {
    "collapsed": false
   },
   "outputs": [],
   "source": [
    "c = cast.set_index(['title']).sort_index()\n",
    "c.head()"
   ]
  },
  {
   "cell_type": "code",
   "execution_count": null,
   "metadata": {
    "collapsed": false
   },
   "outputs": [],
   "source": [
    "%%time\n",
    "c.loc['Sleuth']"
   ]
  },
  {
   "cell_type": "markdown",
   "metadata": {},
   "source": [
    "**A DataFrame can have multiple index !!!**"
   ]
  },
  {
   "cell_type": "code",
   "execution_count": null,
   "metadata": {
    "collapsed": false
   },
   "outputs": [],
   "source": [
    "c = cast.set_index(['title', 'year']).sort_index()\n",
    "c.head()"
   ]
  },
  {
   "cell_type": "code",
   "execution_count": null,
   "metadata": {
    "collapsed": false
   },
   "outputs": [],
   "source": [
    "%%time\n",
    "#c.loc['Sleuth'].loc[2007]\n",
    "c.loc[('Sleuth', 2007)]"
   ]
  },
  {
   "cell_type": "markdown",
   "metadata": {},
   "source": [
    "## Reseting index"
   ]
  },
  {
   "cell_type": "code",
   "execution_count": null,
   "metadata": {
    "collapsed": false
   },
   "outputs": [],
   "source": [
    "c.loc[('Sleuth', 2007)].reset_index('year')"
   ]
  },
  {
   "cell_type": "code",
   "execution_count": null,
   "metadata": {
    "collapsed": false
   },
   "outputs": [],
   "source": [
    "c.loc[('Sleuth', 2007)].reset_index(['year', 'title']).set_index('type')"
   ]
  },
  {
   "cell_type": "code",
   "execution_count": null,
   "metadata": {
    "collapsed": true
   },
   "outputs": [],
   "source": []
  },
  {
   "cell_type": "markdown",
   "metadata": {},
   "source": [
    "## GroupBy"
   ]
  },
  {
   "cell_type": "code",
   "execution_count": null,
   "metadata": {
    "collapsed": false
   },
   "outputs": [],
   "source": [
    "c = cast\n",
    "c = c[c.name == 'George Clooney']\n",
    "c[c['year'] == 1999]"
   ]
  },
  {
   "cell_type": "code",
   "execution_count": null,
   "metadata": {
    "collapsed": false
   },
   "outputs": [],
   "source": [
    "c.groupby(['year']).size()"
   ]
  },
  {
   "cell_type": "code",
   "execution_count": null,
   "metadata": {
    "collapsed": false
   },
   "outputs": [],
   "source": [
    "c.groupby(['title', 'year', 'character']).size() \n",
    "\n",
    "#try .mean() . IS this automatically checking the dtype and computing mean?"
   ]
  },
  {
   "cell_type": "markdown",
   "metadata": {},
   "source": [
    "### Gotcha\n",
    "\n",
    "`c.groupby(['title', 'year', 'character']).size()` works, but `c.groupby(c['title', 'year', 'character'])` doesn't.\n",
    "`c.groupby(['title']).size()` works and `c.groupby(c['title'])` also works.\n"
   ]
  },
  {
   "cell_type": "code",
   "execution_count": null,
   "metadata": {
    "collapsed": false
   },
   "outputs": [],
   "source": [
    "c[['title', 'year', 'character']].head()"
   ]
  },
  {
   "cell_type": "code",
   "execution_count": null,
   "metadata": {
    "collapsed": false
   },
   "outputs": [],
   "source": [
    "c.groupby(['year']).size().plot(kind='bar', ylim = 0)"
   ]
  },
  {
   "cell_type": "code",
   "execution_count": null,
   "metadata": {
    "collapsed": false
   },
   "outputs": [],
   "source": [
    "#c.groupby(['year'])['n'].size()\n",
    "c.groupby(['year'])['n'].mean()"
   ]
  },
  {
   "cell_type": "markdown",
   "metadata": {},
   "source": [
    "### Trick\n",
    "\n",
    "Numpy array like operations on a DataFrame or Series\n",
    "\n",
    "    h['year'] + 100\n",
    "\n",
    "    h['year'] > 1997\n",
    "\n",
    "Trunctating division operator `//`. The first slice (`/`) does the division and the second slice (`/`) does truncates the fraction after the number.\n",
    "\n",
    "    h['year'] // 10\n",
    "\n",
    "To get decade use: \n",
    "    \n",
    "    h['year'] // 10 * 10"
   ]
  },
  {
   "cell_type": "code",
   "execution_count": null,
   "metadata": {
    "collapsed": false
   },
   "outputs": [],
   "source": [
    "c.groupby(c['year'] // 10*10).size()\n",
    "\n",
    "#Note the c['year]. First create decade and then groupby.\n",
    "#c.groupby(c['year'] > 2000).size()\n",
    "#c[c['year'] > 2000].groupby(by='year').size()\n",
    "c.groupby([c['year'] // 10*10, 'year']).size()"
   ]
  },
  {
   "cell_type": "code",
   "execution_count": null,
   "metadata": {
    "collapsed": false
   },
   "outputs": [],
   "source": [
    "c = cast.set_index(['title']).sort_index()\n",
    "c.groupby([c['year'] // 10*10, 'type']).size()"
   ]
  },
  {
   "cell_type": "raw",
   "metadata": {
    "collapsed": true
   },
   "source": []
  },
  {
   "cell_type": "markdown",
   "metadata": {
    "collapsed": true
   },
   "source": [
    "## Stack and Unstack (Pivot tables!)\n",
    "\n",
    "\n",
    "    vertical (row) = unstack (up)\n",
    "    horizont (col) = stack (side/down)\n",
    "\n",
    "Stack brings everything towards LEFT\n",
    "\n",
    "Unstack moves everything UP"
   ]
  },
  {
   "cell_type": "code",
   "execution_count": null,
   "metadata": {
    "collapsed": false
   },
   "outputs": [],
   "source": [
    "cast.unstack().unstack()"
   ]
  },
  {
   "cell_type": "code",
   "execution_count": null,
   "metadata": {
    "collapsed": false
   },
   "outputs": [],
   "source": [
    "c = cast\n",
    "c = c[(c['character'] == 'Kermit the Frog') | (c['character'] == 'Oscar the Grouch')]\n",
    "g = c.groupby(['character', c.year// 10*10]).size()\n",
    "g"
   ]
  },
  {
   "cell_type": "markdown",
   "metadata": {},
   "source": [
    "Consider the above group by output as as a **tuple** with (character, year). \n",
    "Now, unstack which ever element `(0|1)` or `('character'|'year')` as the column names."
   ]
  },
  {
   "cell_type": "code",
   "execution_count": null,
   "metadata": {
    "collapsed": false
   },
   "outputs": [],
   "source": [
    "g.unstack(1)"
   ]
  },
  {
   "cell_type": "markdown",
   "metadata": {},
   "source": [
    "#### fillna"
   ]
  },
  {
   "cell_type": "code",
   "execution_count": null,
   "metadata": {
    "collapsed": false
   },
   "outputs": [],
   "source": [
    "u = g.unstack(0).fillna(0)\n",
    "u"
   ]
  },
  {
   "cell_type": "code",
   "execution_count": null,
   "metadata": {
    "collapsed": false
   },
   "outputs": [],
   "source": [
    "diff = u['Kermit the Frog'] - u['Oscar the Grouch']\n",
    "diff"
   ]
  },
  {
   "cell_type": "code",
   "execution_count": null,
   "metadata": {
    "collapsed": false
   },
   "outputs": [],
   "source": [
    "u.stack('character')\n",
    "# can only stack by the element in top-left corner "
   ]
  },
  {
   "cell_type": "markdown",
   "metadata": {
    "collapsed": true
   },
   "source": [
    "### Trick\n",
    "\n",
    "Double unstack a series by adding a dummy column"
   ]
  },
  {
   "cell_type": "code",
   "execution_count": null,
   "metadata": {
    "collapsed": false
   },
   "outputs": [],
   "source": [
    "g.unstack().unstack()\n",
    "g"
   ]
  },
  {
   "cell_type": "code",
   "execution_count": null,
   "metadata": {
    "collapsed": false
   },
   "outputs": [],
   "source": [
    "un = g.unstack(1)\n",
    "un['dummy'] = 1\n",
    "un = un.set_index('dummy', append=True)\n",
    "un"
   ]
  },
  {
   "cell_type": "code",
   "execution_count": null,
   "metadata": {
    "collapsed": false
   },
   "outputs": [],
   "source": [
    "un.unstack(0)"
   ]
  },
  {
   "cell_type": "code",
   "execution_count": null,
   "metadata": {
    "collapsed": true
   },
   "outputs": [],
   "source": []
  },
  {
   "cell_type": "code",
   "execution_count": null,
   "metadata": {
    "collapsed": true
   },
   "outputs": [],
   "source": []
  },
  {
   "cell_type": "markdown",
   "metadata": {
    "collapsed": true
   },
   "source": [
    "# Extras"
   ]
  },
  {
   "cell_type": "code",
   "execution_count": null,
   "metadata": {
    "collapsed": false
   },
   "outputs": [],
   "source": [
    "h"
   ]
  },
  {
   "cell_type": "code",
   "execution_count": null,
   "metadata": {
    "collapsed": false
   },
   "outputs": [],
   "source": [
    "h_copy = h.copy()\n",
    "h_copy[\"rand\"] = 1\n",
    "h_copy"
   ]
  },
  {
   "cell_type": "code",
   "execution_count": null,
   "metadata": {
    "collapsed": false
   },
   "outputs": [],
   "source": [
    "h_copy[\"rand_date\"] = pd.DataFrame(np.random.randint(1, high=30,size=len(h_copy[\"rand\"])) , dtype=str)\n",
    "h_copy[\"rand_month\"] = pd.DataFrame(np.random.randint(1, high=12,size=len(h_copy[\"rand\"])), dtype=str)\n",
    "h_copy[\"rand_year\"] = pd.DataFrame(h_copy[\"year\"], dtype=str)\n",
    "\n",
    "h_copy['rand_day'] = h_copy[\"rand_date\"]+\"-\"+h_copy[\"rand_month\"]+\"-\"+h_copy[\"rand_year\"]\n",
    "\n",
    "h_copy = h_copy.drop(['rand','rand_date','rand_month','rand_year'], axis=1)\n",
    "h_copy"
   ]
  },
  {
   "cell_type": "markdown",
   "metadata": {},
   "source": [
    "## Series methods\n",
    "\n",
    "#### Srting\n",
    "\n",
    "A namespace `str` is attahced for string manipulations `Series.str.startswith('YYY')`"
   ]
  },
  {
   "cell_type": "code",
   "execution_count": null,
   "metadata": {
    "collapsed": false
   },
   "outputs": [],
   "source": [
    "h1 = h_copy\n",
    "h1[h1.title.str.startswith('U')]"
   ]
  },
  {
   "cell_type": "code",
   "execution_count": null,
   "metadata": {
    "collapsed": false
   },
   "outputs": [],
   "source": [
    "h1['newcol'] = 0\n",
    "h1.loc[h1.title.str.startswith('A') | h1.title.str.startswith('U'), 'newcol'] = 1\n",
    "g = h1.groupby(by = ['newcol'])\n",
    "g.groups"
   ]
  },
  {
   "cell_type": "code",
   "execution_count": null,
   "metadata": {
    "collapsed": false
   },
   "outputs": [],
   "source": [
    "g = h1.groupby(by = h1.title.str.get(0))\n",
    "g.groups"
   ]
  },
  {
   "cell_type": "code",
   "execution_count": null,
   "metadata": {
    "collapsed": false
   },
   "outputs": [],
   "source": [
    "h1.loc[g.groups['A'],:]\n",
    "# h1.loc[h1.title.str.startswith('A')]"
   ]
  },
  {
   "cell_type": "markdown",
   "metadata": {},
   "source": [
    "#### Date\n",
    "`Series.dt.year`"
   ]
  },
  {
   "cell_type": "code",
   "execution_count": null,
   "metadata": {
    "collapsed": false
   },
   "outputs": [],
   "source": [
    "h1['rand_day'] = pd.to_datetime(h1['rand_day'])\n",
    "h1.rand_day.dt.dayofyear"
   ]
  },
  {
   "cell_type": "code",
   "execution_count": null,
   "metadata": {
    "collapsed": true
   },
   "outputs": [],
   "source": []
  },
  {
   "cell_type": "markdown",
   "metadata": {},
   "source": [
    "#### Pivot"
   ]
  },
  {
   "cell_type": "code",
   "execution_count": null,
   "metadata": {
    "collapsed": true
   },
   "outputs": [],
   "source": []
  },
  {
   "cell_type": "code",
   "execution_count": null,
   "metadata": {
    "collapsed": true
   },
   "outputs": [],
   "source": []
  },
  {
   "cell_type": "code",
   "execution_count": null,
   "metadata": {
    "collapsed": true
   },
   "outputs": [],
   "source": []
  },
  {
   "cell_type": "code",
   "execution_count": null,
   "metadata": {
    "collapsed": true
   },
   "outputs": [],
   "source": []
  },
  {
   "cell_type": "code",
   "execution_count": null,
   "metadata": {
    "collapsed": true
   },
   "outputs": [],
   "source": []
  },
  {
   "cell_type": "code",
   "execution_count": null,
   "metadata": {
    "collapsed": true
   },
   "outputs": [],
   "source": []
  }
 ],
 "metadata": {
  "kernelspec": {
   "display_name": "Python 3",
   "language": "python",
   "name": "python3"
  },
  "language_info": {
   "codemirror_mode": {
    "name": "ipython",
    "version": 3
   },
   "file_extension": ".py",
   "mimetype": "text/x-python",
   "name": "python",
   "nbconvert_exporter": "python",
   "pygments_lexer": "ipython3",
   "version": "3.4.3"
  }
 },
 "nbformat": 4,
 "nbformat_minor": 0
}
