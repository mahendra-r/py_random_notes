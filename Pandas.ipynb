{
 "cells": [
  {
   "cell_type": "markdown",
   "metadata": {},
   "source": [
    "# Pandas Tutorial\n",
    "\n",
    "\n",
    "<em> <p style = \"text-indent:10em\"> adapted from .....  Brandon Rhodes, PyCon15 </p> </em>"
   ]
  },
  {
   "cell_type": "markdown",
   "metadata": {},
   "source": [
    "[GitHub](https://github.com/brandon-rhodes/pycon-pandas-tutorial.git)\n",
    "\n",
    "\n",
    "[Data](pages.stern.nyu.edu/~dbackus/csv/)\n",
    "\n",
    "\n",
    "[Pandas API](http://pandas.pydata.org/pandas-docs/stable/api.html)"
   ]
  },
  {
   "cell_type": "code",
   "execution_count": 1,
   "metadata": {
    "collapsed": false
   },
   "outputs": [
    {
     "data": {
      "text/html": [
       "<style>body {\n",
       "    margin: 0;\n",
       "    font-family: Helvetica;\n",
       "}\n",
       "table.dataframe {\n",
       "    border-collapse: collapse;\n",
       "    border: none;\n",
       "}\n",
       "table.dataframe tr {\n",
       "    border: none;\n",
       "}\n",
       "table.dataframe td, table.dataframe th {\n",
       "    margin: 0;\n",
       "    border: 1px solid white;\n",
       "    padding-left: 0.25em;\n",
       "    padding-right: 0.25em;\n",
       "}\n",
       "table.dataframe th:not(:empty) {\n",
       "    background-color: #FFCCFF;\n",
       "    text-align:left;\n",
       "    font-weight: bold;\n",
       "    font-family: monospace;\n",
       "}\n",
       "table.dataframe tr:nth-child(2) th:empty {\n",
       "    border-left: none;\n",
       "    border-right: 1px dashed #888;\n",
       "}\n",
       "table.dataframe td {\n",
       "    border: 2px solid #ccf;\n",
       "    background-color: #f4f4ff;\n",
       "}\n",
       "\n",
       "h3 {\n",
       "    color: white;\n",
       "    background-color: black;\n",
       "    padding: 0.5em;\n",
       "}\n",
       "\n",
       "/* Experimental typographically tinkered IJulia stylesheet\n",
       " * Copyright © 2013--2015 Jiahao Chen <jiahao@mit.edu>\n",
       " * MIT License\n",
       " *\n",
       " * Based on suggestions from practicaltypography.com\n",
       " */\n",
       "\n",
       ".rendered_html ol {\n",
       "    list-style:decimal;\n",
       "    margin: 1em 2em;\n",
       "}\n",
       "\n",
       ".autosave_status, .checkpoint_status {\n",
       "        color: #bbbbbb;\n",
       "\tfont-family: \"Fira Sans\", sans-serif;\n",
       "}\n",
       "\n",
       ".filename {\n",
       "    font-family: \"Charis SIL\", \"Hoefler Text\", Garamond, Palatino, serif;\n",
       "    font-variant: small-caps;\n",
       "    letter-spacing: 0.15em;\n",
       "}\n",
       "\n",
       ".text_cell, .text_cell_render {\n",
       "    font-family: \"Charis SIL\", \"Hoefler Text\", Garamond, Palatino, serif;\n",
       "    font-size: 18px;\n",
       "    line-height:1.4em;\n",
       "    padding-left:3em;\n",
       "    padding-right:3em;\n",
       "    max-width: 36em;\n",
       "    text-rendering: optimizeLegibility;\n",
       "    font-variant-ligatures: contextual no-historical-ligatures common-ligatures;\n",
       "}\n",
       "\n",
       "blockquote p {\n",
       "    font-size: 17px;\n",
       "    line-height:1.2em;\n",
       "    font-family: \"Charis SIL\", \"Hoefler Text\", Garamond, Palatino, serif;\n",
       "    text-rendering: optimizeLegibility;\n",
       "    font-variant-ligatures: contextual no-historical-ligatures common-ligatures;\n",
       "}\n",
       "\n",
       ".code_cell {  /* Area containing both code and output */\n",
       "    font-family: \"Source Code Pro\", \"Droid Sans Mono\", Consolas, \"Ubuntu Mono\", \"Liberation Mono\", monospace;\n",
       "    /*background-color:#F1F0FF; /* light blue */*/\n",
       "    border-radius: 0.8em;\n",
       "    padding: 1em;\n",
       "}\n",
       "\n",
       "code, pre, .CodeMirror {\n",
       "    font-family: \"Source Code Pro\", \"Droid Sans Mono\", Consolas, \"Ubuntu Mono\", \"Liberation Mono\", monospace;\n",
       "    background-color:#E6FFE6;\n",
       "    line-height:1.25em;\n",
       "    font-size: 16px;\n",
       "}\n",
       "\n",
       ".slide-header, p.slide-header\n",
       "{\n",
       "    color: #498AF3;\n",
       "    font-size: 200%;\n",
       "    font-weight:bold;\n",
       "    margin: 0px 20px 10px;\n",
       "    page-break-before: always;\n",
       "    text-align: center;\n",
       "}\n",
       "\n",
       "div.prompt {\n",
       "    font-family: \"Source Code Pro\", \"Droid Sans Mono\", Consolas, \"Ubuntu Mono\", \"Liberation Mono\", monospace;\n",
       "    font-size: 11px;\n",
       "}\n",
       "\n",
       "div.output_area pre {\n",
       "    font-family: \"Source Code Pro\", \"Droid Sans Mono\", Consolas, \"Ubuntu Mono\", \"Liberation Mono\", monospace;\n",
       "    line-height:1.25em;\n",
       "    font-size: 16px;\n",
       "    background-color: #F4F4F4;\n",
       "}\n",
       "\n",
       "div.output_error pre {\n",
       "    background-color: #ffeeee;\n",
       "}\n",
       "\n",
       ".cm-header-1, .rendered_html h1 {\n",
       "    font-family: \"Charis SIL\", \"Hoefler Text\", Garamond, Palatino, serif;\n",
       "    font-size: 24px;\n",
       "    font-variant: small-caps;\n",
       "    text-rendering: auto;\n",
       "    letter-spacing: 0.06em;\n",
       "    font-variant-ligatures: contextual no-historical-ligatures common-ligatures;\n",
       "}\n",
       "\n",
       ".cm-header-2, .rendered_html h2 {\n",
       "    font-family: \"Charis SIL\", \"Hoefler Text\", Garamond, Palatino, serif;\n",
       "    font-size: 21px;\n",
       "    font-weight: bold;\n",
       "    text-rendering: optimizeLegibility;\n",
       "    font-variant-ligatures: contextual no-historical-ligatures common-ligatures;\n",
       "}\n",
       "\n",
       ".cm-header-3, .rendered_html h3 {\n",
       "    font-family: \"Charis SIL\", \"Hoefler Text\", Garamond, Palatino, serif;\n",
       "    font-size: 19px;\n",
       "    font-weight: bold;\n",
       "    text-rendering: optimizeLegibility;\n",
       "    font-variant-ligatures: contextual no-historical-ligatures common-ligatures;\n",
       "}\n",
       "\n",
       ".cm-header-4, .rendered_html h4, .cm-header-5, .rendered_html h5, .cm-header-6, .rendered_html h6 {\n",
       "    font-family: \"Charis SIL\", \"Hoefler Text\", Garamond, Palatino, serif;\n",
       "    font-size: 18px;\n",
       "    font-weight: bold;\n",
       "    text-rendering: optimizeLegibility;\n",
       "    font-variant-ligatures: contextual no-historical-ligatures common-ligatures;\n",
       "}\n",
       "\n",
       ".rendered_html td {\n",
       "    font-variant-numeric: tabular-nums;\n",
       "}\n",
       "</style>"
      ],
      "text/plain": [
       "<IPython.core.display.HTML object>"
      ]
     },
     "execution_count": 1,
     "metadata": {},
     "output_type": "execute_result"
    }
   ],
   "source": [
    "%matplotlib inline\n",
    "\n",
    "import random\n",
    "import numpy as np\n",
    "import pandas as pd\n",
    "\n",
    "import seaborn\n",
    "\n",
    "# pd display option\n",
    "pd.options.display.max_columns = 6\n",
    "pd.options.display.max_rows = 25\n",
    "\n",
    "from IPython.core.display import HTML\n",
    "\n",
    "css = open('style-table.css').read() + open('custom.css').read()\n",
    "HTML('<style>{}</style>'.format(css))\n"
   ]
  },
  {
   "cell_type": "markdown",
   "metadata": {},
   "source": [
    "## Data format\n",
    "[series](#Series)\n",
    "\n",
    "Series are list/1D array like objects"
   ]
  },
  {
   "cell_type": "code",
   "execution_count": 140,
   "metadata": {
    "collapsed": false
   },
   "outputs": [
    {
     "data": {
      "text/plain": [
       "0    1\n",
       "1    2\n",
       "2    3\n",
       "3    4\n",
       "4    5\n",
       "dtype: int64"
      ]
     },
     "execution_count": 140,
     "metadata": {},
     "output_type": "execute_result"
    }
   ],
   "source": [
    "s = pd.Series([1,2,3,4,5])\n",
    "s"
   ]
  },
  {
   "cell_type": "markdown",
   "metadata": {},
   "source": [
    "[DataFrame](#DataFrame)\n",
    "\n",
    "DataFrames are dict/multi dimensional array like objects "
   ]
  },
  {
   "cell_type": "code",
   "execution_count": 26,
   "metadata": {
    "collapsed": false
   },
   "outputs": [
    {
     "data": {
      "text/html": [
       "<div>\n",
       "<table border=\"1\" class=\"dataframe\">\n",
       "  <thead>\n",
       "    <tr style=\"text-align: right;\">\n",
       "      <th></th>\n",
       "      <th>title</th>\n",
       "      <th>year</th>\n",
       "    </tr>\n",
       "  </thead>\n",
       "  <tbody>\n",
       "    <tr>\n",
       "      <th>0</th>\n",
       "      <td>Orlando Vargas</td>\n",
       "      <td>2005</td>\n",
       "    </tr>\n",
       "    <tr>\n",
       "      <th>1</th>\n",
       "      <td>Niu-Peng</td>\n",
       "      <td>1989</td>\n",
       "    </tr>\n",
       "    <tr>\n",
       "      <th>2</th>\n",
       "      <td>Anandabhadram</td>\n",
       "      <td>2005</td>\n",
       "    </tr>\n",
       "    <tr>\n",
       "      <th>3</th>\n",
       "      <td>Mahendra Varma</td>\n",
       "      <td>1993</td>\n",
       "    </tr>\n",
       "    <tr>\n",
       "      <th>4</th>\n",
       "      <td>Beomdiga shidae</td>\n",
       "      <td>1970</td>\n",
       "    </tr>\n",
       "    <tr>\n",
       "      <th>5</th>\n",
       "      <td>100Volta</td>\n",
       "      <td>2009</td>\n",
       "    </tr>\n",
       "    <tr>\n",
       "      <th>6</th>\n",
       "      <td>Atakku no. 1</td>\n",
       "      <td>1970</td>\n",
       "    </tr>\n",
       "    <tr>\n",
       "      <th>7</th>\n",
       "      <td>Uroki v kontse vesny</td>\n",
       "      <td>1991</td>\n",
       "    </tr>\n",
       "    <tr>\n",
       "      <th>8</th>\n",
       "      <td>Un sac de billes</td>\n",
       "      <td>1975</td>\n",
       "    </tr>\n",
       "    <tr>\n",
       "      <th>9</th>\n",
       "      <td>The Trouble with Men and Women</td>\n",
       "      <td>2005</td>\n",
       "    </tr>\n",
       "    <tr>\n",
       "      <th>10</th>\n",
       "      <td>That Texas Jamboree</td>\n",
       "      <td>1946</td>\n",
       "    </tr>\n",
       "    <tr>\n",
       "      <th>11</th>\n",
       "      <td>A Knight in London</td>\n",
       "      <td>1928</td>\n",
       "    </tr>\n",
       "    <tr>\n",
       "      <th>...</th>\n",
       "      <td>...</td>\n",
       "      <td>...</td>\n",
       "    </tr>\n",
       "    <tr>\n",
       "      <th>214579</th>\n",
       "      <td>Recaptured Love</td>\n",
       "      <td>1930</td>\n",
       "    </tr>\n",
       "    <tr>\n",
       "      <th>214580</th>\n",
       "      <td>The Ugly Duckling</td>\n",
       "      <td>1959</td>\n",
       "    </tr>\n",
       "    <tr>\n",
       "      <th>214581</th>\n",
       "      <td>Jump</td>\n",
       "      <td>1971</td>\n",
       "    </tr>\n",
       "    <tr>\n",
       "      <th>214582</th>\n",
       "      <td>Johnny Ghost</td>\n",
       "      <td>2011</td>\n",
       "    </tr>\n",
       "    <tr>\n",
       "      <th>214583</th>\n",
       "      <td>Mechty idiota</td>\n",
       "      <td>1993</td>\n",
       "    </tr>\n",
       "    <tr>\n",
       "      <th>214584</th>\n",
       "      <td>Pardon My Rhythm</td>\n",
       "      <td>1944</td>\n",
       "    </tr>\n",
       "    <tr>\n",
       "      <th>214585</th>\n",
       "      <td>Chan oi dik</td>\n",
       "      <td>2008</td>\n",
       "    </tr>\n",
       "    <tr>\n",
       "      <th>214586</th>\n",
       "      <td>Chung oi</td>\n",
       "      <td>2007</td>\n",
       "    </tr>\n",
       "    <tr>\n",
       "      <th>214587</th>\n",
       "      <td>Chain of Command</td>\n",
       "      <td>1994</td>\n",
       "    </tr>\n",
       "    <tr>\n",
       "      <th>214588</th>\n",
       "      <td>Karibal ko ang aking ina</td>\n",
       "      <td>1982</td>\n",
       "    </tr>\n",
       "    <tr>\n",
       "      <th>214589</th>\n",
       "      <td>Under Heaven</td>\n",
       "      <td>2015</td>\n",
       "    </tr>\n",
       "    <tr>\n",
       "      <th>214590</th>\n",
       "      <td>Gosokdoro</td>\n",
       "      <td>1987</td>\n",
       "    </tr>\n",
       "  </tbody>\n",
       "</table>\n",
       "<p>214591 rows × 2 columns</p>\n",
       "</div>"
      ],
      "text/plain": [
       "                                 title  \\\n",
       "0                       Orlando Vargas   \n",
       "1                             Niu-Peng   \n",
       "2                        Anandabhadram   \n",
       "3                       Mahendra Varma   \n",
       "4                      Beomdiga shidae   \n",
       "5                             100Volta   \n",
       "6                         Atakku no. 1   \n",
       "7                 Uroki v kontse vesny   \n",
       "8                     Un sac de billes   \n",
       "9       The Trouble with Men and Women   \n",
       "10                 That Texas Jamboree   \n",
       "11                  A Knight in London   \n",
       "...                                ...   \n",
       "214579                 Recaptured Love   \n",
       "214580               The Ugly Duckling   \n",
       "214581                            Jump   \n",
       "214582                    Johnny Ghost   \n",
       "214583                   Mechty idiota   \n",
       "214584                Pardon My Rhythm   \n",
       "214585                     Chan oi dik   \n",
       "214586                        Chung oi   \n",
       "214587                Chain of Command   \n",
       "214588        Karibal ko ang aking ina   \n",
       "214589                    Under Heaven   \n",
       "214590                       Gosokdoro   \n",
       "\n",
       "        year  \n",
       "0       2005  \n",
       "1       1989  \n",
       "2       2005  \n",
       "3       1993  \n",
       "4       1970  \n",
       "5       2009  \n",
       "6       1970  \n",
       "7       1991  \n",
       "8       1975  \n",
       "9       2005  \n",
       "10      1946  \n",
       "11      1928  \n",
       "...      ...  \n",
       "214579  1930  \n",
       "214580  1959  \n",
       "214581  1971  \n",
       "214582  2011  \n",
       "214583  1993  \n",
       "214584  1944  \n",
       "214585  2008  \n",
       "214586  2007  \n",
       "214587  1994  \n",
       "214588  1982  \n",
       "214589  2015  \n",
       "214590  1987  \n",
       "\n",
       "[214591 rows x 2 columns]"
      ]
     },
     "execution_count": 26,
     "metadata": {},
     "output_type": "execute_result"
    }
   ],
   "source": [
    "titles = pd.DataFrame.from_csv(\n",
    "    'pycon-pandas-tutorial/titles.csv', \n",
    "    index_col = None, \n",
    "    encoding = 'utf-8')\n",
    "titles"
   ]
  },
  {
   "cell_type": "markdown",
   "metadata": {},
   "source": [
    "You may see some glitch in the notebook whenever a cell with existing ouput is ran. When a cell is executed (Shift/Ctrl+Enter), Ipython notebook discards the existing output. DOM of the browser kicks in clearing the bottom screen and scrolls up, since there is no need for that extra blank space. Ipython then produces a new output which falls below the view scope."
   ]
  },
  {
   "cell_type": "markdown",
   "metadata": {},
   "source": [
    "## head and tail \n",
    "\n",
    "slices and creates a new DataFrame"
   ]
  },
  {
   "cell_type": "code",
   "execution_count": 418,
   "metadata": {
    "collapsed": false
   },
   "outputs": [
    {
     "data": {
      "text/html": [
       "<div>\n",
       "<table border=\"1\" class=\"dataframe\">\n",
       "  <thead>\n",
       "    <tr style=\"text-align: right;\">\n",
       "      <th></th>\n",
       "      <th>title</th>\n",
       "      <th>year</th>\n",
       "    </tr>\n",
       "  </thead>\n",
       "  <tbody>\n",
       "    <tr>\n",
       "      <th>0</th>\n",
       "      <td>Orlando Vargas</td>\n",
       "      <td>2005</td>\n",
       "    </tr>\n",
       "    <tr>\n",
       "      <th>1</th>\n",
       "      <td>Niu-Peng</td>\n",
       "      <td>1989</td>\n",
       "    </tr>\n",
       "    <tr>\n",
       "      <th>2</th>\n",
       "      <td>Anandabhadram</td>\n",
       "      <td>2005</td>\n",
       "    </tr>\n",
       "    <tr>\n",
       "      <th>3</th>\n",
       "      <td>Mahendra Varma</td>\n",
       "      <td>1993</td>\n",
       "    </tr>\n",
       "    <tr>\n",
       "      <th>4</th>\n",
       "      <td>Beomdiga shidae</td>\n",
       "      <td>1970</td>\n",
       "    </tr>\n",
       "    <tr>\n",
       "      <th>5</th>\n",
       "      <td>100Volta</td>\n",
       "      <td>2009</td>\n",
       "    </tr>\n",
       "    <tr>\n",
       "      <th>6</th>\n",
       "      <td>Atakku no. 1</td>\n",
       "      <td>1970</td>\n",
       "    </tr>\n",
       "    <tr>\n",
       "      <th>7</th>\n",
       "      <td>Uroki v kontse vesny</td>\n",
       "      <td>1991</td>\n",
       "    </tr>\n",
       "    <tr>\n",
       "      <th>8</th>\n",
       "      <td>Un sac de billes</td>\n",
       "      <td>1975</td>\n",
       "    </tr>\n",
       "    <tr>\n",
       "      <th>9</th>\n",
       "      <td>The Trouble with Men and Women</td>\n",
       "      <td>2005</td>\n",
       "    </tr>\n",
       "    <tr>\n",
       "      <th>10</th>\n",
       "      <td>That Texas Jamboree</td>\n",
       "      <td>1946</td>\n",
       "    </tr>\n",
       "    <tr>\n",
       "      <th>11</th>\n",
       "      <td>A Knight in London</td>\n",
       "      <td>1928</td>\n",
       "    </tr>\n",
       "    <tr>\n",
       "      <th>12</th>\n",
       "      <td>Al oltro lado de la ley</td>\n",
       "      <td>1995</td>\n",
       "    </tr>\n",
       "    <tr>\n",
       "      <th>13</th>\n",
       "      <td>Too Soon to Forget</td>\n",
       "      <td>2015</td>\n",
       "    </tr>\n",
       "    <tr>\n",
       "      <th>14</th>\n",
       "      <td>Gebo et l'ombre</td>\n",
       "      <td>2012</td>\n",
       "    </tr>\n",
       "    <tr>\n",
       "      <th>15</th>\n",
       "      <td>Amore mio spogliati... che poi ti spiego!</td>\n",
       "      <td>1975</td>\n",
       "    </tr>\n",
       "    <tr>\n",
       "      <th>16</th>\n",
       "      <td>Big Boy</td>\n",
       "      <td>2010</td>\n",
       "    </tr>\n",
       "    <tr>\n",
       "      <th>17</th>\n",
       "      <td>All Night Long</td>\n",
       "      <td>1962</td>\n",
       "    </tr>\n",
       "    <tr>\n",
       "      <th>18</th>\n",
       "      <td>Gold</td>\n",
       "      <td>1932</td>\n",
       "    </tr>\n",
       "    <tr>\n",
       "      <th>19</th>\n",
       "      <td>Partir</td>\n",
       "      <td>1931</td>\n",
       "    </tr>\n",
       "  </tbody>\n",
       "</table>\n",
       "</div>"
      ],
      "text/plain": [
       "                                        title  \\\n",
       "0                              Orlando Vargas   \n",
       "1                                    Niu-Peng   \n",
       "2                               Anandabhadram   \n",
       "3                              Mahendra Varma   \n",
       "4                             Beomdiga shidae   \n",
       "5                                    100Volta   \n",
       "6                                Atakku no. 1   \n",
       "7                        Uroki v kontse vesny   \n",
       "8                            Un sac de billes   \n",
       "9              The Trouble with Men and Women   \n",
       "10                        That Texas Jamboree   \n",
       "11                         A Knight in London   \n",
       "12                    Al oltro lado de la ley   \n",
       "13                         Too Soon to Forget   \n",
       "14                            Gebo et l'ombre   \n",
       "15  Amore mio spogliati... che poi ti spiego!   \n",
       "16                                    Big Boy   \n",
       "17                             All Night Long   \n",
       "18                                       Gold   \n",
       "19                                     Partir   \n",
       "\n",
       "    year  \n",
       "0   2005  \n",
       "1   1989  \n",
       "2   2005  \n",
       "3   1993  \n",
       "4   1970  \n",
       "5   2009  \n",
       "6   1970  \n",
       "7   1991  \n",
       "8   1975  \n",
       "9   2005  \n",
       "10  1946  \n",
       "11  1928  \n",
       "12  1995  \n",
       "13  2015  \n",
       "14  2012  \n",
       "15  1975  \n",
       "16  2010  \n",
       "17  1962  \n",
       "18  1932  \n",
       "19  1931  "
      ]
     },
     "execution_count": 418,
     "metadata": {},
     "output_type": "execute_result"
    }
   ],
   "source": [
    "h = titles.head(20)\n",
    "h"
   ]
  },
  {
   "cell_type": "markdown",
   "metadata": {},
   "source": [
    "# Series\n",
    "\n",
    "## Filtering by Rows & Columns"
   ]
  },
  {
   "cell_type": "code",
   "execution_count": 81,
   "metadata": {
    "collapsed": false
   },
   "outputs": [
    {
     "data": {
      "text/plain": [
       "0                                Orlando Vargas\n",
       "1                                      Niu-Peng\n",
       "2                                 Anandabhadram\n",
       "3                                Mahendra Varma\n",
       "4                               Beomdiga shidae\n",
       "5                                      100Volta\n",
       "6                                  Atakku no. 1\n",
       "7                          Uroki v kontse vesny\n",
       "8                              Un sac de billes\n",
       "9                The Trouble with Men and Women\n",
       "10                          That Texas Jamboree\n",
       "11                           A Knight in London\n",
       "12                      Al oltro lado de la ley\n",
       "13                           Too Soon to Forget\n",
       "14                              Gebo et l'ombre\n",
       "15    Amore mio spogliati... che poi ti spiego!\n",
       "16                                      Big Boy\n",
       "17                               All Night Long\n",
       "18                                         Gold\n",
       "19                                       Partir\n",
       "Name: title, dtype: object"
      ]
     },
     "execution_count": 81,
     "metadata": {},
     "output_type": "execute_result"
    }
   ],
   "source": [
    "h['title']\n",
    "h.title"
   ]
  },
  {
   "cell_type": "code",
   "execution_count": 82,
   "metadata": {
    "collapsed": false
   },
   "outputs": [
    {
     "data": {
      "text/html": [
       "<div>\n",
       "<table border=\"1\" class=\"dataframe\">\n",
       "  <thead>\n",
       "    <tr style=\"text-align: right;\">\n",
       "      <th></th>\n",
       "      <th>title</th>\n",
       "      <th>year</th>\n",
       "    </tr>\n",
       "  </thead>\n",
       "  <tbody>\n",
       "    <tr>\n",
       "      <th>0</th>\n",
       "      <td>Orlando Vargas</td>\n",
       "      <td>2005</td>\n",
       "    </tr>\n",
       "    <tr>\n",
       "      <th>1</th>\n",
       "      <td>Niu-Peng</td>\n",
       "      <td>1989</td>\n",
       "    </tr>\n",
       "    <tr>\n",
       "      <th>2</th>\n",
       "      <td>Anandabhadram</td>\n",
       "      <td>2005</td>\n",
       "    </tr>\n",
       "    <tr>\n",
       "      <th>3</th>\n",
       "      <td>Mahendra Varma</td>\n",
       "      <td>1993</td>\n",
       "    </tr>\n",
       "    <tr>\n",
       "      <th>4</th>\n",
       "      <td>Beomdiga shidae</td>\n",
       "      <td>1970</td>\n",
       "    </tr>\n",
       "    <tr>\n",
       "      <th>5</th>\n",
       "      <td>100Volta</td>\n",
       "      <td>2009</td>\n",
       "    </tr>\n",
       "    <tr>\n",
       "      <th>6</th>\n",
       "      <td>Atakku no. 1</td>\n",
       "      <td>1970</td>\n",
       "    </tr>\n",
       "    <tr>\n",
       "      <th>7</th>\n",
       "      <td>Uroki v kontse vesny</td>\n",
       "      <td>1991</td>\n",
       "    </tr>\n",
       "    <tr>\n",
       "      <th>8</th>\n",
       "      <td>Un sac de billes</td>\n",
       "      <td>1975</td>\n",
       "    </tr>\n",
       "    <tr>\n",
       "      <th>9</th>\n",
       "      <td>The Trouble with Men and Women</td>\n",
       "      <td>2005</td>\n",
       "    </tr>\n",
       "    <tr>\n",
       "      <th>10</th>\n",
       "      <td>That Texas Jamboree</td>\n",
       "      <td>1946</td>\n",
       "    </tr>\n",
       "    <tr>\n",
       "      <th>11</th>\n",
       "      <td>A Knight in London</td>\n",
       "      <td>1928</td>\n",
       "    </tr>\n",
       "    <tr>\n",
       "      <th>12</th>\n",
       "      <td>Al oltro lado de la ley</td>\n",
       "      <td>1995</td>\n",
       "    </tr>\n",
       "    <tr>\n",
       "      <th>13</th>\n",
       "      <td>Too Soon to Forget</td>\n",
       "      <td>2015</td>\n",
       "    </tr>\n",
       "    <tr>\n",
       "      <th>14</th>\n",
       "      <td>Gebo et l'ombre</td>\n",
       "      <td>2012</td>\n",
       "    </tr>\n",
       "    <tr>\n",
       "      <th>15</th>\n",
       "      <td>Amore mio spogliati... che poi ti spiego!</td>\n",
       "      <td>1975</td>\n",
       "    </tr>\n",
       "    <tr>\n",
       "      <th>16</th>\n",
       "      <td>Big Boy</td>\n",
       "      <td>2010</td>\n",
       "    </tr>\n",
       "    <tr>\n",
       "      <th>17</th>\n",
       "      <td>All Night Long</td>\n",
       "      <td>1962</td>\n",
       "    </tr>\n",
       "    <tr>\n",
       "      <th>18</th>\n",
       "      <td>Gold</td>\n",
       "      <td>1932</td>\n",
       "    </tr>\n",
       "    <tr>\n",
       "      <th>19</th>\n",
       "      <td>Partir</td>\n",
       "      <td>1931</td>\n",
       "    </tr>\n",
       "  </tbody>\n",
       "</table>\n",
       "</div>"
      ],
      "text/plain": [
       "                                        title  \\\n",
       "0                              Orlando Vargas   \n",
       "1                                    Niu-Peng   \n",
       "2                               Anandabhadram   \n",
       "3                              Mahendra Varma   \n",
       "4                             Beomdiga shidae   \n",
       "5                                    100Volta   \n",
       "6                                Atakku no. 1   \n",
       "7                        Uroki v kontse vesny   \n",
       "8                            Un sac de billes   \n",
       "9              The Trouble with Men and Women   \n",
       "10                        That Texas Jamboree   \n",
       "11                         A Knight in London   \n",
       "12                    Al oltro lado de la ley   \n",
       "13                         Too Soon to Forget   \n",
       "14                            Gebo et l'ombre   \n",
       "15  Amore mio spogliati... che poi ti spiego!   \n",
       "16                                    Big Boy   \n",
       "17                             All Night Long   \n",
       "18                                       Gold   \n",
       "19                                     Partir   \n",
       "\n",
       "    year  \n",
       "0   2005  \n",
       "1   1989  \n",
       "2   2005  \n",
       "3   1993  \n",
       "4   1970  \n",
       "5   2009  \n",
       "6   1970  \n",
       "7   1991  \n",
       "8   1975  \n",
       "9   2005  \n",
       "10  1946  \n",
       "11  1928  \n",
       "12  1995  \n",
       "13  2015  \n",
       "14  2012  \n",
       "15  1975  \n",
       "16  2010  \n",
       "17  1962  \n",
       "18  1932  \n",
       "19  1931  "
      ]
     },
     "execution_count": 82,
     "metadata": {},
     "output_type": "execute_result"
    }
   ],
   "source": [
    "h[['title', 'year']] \n",
    "# Note the [] inside [];  returns only the chosen colums"
   ]
  },
  {
   "cell_type": "code",
   "execution_count": 83,
   "metadata": {
    "collapsed": false
   },
   "outputs": [
    {
     "data": {
      "text/html": [
       "<div>\n",
       "<table border=\"1\" class=\"dataframe\">\n",
       "  <thead>\n",
       "    <tr style=\"text-align: right;\">\n",
       "      <th></th>\n",
       "      <th>title</th>\n",
       "      <th>year</th>\n",
       "    </tr>\n",
       "  </thead>\n",
       "  <tbody>\n",
       "    <tr>\n",
       "      <th>0</th>\n",
       "      <td>Orlando Vargas</td>\n",
       "      <td>2005</td>\n",
       "    </tr>\n",
       "    <tr>\n",
       "      <th>1</th>\n",
       "      <td>Niu-Peng</td>\n",
       "      <td>1989</td>\n",
       "    </tr>\n",
       "    <tr>\n",
       "      <th>2</th>\n",
       "      <td>Anandabhadram</td>\n",
       "      <td>2005</td>\n",
       "    </tr>\n",
       "    <tr>\n",
       "      <th>3</th>\n",
       "      <td>Mahendra Varma</td>\n",
       "      <td>1993</td>\n",
       "    </tr>\n",
       "    <tr>\n",
       "      <th>4</th>\n",
       "      <td>Beomdiga shidae</td>\n",
       "      <td>1970</td>\n",
       "    </tr>\n",
       "  </tbody>\n",
       "</table>\n",
       "</div>"
      ],
      "text/plain": [
       "             title  year\n",
       "0   Orlando Vargas  2005\n",
       "1         Niu-Peng  1989\n",
       "2    Anandabhadram  2005\n",
       "3   Mahendra Varma  1993\n",
       "4  Beomdiga shidae  1970"
      ]
     },
     "execution_count": 83,
     "metadata": {},
     "output_type": "execute_result"
    }
   ],
   "source": [
    "h.ix[0:4]"
   ]
  },
  {
   "cell_type": "code",
   "execution_count": 145,
   "metadata": {
    "collapsed": false
   },
   "outputs": [
    {
     "data": {
      "text/plain": [
       "(True, False)"
      ]
     },
     "execution_count": 145,
     "metadata": {},
     "output_type": "execute_result"
    }
   ],
   "source": [
    "#Is any|all element True over requested axis\n",
    "\n",
    "after2000.any(), after2000.all()"
   ]
  },
  {
   "cell_type": "markdown",
   "metadata": {},
   "source": [
    "## Operations\n",
    "\n",
    "Any mathermatical operations can be performed on a **Series**"
   ]
  },
  {
   "cell_type": "code",
   "execution_count": 179,
   "metadata": {
    "collapsed": false
   },
   "outputs": [
    {
     "data": {
      "text/plain": [
       "0     1200\n",
       "1     1198\n",
       "2     1200\n",
       "3     1199\n",
       "4     1197\n",
       "5     1200\n",
       "6     1197\n",
       "7     1199\n",
       "8     1197\n",
       "9     1200\n",
       "10    1194\n",
       "11    1192\n",
       "12    1199\n",
       "13    1201\n",
       "14    1201\n",
       "15    1197\n",
       "16    1201\n",
       "17    1196\n",
       "18    1193\n",
       "19    1193\n",
       "Name: year, dtype: int64"
      ]
     },
     "execution_count": 179,
     "metadata": {},
     "output_type": "execute_result"
    }
   ],
   "source": [
    "h['year'] // 10 + 1000"
   ]
  },
  {
   "cell_type": "code",
   "execution_count": 268,
   "metadata": {
    "collapsed": false
   },
   "outputs": [
    {
     "data": {
      "text/plain": [
       "0      True\n",
       "1     False\n",
       "2      True\n",
       "3     False\n",
       "4     False\n",
       "5      True\n",
       "6     False\n",
       "7     False\n",
       "8     False\n",
       "9      True\n",
       "10    False\n",
       "11    False\n",
       "12    False\n",
       "13     True\n",
       "14     True\n",
       "15    False\n",
       "16     True\n",
       "17    False\n",
       "18    False\n",
       "19    False\n",
       "Name: year, dtype: bool"
      ]
     },
     "execution_count": 268,
     "metadata": {},
     "output_type": "execute_result"
    }
   ],
   "source": [
    "# Comparison operator returns boolean (True|False)\n",
    "after2000 = h['year'] > 2000\n",
    "after2000"
   ]
  },
  {
   "cell_type": "code",
   "execution_count": 269,
   "metadata": {
    "collapsed": false
   },
   "outputs": [
    {
     "data": {
      "text/html": [
       "<div>\n",
       "<table border=\"1\" class=\"dataframe\">\n",
       "  <thead>\n",
       "    <tr style=\"text-align: right;\">\n",
       "      <th></th>\n",
       "      <th>title</th>\n",
       "      <th>year</th>\n",
       "    </tr>\n",
       "  </thead>\n",
       "  <tbody>\n",
       "    <tr>\n",
       "      <th>4</th>\n",
       "      <td>Beomdiga shidae</td>\n",
       "      <td>1970</td>\n",
       "    </tr>\n",
       "    <tr>\n",
       "      <th>6</th>\n",
       "      <td>Atakku no. 1</td>\n",
       "      <td>1970</td>\n",
       "    </tr>\n",
       "    <tr>\n",
       "      <th>8</th>\n",
       "      <td>Un sac de billes</td>\n",
       "      <td>1975</td>\n",
       "    </tr>\n",
       "    <tr>\n",
       "      <th>10</th>\n",
       "      <td>That Texas Jamboree</td>\n",
       "      <td>1946</td>\n",
       "    </tr>\n",
       "    <tr>\n",
       "      <th>11</th>\n",
       "      <td>A Knight in London</td>\n",
       "      <td>1928</td>\n",
       "    </tr>\n",
       "    <tr>\n",
       "      <th>15</th>\n",
       "      <td>Amore mio spogliati... che poi ti spiego!</td>\n",
       "      <td>1975</td>\n",
       "    </tr>\n",
       "    <tr>\n",
       "      <th>17</th>\n",
       "      <td>All Night Long</td>\n",
       "      <td>1962</td>\n",
       "    </tr>\n",
       "    <tr>\n",
       "      <th>18</th>\n",
       "      <td>Gold</td>\n",
       "      <td>1932</td>\n",
       "    </tr>\n",
       "    <tr>\n",
       "      <th>19</th>\n",
       "      <td>Partir</td>\n",
       "      <td>1931</td>\n",
       "    </tr>\n",
       "  </tbody>\n",
       "</table>\n",
       "</div>"
      ],
      "text/plain": [
       "                                        title  \\\n",
       "4                             Beomdiga shidae   \n",
       "6                                Atakku no. 1   \n",
       "8                            Un sac de billes   \n",
       "10                        That Texas Jamboree   \n",
       "11                         A Knight in London   \n",
       "15  Amore mio spogliati... che poi ti spiego!   \n",
       "17                             All Night Long   \n",
       "18                                       Gold   \n",
       "19                                     Partir   \n",
       "\n",
       "    year  \n",
       "4   1970  \n",
       "6   1970  \n",
       "8   1975  \n",
       "10  1946  \n",
       "11  1928  \n",
       "15  1975  \n",
       "17  1962  \n",
       "18  1932  \n",
       "19  1931  "
      ]
     },
     "execution_count": 269,
     "metadata": {},
     "output_type": "execute_result"
    }
   ],
   "source": [
    "h[h['year'] < 1985]\n",
    "\n",
    "#The output of the Series (boolean) is fed into the DataFrame. \n",
    "#Only the True values of DF is returned"
   ]
  },
  {
   "cell_type": "markdown",
   "metadata": {},
   "source": [
    "### Gotcha1\n",
    "\n",
    "`h[h['year'] < 1985 and h['year'] >= 1990]` will throw an Exception error: The truth value of a Series is ambiguous.\n",
    "\n",
    "`and` in this scenario proceeds by two steps: \n",
    "    \n",
    "    STEP1: Compare the left argument \n",
    "    `h['year'] < 1985` to be True or False.\n",
    "    \n",
    "    STEP2: Move on and compare right argument \n",
    "    `h['year'] >= 1990`.\n",
    "\n",
    "`and` can compare only single value not a Series/list of values.\n",
    "\n",
    "#### Solution\n",
    "\n",
    "**`&`** is a bitwise opertor of `and`. It can compare a list of bits against other.\n",
    "\n",
    "The only problem is operator precedence (PEMDAS :)). For an input \n",
    "\n",
    "<pre><code>`h[h['year'] < 1985 & h['year'] >= 1990]` </code></pre>\n",
    "\n",
    "\n",
    "**`&`** first compares '1990' and 'h.year' first and then compares the outer. So use `()` to order the operator precedence."
   ]
  },
  {
   "cell_type": "code",
   "execution_count": null,
   "metadata": {
    "collapsed": false
   },
   "outputs": [],
   "source": [
    "h[(h['year'] < 1990) & (h['year'] <= 1971)]\n",
    "h[(h['year'] < 1990) | (h['year'] <= 1971)]"
   ]
  },
  {
   "cell_type": "markdown",
   "metadata": {},
   "source": [
    "### Gotcha2\n",
    "\n",
    "**evaluating != assigning**\n",
    "<pre><code>\n",
    "x = 10; h = titles.head(10)\n",
    "x + 10; h[h.year > 1980]\n",
    "x     ; h  \n",
    "</pre> </code>\n",
    "\n",
    "x is still 10 ! 20 ; h is still `titles.head(10)`"
   ]
  },
  {
   "cell_type": "markdown",
   "metadata": {},
   "source": [
    "### Gotcha3\n",
    "\n",
    "**variables are just 'labels'**\n",
    "\n",
    "    x = pd.Series([1,2,3,4])\n",
    "    y = x\n",
    "    y[0] = 2000\n",
    "    x"
   ]
  },
  {
   "cell_type": "code",
   "execution_count": 124,
   "metadata": {
    "collapsed": false
   },
   "outputs": [
    {
     "data": {
      "text/plain": [
       "0    2000\n",
       "1       2\n",
       "2       3\n",
       "3       4\n",
       "dtype: int64"
      ]
     },
     "execution_count": 124,
     "metadata": {},
     "output_type": "execute_result"
    }
   ],
   "source": [
    "x = pd.Series([1,2,3,4])\n",
    "y = x\n",
    "y[0] = 2000\n",
    "x"
   ]
  },
  {
   "cell_type": "markdown",
   "metadata": {},
   "source": [
    "## copy"
   ]
  },
  {
   "cell_type": "code",
   "execution_count": null,
   "metadata": {
    "collapsed": true
   },
   "outputs": [],
   "source": [
    "x = pd.Series([1,2,3,4])\n",
    "y = x\n",
    "x = y.copy()\n",
    "y[0] = 2000\n",
    "x"
   ]
  },
  {
   "cell_type": "markdown",
   "metadata": {},
   "source": [
    "## Ordering / Sorting\n",
    "\n",
    "`order` a Series, `sort` a DataFrame "
   ]
  },
  {
   "cell_type": "code",
   "execution_count": 271,
   "metadata": {
    "collapsed": false,
    "scrolled": false
   },
   "outputs": [
    {
     "data": {
      "text/plain": [
       "11    1928\n",
       "19    1931\n",
       "18    1932\n",
       "10    1946\n",
       "17    1962\n",
       "4     1970\n",
       "6     1970\n",
       "15    1975\n",
       "8     1975\n",
       "1     1989\n",
       "7     1991\n",
       "3     1993\n",
       "12    1995\n",
       "0     2005\n",
       "2     2005\n",
       "9     2005\n",
       "5     2009\n",
       "16    2010\n",
       "14    2012\n",
       "13    2015\n",
       "Name: year, dtype: int64"
      ]
     },
     "execution_count": 271,
     "metadata": {},
     "output_type": "execute_result"
    }
   ],
   "source": [
    "h['year'].order()"
   ]
  },
  {
   "cell_type": "markdown",
   "metadata": {},
   "source": [
    "see [Gotcha4](### Gotcha4)"
   ]
  },
  {
   "cell_type": "markdown",
   "metadata": {},
   "source": [
    "## apply,  map, drop\n",
    "\n",
    "`apply` works on a row / column basis of a DataFrame, \n",
    "\n",
    "`applymap` works element-wise on a DataFrame, \n",
    "\n",
    "`map` works element-wise on a Series."
   ]
  },
  {
   "cell_type": "code",
   "execution_count": 153,
   "metadata": {
    "collapsed": false
   },
   "outputs": [
    {
     "data": {
      "text/html": [
       "<div>\n",
       "<table border=\"1\" class=\"dataframe\">\n",
       "  <thead>\n",
       "    <tr style=\"text-align: right;\">\n",
       "      <th></th>\n",
       "      <th>title</th>\n",
       "      <th>year</th>\n",
       "    </tr>\n",
       "  </thead>\n",
       "  <tbody>\n",
       "    <tr>\n",
       "      <th>5</th>\n",
       "      <td>100Volta</td>\n",
       "      <td>2009</td>\n",
       "    </tr>\n",
       "    <tr>\n",
       "      <th>6</th>\n",
       "      <td>Atakku no. 1</td>\n",
       "      <td>1970</td>\n",
       "    </tr>\n",
       "    <tr>\n",
       "      <th>7</th>\n",
       "      <td>Uroki v kontse vesny</td>\n",
       "      <td>1991</td>\n",
       "    </tr>\n",
       "    <tr>\n",
       "      <th>8</th>\n",
       "      <td>Un sac de billes</td>\n",
       "      <td>1975</td>\n",
       "    </tr>\n",
       "    <tr>\n",
       "      <th>9</th>\n",
       "      <td>The Trouble with Men and Women</td>\n",
       "      <td>2005</td>\n",
       "    </tr>\n",
       "    <tr>\n",
       "      <th>10</th>\n",
       "      <td>That Texas Jamboree</td>\n",
       "      <td>1946</td>\n",
       "    </tr>\n",
       "  </tbody>\n",
       "</table>\n",
       "</div>"
      ],
      "text/plain": [
       "                             title  \\\n",
       "5                         100Volta   \n",
       "6                     Atakku no. 1   \n",
       "7             Uroki v kontse vesny   \n",
       "8                 Un sac de billes   \n",
       "9   The Trouble with Men and Women   \n",
       "10             That Texas Jamboree   \n",
       "\n",
       "    year  \n",
       "5   2009  \n",
       "6   1970  \n",
       "7   1991  \n",
       "8   1975  \n",
       "9   2005  \n",
       "10  1946  "
      ]
     },
     "execution_count": 153,
     "metadata": {},
     "output_type": "execute_result"
    }
   ],
   "source": [
    "h.ix[5:10] #h.head(5:10) !!!!"
   ]
  },
  {
   "cell_type": "code",
   "execution_count": 88,
   "metadata": {
    "collapsed": true
   },
   "outputs": [],
   "source": [
    "def f(x):\n",
    "    if x >= 1950:\n",
    "        return str(\"19th Century\")\n",
    "    else:\n",
    "        return str(\"20th Century\")"
   ]
  },
  {
   "cell_type": "code",
   "execution_count": 177,
   "metadata": {
    "collapsed": false
   },
   "outputs": [
    {
     "data": {
      "text/html": [
       "<div>\n",
       "<table border=\"1\" class=\"dataframe\">\n",
       "  <thead>\n",
       "    <tr style=\"text-align: right;\">\n",
       "      <th></th>\n",
       "      <th>title</th>\n",
       "      <th>year</th>\n",
       "      <th>Century</th>\n",
       "    </tr>\n",
       "  </thead>\n",
       "  <tbody>\n",
       "    <tr>\n",
       "      <th>5</th>\n",
       "      <td>100Volta</td>\n",
       "      <td>2009</td>\n",
       "      <td>19th Century</td>\n",
       "    </tr>\n",
       "    <tr>\n",
       "      <th>6</th>\n",
       "      <td>Atakku no. 1</td>\n",
       "      <td>1970</td>\n",
       "      <td>19th Century</td>\n",
       "    </tr>\n",
       "    <tr>\n",
       "      <th>7</th>\n",
       "      <td>Uroki v kontse vesny</td>\n",
       "      <td>1991</td>\n",
       "      <td>19th Century</td>\n",
       "    </tr>\n",
       "    <tr>\n",
       "      <th>8</th>\n",
       "      <td>Un sac de billes</td>\n",
       "      <td>1975</td>\n",
       "      <td>19th Century</td>\n",
       "    </tr>\n",
       "    <tr>\n",
       "      <th>9</th>\n",
       "      <td>The Trouble with Men and Women</td>\n",
       "      <td>2005</td>\n",
       "      <td>19th Century</td>\n",
       "    </tr>\n",
       "    <tr>\n",
       "      <th>10</th>\n",
       "      <td>That Texas Jamboree</td>\n",
       "      <td>1946</td>\n",
       "      <td>20th Century</td>\n",
       "    </tr>\n",
       "  </tbody>\n",
       "</table>\n",
       "</div>"
      ],
      "text/plain": [
       "                             title  \\\n",
       "5                         100Volta   \n",
       "6                     Atakku no. 1   \n",
       "7             Uroki v kontse vesny   \n",
       "8                 Un sac de billes   \n",
       "9   The Trouble with Men and Women   \n",
       "10             That Texas Jamboree   \n",
       "\n",
       "    year       Century  \n",
       "5   2009  19th Century  \n",
       "6   1970  19th Century  \n",
       "7   1991  19th Century  \n",
       "8   1975  19th Century  \n",
       "9   2005  19th Century  \n",
       "10  1946  20th Century  "
      ]
     },
     "execution_count": 177,
     "metadata": {},
     "output_type": "execute_result"
    }
   ],
   "source": [
    "df = h.copy()\n",
    "df['Century'] = h[\"year\"].apply(f)\n",
    "df.ix[5:10]"
   ]
  },
  {
   "cell_type": "code",
   "execution_count": 178,
   "metadata": {
    "collapsed": false
   },
   "outputs": [
    {
     "data": {
      "text/html": [
       "<div>\n",
       "<table border=\"1\" class=\"dataframe\">\n",
       "  <thead>\n",
       "    <tr style=\"text-align: right;\">\n",
       "      <th></th>\n",
       "      <th>title</th>\n",
       "      <th>year</th>\n",
       "      <th>decade</th>\n",
       "    </tr>\n",
       "  </thead>\n",
       "  <tbody>\n",
       "    <tr>\n",
       "      <th>5</th>\n",
       "      <td>100Volta</td>\n",
       "      <td>2009</td>\n",
       "      <td>2000</td>\n",
       "    </tr>\n",
       "    <tr>\n",
       "      <th>6</th>\n",
       "      <td>Atakku no. 1</td>\n",
       "      <td>1970</td>\n",
       "      <td>1970</td>\n",
       "    </tr>\n",
       "    <tr>\n",
       "      <th>7</th>\n",
       "      <td>Uroki v kontse vesny</td>\n",
       "      <td>1991</td>\n",
       "      <td>1990</td>\n",
       "    </tr>\n",
       "    <tr>\n",
       "      <th>8</th>\n",
       "      <td>Un sac de billes</td>\n",
       "      <td>1975</td>\n",
       "      <td>1970</td>\n",
       "    </tr>\n",
       "    <tr>\n",
       "      <th>9</th>\n",
       "      <td>The Trouble with Men and Women</td>\n",
       "      <td>2005</td>\n",
       "      <td>2000</td>\n",
       "    </tr>\n",
       "    <tr>\n",
       "      <th>10</th>\n",
       "      <td>That Texas Jamboree</td>\n",
       "      <td>1946</td>\n",
       "      <td>1940</td>\n",
       "    </tr>\n",
       "  </tbody>\n",
       "</table>\n",
       "</div>"
      ],
      "text/plain": [
       "                             title  \\\n",
       "5                         100Volta   \n",
       "6                     Atakku no. 1   \n",
       "7             Uroki v kontse vesny   \n",
       "8                 Un sac de billes   \n",
       "9   The Trouble with Men and Women   \n",
       "10             That Texas Jamboree   \n",
       "\n",
       "    year  decade  \n",
       "5   2009    2000  \n",
       "6   1970    1970  \n",
       "7   1991    1990  \n",
       "8   1975    1970  \n",
       "9   2005    2000  \n",
       "10  1946    1940  "
      ]
     },
     "execution_count": 178,
     "metadata": {},
     "output_type": "execute_result"
    }
   ],
   "source": [
    "dec = lambda x: x // 10*10\n",
    "df['decade'] = df['year'].map(dec)\n",
    "\n",
    "df = df.drop('Century', axis=1) #axis = 0 is rowwise operation.\n",
    "df.ix[5:10]"
   ]
  },
  {
   "cell_type": "markdown",
   "metadata": {},
   "source": [
    "## Freq and Plot"
   ]
  },
  {
   "cell_type": "code",
   "execution_count": 164,
   "metadata": {
    "collapsed": false
   },
   "outputs": [
    {
     "data": {
      "text/plain": [
       "1970    4\n",
       "2000    4\n",
       "2010    3\n",
       "1990    3\n",
       "1930    2\n",
       "1980    1\n",
       "1940    1\n",
       "1960    1\n",
       "1920    1\n",
       "dtype: int64"
      ]
     },
     "execution_count": 164,
     "metadata": {},
     "output_type": "execute_result"
    }
   ],
   "source": [
    "#value_counts of a Series returns the frequency.\n",
    "df.decade.value_counts().head(10)"
   ]
  },
  {
   "cell_type": "markdown",
   "metadata": {},
   "source": [
    "### Gotcha4\n",
    "\n",
    "The resulting Series will be sorted  by *values*. \n",
    "\n",
    "\n",
    "If we have a Series with *index* and *values*, we can use `.plot()` to vizualise."
   ]
  },
  {
   "cell_type": "code",
   "execution_count": 155,
   "metadata": {
    "collapsed": false
   },
   "outputs": [
    {
     "data": {
      "text/plain": [
       "<matplotlib.axes._subplots.AxesSubplot at 0x7f953b9e7908>"
      ]
     },
     "execution_count": 155,
     "metadata": {},
     "output_type": "execute_result"
    },
    {
     "data": {
      "image/png": "[encoded data removed]",
      "text/plain": [
       "<matplotlib.figure.Figure at 0x7f953b9e7c18>"
      ]
     },
     "metadata": {},
     "output_type": "display_data"
    }
   ],
   "source": [
    "titles.year.value_counts().sort_index().plot()"
   ]
  },
  {
   "cell_type": "code",
   "execution_count": null,
   "metadata": {
    "collapsed": false
   },
   "outputs": [],
   "source": [
    "c = cast\n",
    "c = c[c.character == 'Bosco']\n",
    "c.plot(x='year', y='n', kind='scatter')"
   ]
  },
  {
   "cell_type": "code",
   "execution_count": null,
   "metadata": {
    "collapsed": true
   },
   "outputs": [],
   "source": []
  },
  {
   "cell_type": "markdown",
   "metadata": {},
   "source": [
    "# DataFrame"
   ]
  },
  {
   "cell_type": "code",
   "execution_count": 127,
   "metadata": {
    "collapsed": false
   },
   "outputs": [
    {
     "data": {
      "text/html": [
       "<div>\n",
       "<table border=\"1\" class=\"dataframe\">\n",
       "  <thead>\n",
       "    <tr style=\"text-align: right;\">\n",
       "      <th></th>\n",
       "      <th>title</th>\n",
       "      <th>year</th>\n",
       "      <th>name</th>\n",
       "      <th>type</th>\n",
       "      <th>character</th>\n",
       "      <th>n</th>\n",
       "    </tr>\n",
       "  </thead>\n",
       "  <tbody>\n",
       "    <tr>\n",
       "      <th>0</th>\n",
       "      <td>Suuri illusioni</td>\n",
       "      <td>1985</td>\n",
       "      <td>Homo $</td>\n",
       "      <td>actor</td>\n",
       "      <td>Guests</td>\n",
       "      <td>22</td>\n",
       "    </tr>\n",
       "    <tr>\n",
       "      <th>1</th>\n",
       "      <td>Gangsta Rap: The Glockumentary</td>\n",
       "      <td>2007</td>\n",
       "      <td>Too $hort</td>\n",
       "      <td>actor</td>\n",
       "      <td>Himself</td>\n",
       "      <td>NaN</td>\n",
       "    </tr>\n",
       "    <tr>\n",
       "      <th>2</th>\n",
       "      <td>Menace II Society</td>\n",
       "      <td>1993</td>\n",
       "      <td>Too $hort</td>\n",
       "      <td>actor</td>\n",
       "      <td>Lew-Loc</td>\n",
       "      <td>27</td>\n",
       "    </tr>\n",
       "    <tr>\n",
       "      <th>3</th>\n",
       "      <td>Porndogs: The Adventures of Sadie</td>\n",
       "      <td>2009</td>\n",
       "      <td>Too $hort</td>\n",
       "      <td>actor</td>\n",
       "      <td>Bosco</td>\n",
       "      <td>3</td>\n",
       "    </tr>\n",
       "    <tr>\n",
       "      <th>4</th>\n",
       "      <td>Stop Pepper Palmer</td>\n",
       "      <td>2014</td>\n",
       "      <td>Too $hort</td>\n",
       "      <td>actor</td>\n",
       "      <td>Himself</td>\n",
       "      <td>NaN</td>\n",
       "    </tr>\n",
       "    <tr>\n",
       "      <th>5</th>\n",
       "      <td>Townbiz</td>\n",
       "      <td>2010</td>\n",
       "      <td>Too $hort</td>\n",
       "      <td>actor</td>\n",
       "      <td>Himself</td>\n",
       "      <td>NaN</td>\n",
       "    </tr>\n",
       "    <tr>\n",
       "      <th>6</th>\n",
       "      <td>For Thy Love 2</td>\n",
       "      <td>2009</td>\n",
       "      <td>Bee Moe $lim</td>\n",
       "      <td>actor</td>\n",
       "      <td>Thug 1</td>\n",
       "      <td>NaN</td>\n",
       "    </tr>\n",
       "    <tr>\n",
       "      <th>7</th>\n",
       "      <td>Desire (III)</td>\n",
       "      <td>2014</td>\n",
       "      <td>Syaiful 'Ariffin</td>\n",
       "      <td>actor</td>\n",
       "      <td>Actor Playing Eteocles from 'Antigone'</td>\n",
       "      <td>NaN</td>\n",
       "    </tr>\n",
       "    <tr>\n",
       "      <th>8</th>\n",
       "      <td>When the Man Went South</td>\n",
       "      <td>2014</td>\n",
       "      <td>Taipaleti 'Atu'ake</td>\n",
       "      <td>actor</td>\n",
       "      <td>Two Palms - Ua'i Paame</td>\n",
       "      <td>8</td>\n",
       "    </tr>\n",
       "    <tr>\n",
       "      <th>9</th>\n",
       "      <td>Little Angel (Angelita)</td>\n",
       "      <td>2015</td>\n",
       "      <td>Michael 'babeepower' Viera</td>\n",
       "      <td>actor</td>\n",
       "      <td>Chico</td>\n",
       "      <td>9</td>\n",
       "    </tr>\n",
       "  </tbody>\n",
       "</table>\n",
       "</div>"
      ],
      "text/plain": [
       "                               title  \\\n",
       "0                    Suuri illusioni   \n",
       "1     Gangsta Rap: The Glockumentary   \n",
       "2                  Menace II Society   \n",
       "3  Porndogs: The Adventures of Sadie   \n",
       "4                 Stop Pepper Palmer   \n",
       "5                            Townbiz   \n",
       "6                     For Thy Love 2   \n",
       "7                       Desire (III)   \n",
       "8            When the Man Went South   \n",
       "9            Little Angel (Angelita)   \n",
       "\n",
       "   year                        name  \\\n",
       "0  1985                      Homo $   \n",
       "1  2007                   Too $hort   \n",
       "2  1993                   Too $hort   \n",
       "3  2009                   Too $hort   \n",
       "4  2014                   Too $hort   \n",
       "5  2010                   Too $hort   \n",
       "6  2009                Bee Moe $lim   \n",
       "7  2014            Syaiful 'Ariffin   \n",
       "8  2014          Taipaleti 'Atu'ake   \n",
       "9  2015  Michael 'babeepower' Viera   \n",
       "\n",
       "    type  \\\n",
       "0  actor   \n",
       "1  actor   \n",
       "2  actor   \n",
       "3  actor   \n",
       "4  actor   \n",
       "5  actor   \n",
       "6  actor   \n",
       "7  actor   \n",
       "8  actor   \n",
       "9  actor   \n",
       "\n",
       "                                character  \\\n",
       "0                                  Guests   \n",
       "1                                 Himself   \n",
       "2                                 Lew-Loc   \n",
       "3                                   Bosco   \n",
       "4                                 Himself   \n",
       "5                                 Himself   \n",
       "6                                  Thug 1   \n",
       "7  Actor Playing Eteocles from 'Antigone'   \n",
       "8                  Two Palms - Ua'i Paame   \n",
       "9                                   Chico   \n",
       "\n",
       "    n  \n",
       "0  22  \n",
       "1 NaN  \n",
       "2  27  \n",
       "3   3  \n",
       "4 NaN  \n",
       "5 NaN  \n",
       "6 NaN  \n",
       "7 NaN  \n",
       "8   8  \n",
       "9   9  "
      ]
     },
     "execution_count": 127,
     "metadata": {},
     "output_type": "execute_result"
    }
   ],
   "source": [
    "cast = pd.DataFrame.from_csv(\n",
    "    'pycon-pandas-tutorial/cast.csv',\n",
    "    index_col = None,\n",
    "    encoding = 'utf-8')\n",
    "cast.head(10)"
   ]
  },
  {
   "cell_type": "code",
   "execution_count": 129,
   "metadata": {
    "collapsed": false
   },
   "outputs": [
    {
     "data": {
      "text/plain": [
       "(3311647, ['title', 'year', 'name', 'type', 'character', 'n'])"
      ]
     },
     "execution_count": 129,
     "metadata": {},
     "output_type": "execute_result"
    }
   ],
   "source": [
    "len(cast), list(cast)"
   ]
  },
  {
   "cell_type": "code",
   "execution_count": 138,
   "metadata": {
    "collapsed": false
   },
   "outputs": [
    {
     "data": {
      "text/html": [
       "<div>\n",
       "<table border=\"1\" class=\"dataframe\">\n",
       "  <thead>\n",
       "    <tr style=\"text-align: right;\">\n",
       "      <th></th>\n",
       "      <th>title</th>\n",
       "      <th>year</th>\n",
       "      <th>name</th>\n",
       "      <th>type</th>\n",
       "      <th>character</th>\n",
       "      <th>n</th>\n",
       "    </tr>\n",
       "  </thead>\n",
       "  <tbody>\n",
       "    <tr>\n",
       "      <th>1</th>\n",
       "      <td>Gangsta Rap: The Glockumentary</td>\n",
       "      <td>2007</td>\n",
       "      <td>Too $hort</td>\n",
       "      <td>actor</td>\n",
       "      <td>Himself</td>\n",
       "      <td>NaN</td>\n",
       "    </tr>\n",
       "    <tr>\n",
       "      <th>4</th>\n",
       "      <td>Stop Pepper Palmer</td>\n",
       "      <td>2014</td>\n",
       "      <td>Too $hort</td>\n",
       "      <td>actor</td>\n",
       "      <td>Himself</td>\n",
       "      <td>NaN</td>\n",
       "    </tr>\n",
       "    <tr>\n",
       "      <th>5</th>\n",
       "      <td>Townbiz</td>\n",
       "      <td>2010</td>\n",
       "      <td>Too $hort</td>\n",
       "      <td>actor</td>\n",
       "      <td>Himself</td>\n",
       "      <td>NaN</td>\n",
       "    </tr>\n",
       "  </tbody>\n",
       "</table>\n",
       "</div>"
      ],
      "text/plain": [
       "                            title  \\\n",
       "1  Gangsta Rap: The Glockumentary   \n",
       "4              Stop Pepper Palmer   \n",
       "5                         Townbiz   \n",
       "\n",
       "   year       name   type character  \\\n",
       "1  2007  Too $hort  actor   Himself   \n",
       "4  2014  Too $hort  actor   Himself   \n",
       "5  2010  Too $hort  actor   Himself   \n",
       "\n",
       "    n  \n",
       "1 NaN  \n",
       "4 NaN  \n",
       "5 NaN  "
      ]
     },
     "execution_count": 138,
     "metadata": {},
     "output_type": "execute_result"
    }
   ],
   "source": [
    "c = cast.head(10)\n",
    "c = c[c.n.isnull()] #.notnull()\n",
    "c[c.name == \"Too $hort\"]"
   ]
  },
  {
   "cell_type": "markdown",
   "metadata": {},
   "source": [
    "## Index / Indices\n",
    "\n",
    "Organise and fast access of data "
   ]
  },
  {
   "cell_type": "code",
   "execution_count": null,
   "metadata": {
    "collapsed": false
   },
   "outputs": [],
   "source": [
    "cast.head()"
   ]
  },
  {
   "cell_type": "code",
   "execution_count": null,
   "metadata": {
    "collapsed": false
   },
   "outputs": [],
   "source": [
    "%%time \n",
    "#timeit runs the cell four times, Avoid it\n",
    "cast[cast.title == 'Sleuth']"
   ]
  },
  {
   "cell_type": "code",
   "execution_count": 126,
   "metadata": {
    "collapsed": false
   },
   "outputs": [
    {
     "data": {
      "text/html": [
       "<div>\n",
       "<table border=\"1\" class=\"dataframe\">\n",
       "  <thead>\n",
       "    <tr style=\"text-align: right;\">\n",
       "      <th></th>\n",
       "      <th>year</th>\n",
       "      <th>name</th>\n",
       "      <th>type</th>\n",
       "      <th>character</th>\n",
       "      <th>n</th>\n",
       "    </tr>\n",
       "    <tr>\n",
       "      <th>title</th>\n",
       "      <th></th>\n",
       "      <th></th>\n",
       "      <th></th>\n",
       "      <th></th>\n",
       "      <th></th>\n",
       "    </tr>\n",
       "  </thead>\n",
       "  <tbody>\n",
       "    <tr>\n",
       "      <th>Suuri illusioni</th>\n",
       "      <td>1985</td>\n",
       "      <td>Homo $</td>\n",
       "      <td>actor</td>\n",
       "      <td>Guests</td>\n",
       "      <td>22</td>\n",
       "    </tr>\n",
       "    <tr>\n",
       "      <th>Gangsta Rap: The Glockumentary</th>\n",
       "      <td>2007</td>\n",
       "      <td>Too $hort</td>\n",
       "      <td>actor</td>\n",
       "      <td>Himself</td>\n",
       "      <td>NaN</td>\n",
       "    </tr>\n",
       "    <tr>\n",
       "      <th>Menace II Society</th>\n",
       "      <td>1993</td>\n",
       "      <td>Too $hort</td>\n",
       "      <td>actor</td>\n",
       "      <td>Lew-Loc</td>\n",
       "      <td>27</td>\n",
       "    </tr>\n",
       "    <tr>\n",
       "      <th>Porndogs: The Adventures of Sadie</th>\n",
       "      <td>2009</td>\n",
       "      <td>Too $hort</td>\n",
       "      <td>actor</td>\n",
       "      <td>Bosco</td>\n",
       "      <td>3</td>\n",
       "    </tr>\n",
       "    <tr>\n",
       "      <th>Stop Pepper Palmer</th>\n",
       "      <td>2014</td>\n",
       "      <td>Too $hort</td>\n",
       "      <td>actor</td>\n",
       "      <td>Himself</td>\n",
       "      <td>NaN</td>\n",
       "    </tr>\n",
       "  </tbody>\n",
       "</table>\n",
       "</div>"
      ],
      "text/plain": [
       "                                   year       name   type character   n\n",
       "title                                                                  \n",
       "Suuri illusioni                    1985     Homo $  actor    Guests  22\n",
       "Gangsta Rap: The Glockumentary     2007  Too $hort  actor   Himself NaN\n",
       "Menace II Society                  1993  Too $hort  actor   Lew-Loc  27\n",
       "Porndogs: The Adventures of Sadie  2009  Too $hort  actor     Bosco   3\n",
       "Stop Pepper Palmer                 2014  Too $hort  actor   Himself NaN"
      ]
     },
     "execution_count": 126,
     "metadata": {},
     "output_type": "execute_result"
    }
   ],
   "source": [
    "c = cast.set_index(['title'])\n",
    "c.head()"
   ]
  },
  {
   "cell_type": "markdown",
   "metadata": {},
   "source": [
    "## DataFrame acts like a dict\n",
    "\n",
    "After changing the usefull column as index, the DataFrame behaves like a 'dict'.\n",
    "\n",
    "`.loc['key']` acts as dict look up. similar to `x['key']` in dict\n"
   ]
  },
  {
   "cell_type": "code",
   "execution_count": 129,
   "metadata": {
    "collapsed": false
   },
   "outputs": [
    {
     "name": "stdout",
     "output_type": "stream",
     "text": [
      "CPU times: user 0 ns, sys: 0 ns, total: 0 ns\n",
      "Wall time: 6.2 µs\n"
     ]
    },
    {
     "data": {
      "text/html": [
       "<div>\n",
       "<table border=\"1\" class=\"dataframe\">\n",
       "  <thead>\n",
       "    <tr style=\"text-align: right;\">\n",
       "      <th></th>\n",
       "      <th>year</th>\n",
       "      <th>name</th>\n",
       "      <th>type</th>\n",
       "      <th>character</th>\n",
       "      <th>n</th>\n",
       "    </tr>\n",
       "    <tr>\n",
       "      <th>title</th>\n",
       "      <th></th>\n",
       "      <th></th>\n",
       "      <th></th>\n",
       "      <th></th>\n",
       "      <th></th>\n",
       "    </tr>\n",
       "  </thead>\n",
       "  <tbody>\n",
       "    <tr>\n",
       "      <th>Sleuth</th>\n",
       "      <td>2007</td>\n",
       "      <td>Kenneth Branagh</td>\n",
       "      <td>actor</td>\n",
       "      <td>Other Man on T.V.</td>\n",
       "      <td>NaN</td>\n",
       "    </tr>\n",
       "    <tr>\n",
       "      <th>Sleuth</th>\n",
       "      <td>1972</td>\n",
       "      <td>Michael Caine</td>\n",
       "      <td>actor</td>\n",
       "      <td>Milo Tindle</td>\n",
       "      <td>2</td>\n",
       "    </tr>\n",
       "    <tr>\n",
       "      <th>Sleuth</th>\n",
       "      <td>2007</td>\n",
       "      <td>Michael Caine</td>\n",
       "      <td>actor</td>\n",
       "      <td>Andrew</td>\n",
       "      <td>1</td>\n",
       "    </tr>\n",
       "    <tr>\n",
       "      <th>Sleuth</th>\n",
       "      <td>1972</td>\n",
       "      <td>Alec Cawthorne</td>\n",
       "      <td>actor</td>\n",
       "      <td>Inspector Doppler</td>\n",
       "      <td>3</td>\n",
       "    </tr>\n",
       "    <tr>\n",
       "      <th>Sleuth</th>\n",
       "      <td>2007</td>\n",
       "      <td>Alec (II) Cawthorne</td>\n",
       "      <td>actor</td>\n",
       "      <td>Inspector Doppler</td>\n",
       "      <td>NaN</td>\n",
       "    </tr>\n",
       "    <tr>\n",
       "      <th>Sleuth</th>\n",
       "      <td>2007</td>\n",
       "      <td>Jude Law</td>\n",
       "      <td>actor</td>\n",
       "      <td>Milo</td>\n",
       "      <td>2</td>\n",
       "    </tr>\n",
       "    <tr>\n",
       "      <th>Sleuth</th>\n",
       "      <td>1972</td>\n",
       "      <td>Teddy Martin</td>\n",
       "      <td>actor</td>\n",
       "      <td>Police Constable Higgs</td>\n",
       "      <td>6</td>\n",
       "    </tr>\n",
       "    <tr>\n",
       "      <th>Sleuth</th>\n",
       "      <td>1972</td>\n",
       "      <td>John (II) Matthews</td>\n",
       "      <td>actor</td>\n",
       "      <td>Detective Sergeant Tarrant</td>\n",
       "      <td>4</td>\n",
       "    </tr>\n",
       "    <tr>\n",
       "      <th>Sleuth</th>\n",
       "      <td>1972</td>\n",
       "      <td>Laurence Olivier</td>\n",
       "      <td>actor</td>\n",
       "      <td>Andrew Wyke</td>\n",
       "      <td>1</td>\n",
       "    </tr>\n",
       "    <tr>\n",
       "      <th>Sleuth</th>\n",
       "      <td>2007</td>\n",
       "      <td>Harold Pinter</td>\n",
       "      <td>actor</td>\n",
       "      <td>Man on T.V.</td>\n",
       "      <td>3</td>\n",
       "    </tr>\n",
       "    <tr>\n",
       "      <th>Sleuth</th>\n",
       "      <td>2007</td>\n",
       "      <td>Eve (II) Channing</td>\n",
       "      <td>actress</td>\n",
       "      <td>Marguerite Wyke</td>\n",
       "      <td>NaN</td>\n",
       "    </tr>\n",
       "    <tr>\n",
       "      <th>Sleuth</th>\n",
       "      <td>1972</td>\n",
       "      <td>Eve (III) Channing</td>\n",
       "      <td>actress</td>\n",
       "      <td>Marguerite Wyke</td>\n",
       "      <td>5</td>\n",
       "    </tr>\n",
       "    <tr>\n",
       "      <th>Sleuth</th>\n",
       "      <td>2007</td>\n",
       "      <td>Carmel O'Sullivan</td>\n",
       "      <td>actress</td>\n",
       "      <td>Maggie</td>\n",
       "      <td>NaN</td>\n",
       "    </tr>\n",
       "  </tbody>\n",
       "</table>\n",
       "</div>"
      ],
      "text/plain": [
       "        year                 name     type                   character   n\n",
       "title                                                                     \n",
       "Sleuth  2007      Kenneth Branagh    actor           Other Man on T.V. NaN\n",
       "Sleuth  1972        Michael Caine    actor                 Milo Tindle   2\n",
       "Sleuth  2007        Michael Caine    actor                      Andrew   1\n",
       "Sleuth  1972       Alec Cawthorne    actor           Inspector Doppler   3\n",
       "Sleuth  2007  Alec (II) Cawthorne    actor           Inspector Doppler NaN\n",
       "Sleuth  2007             Jude Law    actor                        Milo   2\n",
       "Sleuth  1972         Teddy Martin    actor      Police Constable Higgs   6\n",
       "Sleuth  1972   John (II) Matthews    actor  Detective Sergeant Tarrant   4\n",
       "Sleuth  1972     Laurence Olivier    actor                 Andrew Wyke   1\n",
       "Sleuth  2007        Harold Pinter    actor                 Man on T.V.   3\n",
       "Sleuth  2007    Eve (II) Channing  actress             Marguerite Wyke NaN\n",
       "Sleuth  1972   Eve (III) Channing  actress             Marguerite Wyke   5\n",
       "Sleuth  2007    Carmel O'Sullivan  actress                      Maggie NaN"
      ]
     },
     "execution_count": 129,
     "metadata": {},
     "output_type": "execute_result"
    }
   ],
   "source": [
    "%time\n",
    "c.loc['Sleuth']"
   ]
  },
  {
   "cell_type": "markdown",
   "metadata": {},
   "source": [
    "### Trick\n",
    "An index helps if it is ordered. 'divide and conquer' alogorithm can operate fast on a sorted index"
   ]
  },
  {
   "cell_type": "code",
   "execution_count": 5,
   "metadata": {
    "collapsed": false
   },
   "outputs": [
    {
     "data": {
      "text/html": [
       "<div>\n",
       "<table border=\"1\" class=\"dataframe\">\n",
       "  <thead>\n",
       "    <tr style=\"text-align: right;\">\n",
       "      <th></th>\n",
       "      <th>year</th>\n",
       "      <th>name</th>\n",
       "      <th>type</th>\n",
       "      <th>character</th>\n",
       "      <th>n</th>\n",
       "    </tr>\n",
       "    <tr>\n",
       "      <th>title</th>\n",
       "      <th></th>\n",
       "      <th></th>\n",
       "      <th></th>\n",
       "      <th></th>\n",
       "      <th></th>\n",
       "    </tr>\n",
       "  </thead>\n",
       "  <tbody>\n",
       "    <tr>\n",
       "      <th>#1 Serial Killer</th>\n",
       "      <td>2013</td>\n",
       "      <td>Michael Alton</td>\n",
       "      <td>actor</td>\n",
       "      <td>Detective Roberts</td>\n",
       "      <td>17</td>\n",
       "    </tr>\n",
       "    <tr>\n",
       "      <th>#1 Serial Killer</th>\n",
       "      <td>2013</td>\n",
       "      <td>Aaron Aoki</td>\n",
       "      <td>actor</td>\n",
       "      <td>Plastic Bag Victim</td>\n",
       "      <td>21</td>\n",
       "    </tr>\n",
       "    <tr>\n",
       "      <th>#1 Serial Killer</th>\n",
       "      <td>2013</td>\n",
       "      <td>Zachary (X) Brown</td>\n",
       "      <td>actor</td>\n",
       "      <td>Africian American Teen</td>\n",
       "      <td>18</td>\n",
       "    </tr>\n",
       "    <tr>\n",
       "      <th>#1 Serial Killer</th>\n",
       "      <td>2013</td>\n",
       "      <td>Yvis Cannavale</td>\n",
       "      <td>actor</td>\n",
       "      <td>Homeless Man</td>\n",
       "      <td>25</td>\n",
       "    </tr>\n",
       "    <tr>\n",
       "      <th>#1 Serial Killer</th>\n",
       "      <td>2013</td>\n",
       "      <td>Patrick Chien</td>\n",
       "      <td>actor</td>\n",
       "      <td>Cleaver Victim</td>\n",
       "      <td>22</td>\n",
       "    </tr>\n",
       "  </tbody>\n",
       "</table>\n",
       "</div>"
      ],
      "text/plain": [
       "                  year               name   type               character   n\n",
       "title                                                                       \n",
       "#1 Serial Killer  2013      Michael Alton  actor       Detective Roberts  17\n",
       "#1 Serial Killer  2013         Aaron Aoki  actor      Plastic Bag Victim  21\n",
       "#1 Serial Killer  2013  Zachary (X) Brown  actor  Africian American Teen  18\n",
       "#1 Serial Killer  2013     Yvis Cannavale  actor            Homeless Man  25\n",
       "#1 Serial Killer  2013      Patrick Chien  actor          Cleaver Victim  22"
      ]
     },
     "execution_count": 5,
     "metadata": {},
     "output_type": "execute_result"
    }
   ],
   "source": [
    "c = cast.set_index(['title']).sort_index()\n",
    "c.head()"
   ]
  },
  {
   "cell_type": "code",
   "execution_count": 9,
   "metadata": {
    "collapsed": false
   },
   "outputs": [
    {
     "name": "stdout",
     "output_type": "stream",
     "text": [
      "CPU times: user 0 ns, sys: 0 ns, total: 0 ns\n",
      "Wall time: 657 µs\n"
     ]
    },
    {
     "data": {
      "text/html": [
       "<div>\n",
       "<table border=\"1\" class=\"dataframe\">\n",
       "  <thead>\n",
       "    <tr style=\"text-align: right;\">\n",
       "      <th></th>\n",
       "      <th>year</th>\n",
       "      <th>name</th>\n",
       "      <th>type</th>\n",
       "      <th>character</th>\n",
       "      <th>n</th>\n",
       "    </tr>\n",
       "    <tr>\n",
       "      <th>title</th>\n",
       "      <th></th>\n",
       "      <th></th>\n",
       "      <th></th>\n",
       "      <th></th>\n",
       "      <th></th>\n",
       "    </tr>\n",
       "  </thead>\n",
       "  <tbody>\n",
       "    <tr>\n",
       "      <th>Sleuth</th>\n",
       "      <td>2007</td>\n",
       "      <td>Kenneth Branagh</td>\n",
       "      <td>actor</td>\n",
       "      <td>Other Man on T.V.</td>\n",
       "      <td>NaN</td>\n",
       "    </tr>\n",
       "    <tr>\n",
       "      <th>Sleuth</th>\n",
       "      <td>1972</td>\n",
       "      <td>Michael Caine</td>\n",
       "      <td>actor</td>\n",
       "      <td>Milo Tindle</td>\n",
       "      <td>2</td>\n",
       "    </tr>\n",
       "    <tr>\n",
       "      <th>Sleuth</th>\n",
       "      <td>2007</td>\n",
       "      <td>Michael Caine</td>\n",
       "      <td>actor</td>\n",
       "      <td>Andrew</td>\n",
       "      <td>1</td>\n",
       "    </tr>\n",
       "    <tr>\n",
       "      <th>Sleuth</th>\n",
       "      <td>1972</td>\n",
       "      <td>Alec Cawthorne</td>\n",
       "      <td>actor</td>\n",
       "      <td>Inspector Doppler</td>\n",
       "      <td>3</td>\n",
       "    </tr>\n",
       "    <tr>\n",
       "      <th>Sleuth</th>\n",
       "      <td>2007</td>\n",
       "      <td>Alec (II) Cawthorne</td>\n",
       "      <td>actor</td>\n",
       "      <td>Inspector Doppler</td>\n",
       "      <td>NaN</td>\n",
       "    </tr>\n",
       "    <tr>\n",
       "      <th>Sleuth</th>\n",
       "      <td>2007</td>\n",
       "      <td>Jude Law</td>\n",
       "      <td>actor</td>\n",
       "      <td>Milo</td>\n",
       "      <td>2</td>\n",
       "    </tr>\n",
       "    <tr>\n",
       "      <th>Sleuth</th>\n",
       "      <td>1972</td>\n",
       "      <td>Teddy Martin</td>\n",
       "      <td>actor</td>\n",
       "      <td>Police Constable Higgs</td>\n",
       "      <td>6</td>\n",
       "    </tr>\n",
       "    <tr>\n",
       "      <th>Sleuth</th>\n",
       "      <td>1972</td>\n",
       "      <td>John (II) Matthews</td>\n",
       "      <td>actor</td>\n",
       "      <td>Detective Sergeant Tarrant</td>\n",
       "      <td>4</td>\n",
       "    </tr>\n",
       "    <tr>\n",
       "      <th>Sleuth</th>\n",
       "      <td>1972</td>\n",
       "      <td>Laurence Olivier</td>\n",
       "      <td>actor</td>\n",
       "      <td>Andrew Wyke</td>\n",
       "      <td>1</td>\n",
       "    </tr>\n",
       "    <tr>\n",
       "      <th>Sleuth</th>\n",
       "      <td>2007</td>\n",
       "      <td>Harold Pinter</td>\n",
       "      <td>actor</td>\n",
       "      <td>Man on T.V.</td>\n",
       "      <td>3</td>\n",
       "    </tr>\n",
       "    <tr>\n",
       "      <th>Sleuth</th>\n",
       "      <td>2007</td>\n",
       "      <td>Eve (II) Channing</td>\n",
       "      <td>actress</td>\n",
       "      <td>Marguerite Wyke</td>\n",
       "      <td>NaN</td>\n",
       "    </tr>\n",
       "    <tr>\n",
       "      <th>Sleuth</th>\n",
       "      <td>1972</td>\n",
       "      <td>Eve (III) Channing</td>\n",
       "      <td>actress</td>\n",
       "      <td>Marguerite Wyke</td>\n",
       "      <td>5</td>\n",
       "    </tr>\n",
       "    <tr>\n",
       "      <th>Sleuth</th>\n",
       "      <td>2007</td>\n",
       "      <td>Carmel O'Sullivan</td>\n",
       "      <td>actress</td>\n",
       "      <td>Maggie</td>\n",
       "      <td>NaN</td>\n",
       "    </tr>\n",
       "  </tbody>\n",
       "</table>\n",
       "</div>"
      ],
      "text/plain": [
       "        year                 name     type                   character   n\n",
       "title                                                                     \n",
       "Sleuth  2007      Kenneth Branagh    actor           Other Man on T.V. NaN\n",
       "Sleuth  1972        Michael Caine    actor                 Milo Tindle   2\n",
       "Sleuth  2007        Michael Caine    actor                      Andrew   1\n",
       "Sleuth  1972       Alec Cawthorne    actor           Inspector Doppler   3\n",
       "Sleuth  2007  Alec (II) Cawthorne    actor           Inspector Doppler NaN\n",
       "Sleuth  2007             Jude Law    actor                        Milo   2\n",
       "Sleuth  1972         Teddy Martin    actor      Police Constable Higgs   6\n",
       "Sleuth  1972   John (II) Matthews    actor  Detective Sergeant Tarrant   4\n",
       "Sleuth  1972     Laurence Olivier    actor                 Andrew Wyke   1\n",
       "Sleuth  2007        Harold Pinter    actor                 Man on T.V.   3\n",
       "Sleuth  2007    Eve (II) Channing  actress             Marguerite Wyke NaN\n",
       "Sleuth  1972   Eve (III) Channing  actress             Marguerite Wyke   5\n",
       "Sleuth  2007    Carmel O'Sullivan  actress                      Maggie NaN"
      ]
     },
     "execution_count": 9,
     "metadata": {},
     "output_type": "execute_result"
    }
   ],
   "source": [
    "%%time\n",
    "c.loc['Sleuth']"
   ]
  },
  {
   "cell_type": "markdown",
   "metadata": {},
   "source": [
    "**A DataFrame can have multiple index !!!**"
   ]
  },
  {
   "cell_type": "code",
   "execution_count": 11,
   "metadata": {
    "collapsed": false
   },
   "outputs": [
    {
     "data": {
      "text/html": [
       "<div>\n",
       "<table border=\"1\" class=\"dataframe\">\n",
       "  <thead>\n",
       "    <tr style=\"text-align: right;\">\n",
       "      <th></th>\n",
       "      <th></th>\n",
       "      <th>name</th>\n",
       "      <th>type</th>\n",
       "      <th>character</th>\n",
       "      <th>n</th>\n",
       "    </tr>\n",
       "    <tr>\n",
       "      <th>title</th>\n",
       "      <th>year</th>\n",
       "      <th></th>\n",
       "      <th></th>\n",
       "      <th></th>\n",
       "      <th></th>\n",
       "    </tr>\n",
       "  </thead>\n",
       "  <tbody>\n",
       "    <tr>\n",
       "      <th rowspan=\"5\" valign=\"top\">#1 Serial Killer</th>\n",
       "      <th>2013</th>\n",
       "      <td>Michael Alton</td>\n",
       "      <td>actor</td>\n",
       "      <td>Detective Roberts</td>\n",
       "      <td>17</td>\n",
       "    </tr>\n",
       "    <tr>\n",
       "      <th>2013</th>\n",
       "      <td>Aaron Aoki</td>\n",
       "      <td>actor</td>\n",
       "      <td>Plastic Bag Victim</td>\n",
       "      <td>21</td>\n",
       "    </tr>\n",
       "    <tr>\n",
       "      <th>2013</th>\n",
       "      <td>Zachary (X) Brown</td>\n",
       "      <td>actor</td>\n",
       "      <td>Africian American Teen</td>\n",
       "      <td>18</td>\n",
       "    </tr>\n",
       "    <tr>\n",
       "      <th>2013</th>\n",
       "      <td>Yvis Cannavale</td>\n",
       "      <td>actor</td>\n",
       "      <td>Homeless Man</td>\n",
       "      <td>25</td>\n",
       "    </tr>\n",
       "    <tr>\n",
       "      <th>2013</th>\n",
       "      <td>Patrick Chien</td>\n",
       "      <td>actor</td>\n",
       "      <td>Cleaver Victim</td>\n",
       "      <td>22</td>\n",
       "    </tr>\n",
       "  </tbody>\n",
       "</table>\n",
       "</div>"
      ],
      "text/plain": [
       "                                    name   type               character   n\n",
       "title            year                                                      \n",
       "#1 Serial Killer 2013      Michael Alton  actor       Detective Roberts  17\n",
       "                 2013         Aaron Aoki  actor      Plastic Bag Victim  21\n",
       "                 2013  Zachary (X) Brown  actor  Africian American Teen  18\n",
       "                 2013     Yvis Cannavale  actor            Homeless Man  25\n",
       "                 2013      Patrick Chien  actor          Cleaver Victim  22"
      ]
     },
     "execution_count": 11,
     "metadata": {},
     "output_type": "execute_result"
    }
   ],
   "source": [
    "c = cast.set_index(['title', 'year']).sort_index()\n",
    "c.head()"
   ]
  },
  {
   "cell_type": "code",
   "execution_count": 14,
   "metadata": {
    "collapsed": false
   },
   "outputs": [
    {
     "name": "stdout",
     "output_type": "stream",
     "text": [
      "CPU times: user 76 ms, sys: 8 ms, total: 84 ms\n",
      "Wall time: 86.8 ms\n"
     ]
    },
    {
     "data": {
      "text/html": [
       "<div>\n",
       "<table border=\"1\" class=\"dataframe\">\n",
       "  <thead>\n",
       "    <tr style=\"text-align: right;\">\n",
       "      <th></th>\n",
       "      <th></th>\n",
       "      <th>name</th>\n",
       "      <th>type</th>\n",
       "      <th>character</th>\n",
       "      <th>n</th>\n",
       "    </tr>\n",
       "    <tr>\n",
       "      <th>title</th>\n",
       "      <th>year</th>\n",
       "      <th></th>\n",
       "      <th></th>\n",
       "      <th></th>\n",
       "      <th></th>\n",
       "    </tr>\n",
       "  </thead>\n",
       "  <tbody>\n",
       "    <tr>\n",
       "      <th rowspan=\"7\" valign=\"top\">Sleuth</th>\n",
       "      <th>2007</th>\n",
       "      <td>Kenneth Branagh</td>\n",
       "      <td>actor</td>\n",
       "      <td>Other Man on T.V.</td>\n",
       "      <td>NaN</td>\n",
       "    </tr>\n",
       "    <tr>\n",
       "      <th>2007</th>\n",
       "      <td>Michael Caine</td>\n",
       "      <td>actor</td>\n",
       "      <td>Andrew</td>\n",
       "      <td>1</td>\n",
       "    </tr>\n",
       "    <tr>\n",
       "      <th>2007</th>\n",
       "      <td>Alec (II) Cawthorne</td>\n",
       "      <td>actor</td>\n",
       "      <td>Inspector Doppler</td>\n",
       "      <td>NaN</td>\n",
       "    </tr>\n",
       "    <tr>\n",
       "      <th>2007</th>\n",
       "      <td>Jude Law</td>\n",
       "      <td>actor</td>\n",
       "      <td>Milo</td>\n",
       "      <td>2</td>\n",
       "    </tr>\n",
       "    <tr>\n",
       "      <th>2007</th>\n",
       "      <td>Harold Pinter</td>\n",
       "      <td>actor</td>\n",
       "      <td>Man on T.V.</td>\n",
       "      <td>3</td>\n",
       "    </tr>\n",
       "    <tr>\n",
       "      <th>2007</th>\n",
       "      <td>Eve (II) Channing</td>\n",
       "      <td>actress</td>\n",
       "      <td>Marguerite Wyke</td>\n",
       "      <td>NaN</td>\n",
       "    </tr>\n",
       "    <tr>\n",
       "      <th>2007</th>\n",
       "      <td>Carmel O'Sullivan</td>\n",
       "      <td>actress</td>\n",
       "      <td>Maggie</td>\n",
       "      <td>NaN</td>\n",
       "    </tr>\n",
       "  </tbody>\n",
       "</table>\n",
       "</div>"
      ],
      "text/plain": [
       "                            name     type          character   n\n",
       "title  year                                                     \n",
       "Sleuth 2007      Kenneth Branagh    actor  Other Man on T.V. NaN\n",
       "       2007        Michael Caine    actor             Andrew   1\n",
       "       2007  Alec (II) Cawthorne    actor  Inspector Doppler NaN\n",
       "       2007             Jude Law    actor               Milo   2\n",
       "       2007        Harold Pinter    actor        Man on T.V.   3\n",
       "       2007    Eve (II) Channing  actress    Marguerite Wyke NaN\n",
       "       2007    Carmel O'Sullivan  actress             Maggie NaN"
      ]
     },
     "execution_count": 14,
     "metadata": {},
     "output_type": "execute_result"
    }
   ],
   "source": [
    "%%time\n",
    "#c.loc['Sleuth'].loc[2007]\n",
    "c.loc[('Sleuth', 2007)]"
   ]
  },
  {
   "cell_type": "markdown",
   "metadata": {},
   "source": [
    "## Reseting index"
   ]
  },
  {
   "cell_type": "code",
   "execution_count": 15,
   "metadata": {
    "collapsed": false
   },
   "outputs": [
    {
     "data": {
      "text/html": [
       "<div>\n",
       "<table border=\"1\" class=\"dataframe\">\n",
       "  <thead>\n",
       "    <tr style=\"text-align: right;\">\n",
       "      <th></th>\n",
       "      <th>year</th>\n",
       "      <th>name</th>\n",
       "      <th>type</th>\n",
       "      <th>character</th>\n",
       "      <th>n</th>\n",
       "    </tr>\n",
       "    <tr>\n",
       "      <th>title</th>\n",
       "      <th></th>\n",
       "      <th></th>\n",
       "      <th></th>\n",
       "      <th></th>\n",
       "      <th></th>\n",
       "    </tr>\n",
       "  </thead>\n",
       "  <tbody>\n",
       "    <tr>\n",
       "      <th>Sleuth</th>\n",
       "      <td>2007</td>\n",
       "      <td>Kenneth Branagh</td>\n",
       "      <td>actor</td>\n",
       "      <td>Other Man on T.V.</td>\n",
       "      <td>NaN</td>\n",
       "    </tr>\n",
       "    <tr>\n",
       "      <th>Sleuth</th>\n",
       "      <td>2007</td>\n",
       "      <td>Michael Caine</td>\n",
       "      <td>actor</td>\n",
       "      <td>Andrew</td>\n",
       "      <td>1</td>\n",
       "    </tr>\n",
       "    <tr>\n",
       "      <th>Sleuth</th>\n",
       "      <td>2007</td>\n",
       "      <td>Alec (II) Cawthorne</td>\n",
       "      <td>actor</td>\n",
       "      <td>Inspector Doppler</td>\n",
       "      <td>NaN</td>\n",
       "    </tr>\n",
       "    <tr>\n",
       "      <th>Sleuth</th>\n",
       "      <td>2007</td>\n",
       "      <td>Jude Law</td>\n",
       "      <td>actor</td>\n",
       "      <td>Milo</td>\n",
       "      <td>2</td>\n",
       "    </tr>\n",
       "    <tr>\n",
       "      <th>Sleuth</th>\n",
       "      <td>2007</td>\n",
       "      <td>Harold Pinter</td>\n",
       "      <td>actor</td>\n",
       "      <td>Man on T.V.</td>\n",
       "      <td>3</td>\n",
       "    </tr>\n",
       "    <tr>\n",
       "      <th>Sleuth</th>\n",
       "      <td>2007</td>\n",
       "      <td>Eve (II) Channing</td>\n",
       "      <td>actress</td>\n",
       "      <td>Marguerite Wyke</td>\n",
       "      <td>NaN</td>\n",
       "    </tr>\n",
       "    <tr>\n",
       "      <th>Sleuth</th>\n",
       "      <td>2007</td>\n",
       "      <td>Carmel O'Sullivan</td>\n",
       "      <td>actress</td>\n",
       "      <td>Maggie</td>\n",
       "      <td>NaN</td>\n",
       "    </tr>\n",
       "  </tbody>\n",
       "</table>\n",
       "</div>"
      ],
      "text/plain": [
       "        year                 name     type          character   n\n",
       "title                                                            \n",
       "Sleuth  2007      Kenneth Branagh    actor  Other Man on T.V. NaN\n",
       "Sleuth  2007        Michael Caine    actor             Andrew   1\n",
       "Sleuth  2007  Alec (II) Cawthorne    actor  Inspector Doppler NaN\n",
       "Sleuth  2007             Jude Law    actor               Milo   2\n",
       "Sleuth  2007        Harold Pinter    actor        Man on T.V.   3\n",
       "Sleuth  2007    Eve (II) Channing  actress    Marguerite Wyke NaN\n",
       "Sleuth  2007    Carmel O'Sullivan  actress             Maggie NaN"
      ]
     },
     "execution_count": 15,
     "metadata": {},
     "output_type": "execute_result"
    }
   ],
   "source": [
    "c.loc[('Sleuth', 2007)].reset_index('year')"
   ]
  },
  {
   "cell_type": "code",
   "execution_count": 17,
   "metadata": {
    "collapsed": false
   },
   "outputs": [
    {
     "data": {
      "text/html": [
       "<div>\n",
       "<table border=\"1\" class=\"dataframe\">\n",
       "  <thead>\n",
       "    <tr style=\"text-align: right;\">\n",
       "      <th></th>\n",
       "      <th>title</th>\n",
       "      <th>year</th>\n",
       "      <th>name</th>\n",
       "      <th>character</th>\n",
       "      <th>n</th>\n",
       "    </tr>\n",
       "    <tr>\n",
       "      <th>type</th>\n",
       "      <th></th>\n",
       "      <th></th>\n",
       "      <th></th>\n",
       "      <th></th>\n",
       "      <th></th>\n",
       "    </tr>\n",
       "  </thead>\n",
       "  <tbody>\n",
       "    <tr>\n",
       "      <th>actor</th>\n",
       "      <td>Sleuth</td>\n",
       "      <td>2007</td>\n",
       "      <td>Kenneth Branagh</td>\n",
       "      <td>Other Man on T.V.</td>\n",
       "      <td>NaN</td>\n",
       "    </tr>\n",
       "    <tr>\n",
       "      <th>actor</th>\n",
       "      <td>Sleuth</td>\n",
       "      <td>2007</td>\n",
       "      <td>Michael Caine</td>\n",
       "      <td>Andrew</td>\n",
       "      <td>1</td>\n",
       "    </tr>\n",
       "    <tr>\n",
       "      <th>actor</th>\n",
       "      <td>Sleuth</td>\n",
       "      <td>2007</td>\n",
       "      <td>Alec (II) Cawthorne</td>\n",
       "      <td>Inspector Doppler</td>\n",
       "      <td>NaN</td>\n",
       "    </tr>\n",
       "    <tr>\n",
       "      <th>actor</th>\n",
       "      <td>Sleuth</td>\n",
       "      <td>2007</td>\n",
       "      <td>Jude Law</td>\n",
       "      <td>Milo</td>\n",
       "      <td>2</td>\n",
       "    </tr>\n",
       "    <tr>\n",
       "      <th>actor</th>\n",
       "      <td>Sleuth</td>\n",
       "      <td>2007</td>\n",
       "      <td>Harold Pinter</td>\n",
       "      <td>Man on T.V.</td>\n",
       "      <td>3</td>\n",
       "    </tr>\n",
       "    <tr>\n",
       "      <th>actress</th>\n",
       "      <td>Sleuth</td>\n",
       "      <td>2007</td>\n",
       "      <td>Eve (II) Channing</td>\n",
       "      <td>Marguerite Wyke</td>\n",
       "      <td>NaN</td>\n",
       "    </tr>\n",
       "    <tr>\n",
       "      <th>actress</th>\n",
       "      <td>Sleuth</td>\n",
       "      <td>2007</td>\n",
       "      <td>Carmel O'Sullivan</td>\n",
       "      <td>Maggie</td>\n",
       "      <td>NaN</td>\n",
       "    </tr>\n",
       "  </tbody>\n",
       "</table>\n",
       "</div>"
      ],
      "text/plain": [
       "          title  year                 name          character   n\n",
       "type                                                             \n",
       "actor    Sleuth  2007      Kenneth Branagh  Other Man on T.V. NaN\n",
       "actor    Sleuth  2007        Michael Caine             Andrew   1\n",
       "actor    Sleuth  2007  Alec (II) Cawthorne  Inspector Doppler NaN\n",
       "actor    Sleuth  2007             Jude Law               Milo   2\n",
       "actor    Sleuth  2007        Harold Pinter        Man on T.V.   3\n",
       "actress  Sleuth  2007    Eve (II) Channing    Marguerite Wyke NaN\n",
       "actress  Sleuth  2007    Carmel O'Sullivan             Maggie NaN"
      ]
     },
     "execution_count": 17,
     "metadata": {},
     "output_type": "execute_result"
    }
   ],
   "source": [
    "c.loc[('Sleuth', 2007)].reset_index(['year', 'title']).set_index('type')"
   ]
  },
  {
   "cell_type": "code",
   "execution_count": null,
   "metadata": {
    "collapsed": true
   },
   "outputs": [],
   "source": []
  },
  {
   "cell_type": "markdown",
   "metadata": {},
   "source": [
    "## GroupBy"
   ]
  },
  {
   "cell_type": "code",
   "execution_count": 22,
   "metadata": {
    "collapsed": false
   },
   "outputs": [
    {
     "data": {
      "text/html": [
       "<div>\n",
       "<table border=\"1\" class=\"dataframe\">\n",
       "  <thead>\n",
       "    <tr style=\"text-align: right;\">\n",
       "      <th></th>\n",
       "      <th>title</th>\n",
       "      <th>year</th>\n",
       "      <th>name</th>\n",
       "      <th>type</th>\n",
       "      <th>character</th>\n",
       "      <th>n</th>\n",
       "    </tr>\n",
       "  </thead>\n",
       "  <tbody>\n",
       "    <tr>\n",
       "      <th>384943</th>\n",
       "      <td>South Park: Bigger Longer &amp; Uncut</td>\n",
       "      <td>1999</td>\n",
       "      <td>George Clooney</td>\n",
       "      <td>actor</td>\n",
       "      <td>Dr. Gouache</td>\n",
       "      <td>11</td>\n",
       "    </tr>\n",
       "    <tr>\n",
       "      <th>384949</th>\n",
       "      <td>The Book That Wrote Itself</td>\n",
       "      <td>1999</td>\n",
       "      <td>George Clooney</td>\n",
       "      <td>actor</td>\n",
       "      <td>Himself</td>\n",
       "      <td>NaN</td>\n",
       "    </tr>\n",
       "    <tr>\n",
       "      <th>384954</th>\n",
       "      <td>The Limey</td>\n",
       "      <td>1999</td>\n",
       "      <td>George Clooney</td>\n",
       "      <td>actor</td>\n",
       "      <td>Himself</td>\n",
       "      <td>NaN</td>\n",
       "    </tr>\n",
       "    <tr>\n",
       "      <th>384960</th>\n",
       "      <td>Three Kings</td>\n",
       "      <td>1999</td>\n",
       "      <td>George Clooney</td>\n",
       "      <td>actor</td>\n",
       "      <td>Archie Gates</td>\n",
       "      <td>1</td>\n",
       "    </tr>\n",
       "  </tbody>\n",
       "</table>\n",
       "</div>"
      ],
      "text/plain": [
       "                                    title  \\\n",
       "384943  South Park: Bigger Longer & Uncut   \n",
       "384949         The Book That Wrote Itself   \n",
       "384954                          The Limey   \n",
       "384960                        Three Kings   \n",
       "\n",
       "        year            name   type  \\\n",
       "384943  1999  George Clooney  actor   \n",
       "384949  1999  George Clooney  actor   \n",
       "384954  1999  George Clooney  actor   \n",
       "384960  1999  George Clooney  actor   \n",
       "\n",
       "           character   n  \n",
       "384943   Dr. Gouache  11  \n",
       "384949       Himself NaN  \n",
       "384954       Himself NaN  \n",
       "384960  Archie Gates   1  "
      ]
     },
     "execution_count": 22,
     "metadata": {},
     "output_type": "execute_result"
    }
   ],
   "source": [
    "c = cast\n",
    "c = c[c.name == 'George Clooney']\n",
    "c[c['year'] == 1999]"
   ]
  },
  {
   "cell_type": "code",
   "execution_count": 78,
   "metadata": {
    "collapsed": false
   },
   "outputs": [
    {
     "data": {
      "text/plain": [
       "year\n",
       "1987    1\n",
       "1988    1\n",
       "1992    2\n",
       "1996    3\n",
       "1997    3\n",
       "1998    2\n",
       "1999    4\n",
       "2000    2\n",
       "2001    2\n",
       "2002    3\n",
       "2003    2\n",
       "2004    1\n",
       "2005    2\n",
       "2006    1\n",
       "2007    2\n",
       "2008    2\n",
       "2009    3\n",
       "2010    3\n",
       "2011    2\n",
       "2013    1\n",
       "2014    1\n",
       "2015    3\n",
       "2016    1\n",
       "dtype: int64"
      ]
     },
     "execution_count": 78,
     "metadata": {},
     "output_type": "execute_result"
    }
   ],
   "source": [
    "c.groupby(['year']).size()"
   ]
  },
  {
   "cell_type": "code",
   "execution_count": 23,
   "metadata": {
    "collapsed": false
   },
   "outputs": [
    {
     "data": {
      "text/plain": [
       "title                            year  character            \n",
       "A Very Murray Christmas          2015  Himself                  1\n",
       "Batman & Robin                   1997  Batman                   1\n",
       "                                       Bruce Wayne              1\n",
       "Burn After Reading               2008  Harry Pfarrer            1\n",
       "Confessions of a Dangerous Mind  2002  Jim Byrd                 1\n",
       "Curdled                          1996  Seth Gecko               1\n",
       "Fantastic Mr. Fox                2009  Mr. Fox                  1\n",
       "From Dusk Till Dawn              1996  Seth Gecko               1\n",
       "Good Night, and Good Luck.       2005  Fred Friendly            1\n",
       "Gravity                          2013  Matt Kowalski            1\n",
       "Hail, Caesar!                    2016  Baird Whitlock           1\n",
       "Intolerable Cruelty              2003  Miles                    1\n",
       "                                                               ..\n",
       "The Ides of March                2011  Governor Mike Morris     1\n",
       "The Limey                        1999  Himself                  1\n",
       "The Men Who Stare at Goats       2009  Lyn Cassady              1\n",
       "The Monuments Men                2014  Frank Stokes             1\n",
       "The Peacemaker                   1997  Lt. Col. Thomas Devoe    1\n",
       "The Perfect Storm                2000  Captain Billy Tyne       1\n",
       "The Thin Red Line                1998  Capt. Charles Bosche     1\n",
       "Three Kings                      1999  Archie Gates             1\n",
       "Tomorrowland                     2015  Frank Walker             1\n",
       "Unbecoming Age                   1992  Mac                      1\n",
       "Up in the Air                    2009  Ryan Bingham             1\n",
       "Welcome to Collinwood            2002  Jerzy                    1\n",
       "dtype: int64"
      ]
     },
     "execution_count": 23,
     "metadata": {},
     "output_type": "execute_result"
    }
   ],
   "source": [
    "c.groupby(['title', 'year', 'character']).size() \n",
    "\n",
    "#try .mean() . IS this automatically checking the dtype and computing mean?"
   ]
  },
  {
   "cell_type": "markdown",
   "metadata": {},
   "source": [
    "### Gotcha\n",
    "\n",
    "`c.groupby(['title', 'year', 'character']).size()` works, but `c.groupby(c['title', 'year', 'character'])` doesn't.\n",
    "`c.groupby(['title']).size()` works and `c.groupby(c['title'])` also works.\n"
   ]
  },
  {
   "cell_type": "code",
   "execution_count": 60,
   "metadata": {
    "collapsed": false
   },
   "outputs": [
    {
     "data": {
      "text/html": [
       "<div>\n",
       "<table border=\"1\" class=\"dataframe\">\n",
       "  <thead>\n",
       "    <tr style=\"text-align: right;\">\n",
       "      <th></th>\n",
       "      <th>title</th>\n",
       "      <th>year</th>\n",
       "      <th>character</th>\n",
       "    </tr>\n",
       "  </thead>\n",
       "  <tbody>\n",
       "    <tr>\n",
       "      <th>384918</th>\n",
       "      <td>A Very Murray Christmas</td>\n",
       "      <td>2015</td>\n",
       "      <td>Himself</td>\n",
       "    </tr>\n",
       "    <tr>\n",
       "      <th>384919</th>\n",
       "      <td>Batman &amp; Robin</td>\n",
       "      <td>1997</td>\n",
       "      <td>Batman</td>\n",
       "    </tr>\n",
       "    <tr>\n",
       "      <th>384920</th>\n",
       "      <td>Batman &amp; Robin</td>\n",
       "      <td>1997</td>\n",
       "      <td>Bruce Wayne</td>\n",
       "    </tr>\n",
       "    <tr>\n",
       "      <th>384921</th>\n",
       "      <td>Burn After Reading</td>\n",
       "      <td>2008</td>\n",
       "      <td>Harry Pfarrer</td>\n",
       "    </tr>\n",
       "    <tr>\n",
       "      <th>384922</th>\n",
       "      <td>Confessions of a Dangerous Mind</td>\n",
       "      <td>2002</td>\n",
       "      <td>Jim Byrd</td>\n",
       "    </tr>\n",
       "  </tbody>\n",
       "</table>\n",
       "</div>"
      ],
      "text/plain": [
       "                                  title  year      character\n",
       "384918          A Very Murray Christmas  2015        Himself\n",
       "384919                   Batman & Robin  1997         Batman\n",
       "384920                   Batman & Robin  1997    Bruce Wayne\n",
       "384921               Burn After Reading  2008  Harry Pfarrer\n",
       "384922  Confessions of a Dangerous Mind  2002       Jim Byrd"
      ]
     },
     "execution_count": 60,
     "metadata": {},
     "output_type": "execute_result"
    }
   ],
   "source": [
    "c[['title', 'year', 'character']].head()"
   ]
  },
  {
   "cell_type": "code",
   "execution_count": 24,
   "metadata": {
    "collapsed": false
   },
   "outputs": [
    {
     "data": {
      "text/plain": [
       "<matplotlib.axes._subplots.AxesSubplot at 0x7f956a1b20b8>"
      ]
     },
     "execution_count": 24,
     "metadata": {},
     "output_type": "execute_result"
    },
    {
     "data": {
      "image/png": "[encoded data removed]",
      "text/plain": [
       "<matplotlib.figure.Figure at 0x7f9574111da0>"
      ]
     },
     "metadata": {},
     "output_type": "display_data"
    }
   ],
   "source": [
    "c.groupby(['year']).size().plot(kind='bar', ylim = 0)"
   ]
  },
  {
   "cell_type": "code",
   "execution_count": 125,
   "metadata": {
    "collapsed": false
   },
   "outputs": [
    {
     "data": {
      "text/plain": [
       "year\n",
       "1987    15.000000\n",
       "1988     2.000000\n",
       "1992    14.000000\n",
       "1996     1.500000\n",
       "1997     1.666667\n",
       "1998     7.500000\n",
       "1999     6.000000\n",
       "2000     1.000000\n",
       "2001    18.500000\n",
       "2002    11.000000\n",
       "2003    11.500000\n",
       "2004     3.000000\n",
       "2005     8.500000\n",
       "2006     1.000000\n",
       "2007     3.500000\n",
       "2008     3.000000\n",
       "2009     1.000000\n",
       "2010     1.000000\n",
       "2011     1.500000\n",
       "2013     2.000000\n",
       "2014     1.000000\n",
       "2015     1.500000\n",
       "2016          NaN\n",
       "Name: n, dtype: float64"
      ]
     },
     "execution_count": 125,
     "metadata": {},
     "output_type": "execute_result"
    }
   ],
   "source": [
    "#c.groupby(['year'])['n'].size()\n",
    "c.groupby(['year'])['n'].mean()"
   ]
  },
  {
   "cell_type": "markdown",
   "metadata": {},
   "source": [
    "### Trick\n",
    "\n",
    "Numpy array like operations on a DataFrame or Series\n",
    "\n",
    "    h['year'] + 100\n",
    "\n",
    "    h['year'] > 1997\n",
    "\n",
    "Trunctating division operator `//`. The first slice (`/`) does the division and the second slice (`/`) does truncates the fraction after the number.\n",
    "\n",
    "    h['year'] // 10\n",
    "\n",
    "To get decade use: \n",
    "    \n",
    "    h['year'] // 10 * 10"
   ]
  },
  {
   "cell_type": "code",
   "execution_count": 137,
   "metadata": {
    "collapsed": false
   },
   "outputs": [
    {
     "data": {
      "text/plain": [
       "year  year\n",
       "1980  1987    1\n",
       "      1988    1\n",
       "1990  1992    2\n",
       "      1996    3\n",
       "      1997    3\n",
       "      1998    2\n",
       "      1999    4\n",
       "2000  2000    2\n",
       "      2001    2\n",
       "      2002    3\n",
       "      2003    2\n",
       "      2004    1\n",
       "      2005    2\n",
       "      2006    1\n",
       "      2007    2\n",
       "      2008    2\n",
       "      2009    3\n",
       "2010  2010    3\n",
       "      2011    2\n",
       "      2013    1\n",
       "      2014    1\n",
       "      2015    3\n",
       "      2016    1\n",
       "dtype: int64"
      ]
     },
     "execution_count": 137,
     "metadata": {},
     "output_type": "execute_result"
    }
   ],
   "source": [
    "c.groupby(c['year'] // 10*10).size()\n",
    "\n",
    "#Note the c['year]. First create decade and then groupby.\n",
    "#c.groupby(c['year'] > 2000).size()\n",
    "#c[c['year'] > 2000].groupby(by='year').size()\n",
    "c.groupby([c['year'] // 10*10, 'year']).size()"
   ]
  },
  {
   "cell_type": "code",
   "execution_count": 21,
   "metadata": {
    "collapsed": false
   },
   "outputs": [
    {
     "data": {
      "text/plain": [
       "year  type   \n",
       "1890  actor           8\n",
       "      actress         1\n",
       "1900  actor          54\n",
       "      actress        16\n",
       "1910  actor       26575\n",
       "      actress     15224\n",
       "1920  actor       46744\n",
       "      actress     23073\n",
       "1930  actor      147642\n",
       "      actress     48223\n",
       "1940  actor      156604\n",
       "      actress     49744\n",
       "1950  actor      147951\n",
       "      actress     53969\n",
       "1960  actor      120889\n",
       "      actress     52327\n",
       "1970  actor      138378\n",
       "      actress     60467\n",
       "1980  actor      183870\n",
       "      actress     85380\n",
       "1990  actor      249753\n",
       "      actress    118466\n",
       "2000  actor      475428\n",
       "      actress    256314\n",
       "2010  actor      549020\n",
       "      actress    305488\n",
       "2020  actor          26\n",
       "      actress        13\n",
       "dtype: int64"
      ]
     },
     "execution_count": 21,
     "metadata": {},
     "output_type": "execute_result"
    }
   ],
   "source": [
    "c = cast.set_index(['title']).sort_index()\n",
    "c.groupby([c['year'] // 10*10, 'type']).size()"
   ]
  },
  {
   "cell_type": "raw",
   "metadata": {
    "collapsed": true
   },
   "source": []
  },
  {
   "cell_type": "markdown",
   "metadata": {
    "collapsed": true
   },
   "source": [
    "## Stack and Unstack (Pivot tables!)\n",
    "\n",
    "\n",
    "    vertical (row) = unstack (up)\n",
    "    horizont (col) = stack (side/down)\n",
    "\n",
    "Stack brings everything towards LEFT\n",
    "\n",
    "Unstack moves everything UP"
   ]
  },
  {
   "cell_type": "code",
   "execution_count": 262,
   "metadata": {
    "collapsed": false
   },
   "outputs": [
    {
     "data": {
      "text/html": [
       "<div>\n",
       "<table border=\"1\" class=\"dataframe\">\n",
       "  <thead>\n",
       "    <tr style=\"text-align: right;\">\n",
       "      <th></th>\n",
       "      <th>0</th>\n",
       "      <th>1</th>\n",
       "      <th>2</th>\n",
       "      <th>...</th>\n",
       "      <th>3311644</th>\n",
       "      <th>3311645</th>\n",
       "      <th>3311646</th>\n",
       "    </tr>\n",
       "  </thead>\n",
       "  <tbody>\n",
       "    <tr>\n",
       "      <th>title</th>\n",
       "      <td>Suuri illusioni</td>\n",
       "      <td>Gangsta Rap: The Glockumentary</td>\n",
       "      <td>Menace II Society</td>\n",
       "      <td>...</td>\n",
       "      <td>Niceland (Population. 1.000.002)</td>\n",
       "      <td>U.S.S.S.S...</td>\n",
       "      <td>Bye Bye Blue Bird</td>\n",
       "    </tr>\n",
       "    <tr>\n",
       "      <th>year</th>\n",
       "      <td>1985</td>\n",
       "      <td>2007</td>\n",
       "      <td>1993</td>\n",
       "      <td>...</td>\n",
       "      <td>2004</td>\n",
       "      <td>2003</td>\n",
       "      <td>1999</td>\n",
       "    </tr>\n",
       "    <tr>\n",
       "      <th>name</th>\n",
       "      <td>Homo $</td>\n",
       "      <td>Too $hort</td>\n",
       "      <td>Too $hort</td>\n",
       "      <td>...</td>\n",
       "      <td>Sigr??ur J?na ??risd?ttir</td>\n",
       "      <td>Krist?n Andrea ??r?ard?ttir</td>\n",
       "      <td>Rosa ? R?gvu</td>\n",
       "    </tr>\n",
       "    <tr>\n",
       "      <th>type</th>\n",
       "      <td>actor</td>\n",
       "      <td>actor</td>\n",
       "      <td>actor</td>\n",
       "      <td>...</td>\n",
       "      <td>actress</td>\n",
       "      <td>actress</td>\n",
       "      <td>actress</td>\n",
       "    </tr>\n",
       "    <tr>\n",
       "      <th>character</th>\n",
       "      <td>Guests</td>\n",
       "      <td>Himself</td>\n",
       "      <td>Lew-Loc</td>\n",
       "      <td>...</td>\n",
       "      <td>Woman in Bus</td>\n",
       "      <td>Afgr.dama ? bens?nst??</td>\n",
       "      <td>Pensionatv?rtinde</td>\n",
       "    </tr>\n",
       "    <tr>\n",
       "      <th>n</th>\n",
       "      <td>22</td>\n",
       "      <td>NaN</td>\n",
       "      <td>27</td>\n",
       "      <td>...</td>\n",
       "      <td>26</td>\n",
       "      <td>17</td>\n",
       "      <td>NaN</td>\n",
       "    </tr>\n",
       "  </tbody>\n",
       "</table>\n",
       "<p>6 rows × 3311647 columns</p>\n",
       "</div>"
      ],
      "text/plain": [
       "                   0        \\\n",
       "title      Suuri illusioni   \n",
       "year                  1985   \n",
       "name                Homo $   \n",
       "type                 actor   \n",
       "character           Guests   \n",
       "n                       22   \n",
       "\n",
       "                                  1        \\\n",
       "title      Gangsta Rap: The Glockumentary   \n",
       "year                                 2007   \n",
       "name                            Too $hort   \n",
       "type                                actor   \n",
       "character                         Himself   \n",
       "n                                     NaN   \n",
       "\n",
       "                     2        \\\n",
       "title      Menace II Society   \n",
       "year                    1993   \n",
       "name               Too $hort   \n",
       "type                   actor   \n",
       "character            Lew-Loc   \n",
       "n                         27   \n",
       "\n",
       "                 ...          \\\n",
       "title            ...           \n",
       "year             ...           \n",
       "name             ...           \n",
       "type             ...           \n",
       "character        ...           \n",
       "n                ...           \n",
       "\n",
       "                                    3311644  \\\n",
       "title      Niceland (Population. 1.000.002)   \n",
       "year                                   2004   \n",
       "name              Sigr??ur J?na ??risd?ttir   \n",
       "type                                actress   \n",
       "character                      Woman in Bus   \n",
       "n                                        26   \n",
       "\n",
       "                               3311645  \\\n",
       "title                     U.S.S.S.S...   \n",
       "year                              2003   \n",
       "name       Krist?n Andrea ??r?ard?ttir   \n",
       "type                           actress   \n",
       "character       Afgr.dama ? bens?nst??   \n",
       "n                                   17   \n",
       "\n",
       "                     3311646  \n",
       "title      Bye Bye Blue Bird  \n",
       "year                    1999  \n",
       "name            Rosa ? R?gvu  \n",
       "type                 actress  \n",
       "character  Pensionatv?rtinde  \n",
       "n                        NaN  \n",
       "\n",
       "[6 rows x 3311647 columns]"
      ]
     },
     "execution_count": 262,
     "metadata": {},
     "output_type": "execute_result"
    }
   ],
   "source": [
    "cast.unstack().unstack()"
   ]
  },
  {
   "cell_type": "code",
   "execution_count": 211,
   "metadata": {
    "collapsed": false
   },
   "outputs": [
    {
     "data": {
      "text/plain": [
       "character         year\n",
       "Kermit the Frog   1970    1\n",
       "                  1980    4\n",
       "                  1990    2\n",
       "                  2000    1\n",
       "                  2010    1\n",
       "Oscar the Grouch  1980    1\n",
       "                  1990    1\n",
       "                  2000    1\n",
       "dtype: int64"
      ]
     },
     "execution_count": 211,
     "metadata": {},
     "output_type": "execute_result"
    }
   ],
   "source": [
    "c = cast\n",
    "c = c[(c['character'] == 'Kermit the Frog') | (c['character'] == 'Oscar the Grouch')]\n",
    "g = c.groupby(['character', c.year// 10*10]).size()\n",
    "g"
   ]
  },
  {
   "cell_type": "markdown",
   "metadata": {},
   "source": [
    "Consider the above group by output as as a **tuple** with (character, year). \n",
    "Now, unstack which ever element `(0|1)` or `('character'|'year')` as the column names."
   ]
  },
  {
   "cell_type": "code",
   "execution_count": 217,
   "metadata": {
    "collapsed": false
   },
   "outputs": [
    {
     "data": {
      "text/html": [
       "<div>\n",
       "<table border=\"1\" class=\"dataframe\">\n",
       "  <thead>\n",
       "    <tr style=\"text-align: right;\">\n",
       "      <th>year</th>\n",
       "      <th>1970</th>\n",
       "      <th>1980</th>\n",
       "      <th>1990</th>\n",
       "      <th>2000</th>\n",
       "      <th>2010</th>\n",
       "    </tr>\n",
       "    <tr>\n",
       "      <th>character</th>\n",
       "      <th></th>\n",
       "      <th></th>\n",
       "      <th></th>\n",
       "      <th></th>\n",
       "      <th></th>\n",
       "    </tr>\n",
       "  </thead>\n",
       "  <tbody>\n",
       "    <tr>\n",
       "      <th>Kermit the Frog</th>\n",
       "      <td>1</td>\n",
       "      <td>4</td>\n",
       "      <td>2</td>\n",
       "      <td>1</td>\n",
       "      <td>1</td>\n",
       "    </tr>\n",
       "    <tr>\n",
       "      <th>Oscar the Grouch</th>\n",
       "      <td>NaN</td>\n",
       "      <td>1</td>\n",
       "      <td>1</td>\n",
       "      <td>1</td>\n",
       "      <td>NaN</td>\n",
       "    </tr>\n",
       "  </tbody>\n",
       "</table>\n",
       "</div>"
      ],
      "text/plain": [
       "year              1970  1980  1990  \\\n",
       "character                            \n",
       "Kermit the Frog      1     4     2   \n",
       "Oscar the Grouch   NaN     1     1   \n",
       "\n",
       "year              2000  2010  \n",
       "character                     \n",
       "Kermit the Frog      1     1  \n",
       "Oscar the Grouch     1   NaN  "
      ]
     },
     "execution_count": 217,
     "metadata": {},
     "output_type": "execute_result"
    }
   ],
   "source": [
    "g.unstack(1)"
   ]
  },
  {
   "cell_type": "markdown",
   "metadata": {},
   "source": [
    "#### fillna"
   ]
  },
  {
   "cell_type": "code",
   "execution_count": 219,
   "metadata": {
    "collapsed": false
   },
   "outputs": [
    {
     "data": {
      "text/html": [
       "<div>\n",
       "<table border=\"1\" class=\"dataframe\">\n",
       "  <thead>\n",
       "    <tr style=\"text-align: right;\">\n",
       "      <th>character</th>\n",
       "      <th>Kermit the Frog</th>\n",
       "      <th>Oscar the Grouch</th>\n",
       "    </tr>\n",
       "    <tr>\n",
       "      <th>year</th>\n",
       "      <th></th>\n",
       "      <th></th>\n",
       "    </tr>\n",
       "  </thead>\n",
       "  <tbody>\n",
       "    <tr>\n",
       "      <th>1970</th>\n",
       "      <td>1</td>\n",
       "      <td>0</td>\n",
       "    </tr>\n",
       "    <tr>\n",
       "      <th>1980</th>\n",
       "      <td>4</td>\n",
       "      <td>1</td>\n",
       "    </tr>\n",
       "    <tr>\n",
       "      <th>1990</th>\n",
       "      <td>2</td>\n",
       "      <td>1</td>\n",
       "    </tr>\n",
       "    <tr>\n",
       "      <th>2000</th>\n",
       "      <td>1</td>\n",
       "      <td>1</td>\n",
       "    </tr>\n",
       "    <tr>\n",
       "      <th>2010</th>\n",
       "      <td>1</td>\n",
       "      <td>0</td>\n",
       "    </tr>\n",
       "  </tbody>\n",
       "</table>\n",
       "</div>"
      ],
      "text/plain": [
       "character  Kermit the Frog  \\\n",
       "year                         \n",
       "1970                     1   \n",
       "1980                     4   \n",
       "1990                     2   \n",
       "2000                     1   \n",
       "2010                     1   \n",
       "\n",
       "character  Oscar the Grouch  \n",
       "year                         \n",
       "1970                      0  \n",
       "1980                      1  \n",
       "1990                      1  \n",
       "2000                      1  \n",
       "2010                      0  "
      ]
     },
     "execution_count": 219,
     "metadata": {},
     "output_type": "execute_result"
    }
   ],
   "source": [
    "u = g.unstack(0).fillna(0)\n",
    "u"
   ]
  },
  {
   "cell_type": "code",
   "execution_count": 220,
   "metadata": {
    "collapsed": false
   },
   "outputs": [
    {
     "data": {
      "text/plain": [
       "year\n",
       "1970    1\n",
       "1980    3\n",
       "1990    1\n",
       "2000    0\n",
       "2010    1\n",
       "dtype: float64"
      ]
     },
     "execution_count": 220,
     "metadata": {},
     "output_type": "execute_result"
    }
   ],
   "source": [
    "diff = u['Kermit the Frog'] - u['Oscar the Grouch']\n",
    "diff"
   ]
  },
  {
   "cell_type": "code",
   "execution_count": 247,
   "metadata": {
    "collapsed": false
   },
   "outputs": [
    {
     "data": {
      "text/plain": [
       "year  character       \n",
       "1970  Kermit the Frog     1\n",
       "      Oscar the Grouch    0\n",
       "1980  Kermit the Frog     4\n",
       "      Oscar the Grouch    1\n",
       "1990  Kermit the Frog     2\n",
       "      Oscar the Grouch    1\n",
       "2000  Kermit the Frog     1\n",
       "      Oscar the Grouch    1\n",
       "2010  Kermit the Frog     1\n",
       "      Oscar the Grouch    0\n",
       "dtype: float64"
      ]
     },
     "execution_count": 247,
     "metadata": {},
     "output_type": "execute_result"
    }
   ],
   "source": [
    "u.stack('character')\n",
    "# can only stack by the element in top-left corner "
   ]
  },
  {
   "cell_type": "markdown",
   "metadata": {
    "collapsed": true
   },
   "source": [
    "### Trick\n",
    "\n",
    "Double unstack a series by adding a dummy column"
   ]
  },
  {
   "cell_type": "code",
   "execution_count": 254,
   "metadata": {
    "collapsed": false
   },
   "outputs": [
    {
     "data": {
      "text/plain": [
       "character         year\n",
       "Kermit the Frog   1970    1\n",
       "                  1980    4\n",
       "                  1990    2\n",
       "                  2000    1\n",
       "                  2010    1\n",
       "Oscar the Grouch  1980    1\n",
       "                  1990    1\n",
       "                  2000    1\n",
       "dtype: int64"
      ]
     },
     "execution_count": 254,
     "metadata": {},
     "output_type": "execute_result"
    }
   ],
   "source": [
    "g.unstack().unstack()\n",
    "g"
   ]
  },
  {
   "cell_type": "code",
   "execution_count": 265,
   "metadata": {
    "collapsed": false
   },
   "outputs": [
    {
     "data": {
      "text/html": [
       "<div>\n",
       "<table border=\"1\" class=\"dataframe\">\n",
       "  <thead>\n",
       "    <tr style=\"text-align: right;\">\n",
       "      <th></th>\n",
       "      <th>year</th>\n",
       "      <th>1970</th>\n",
       "      <th>1980</th>\n",
       "      <th>1990</th>\n",
       "      <th>2000</th>\n",
       "      <th>2010</th>\n",
       "    </tr>\n",
       "    <tr>\n",
       "      <th>character</th>\n",
       "      <th>dummy</th>\n",
       "      <th></th>\n",
       "      <th></th>\n",
       "      <th></th>\n",
       "      <th></th>\n",
       "      <th></th>\n",
       "    </tr>\n",
       "  </thead>\n",
       "  <tbody>\n",
       "    <tr>\n",
       "      <th>Kermit the Frog</th>\n",
       "      <th>1</th>\n",
       "      <td>1</td>\n",
       "      <td>4</td>\n",
       "      <td>2</td>\n",
       "      <td>1</td>\n",
       "      <td>1</td>\n",
       "    </tr>\n",
       "    <tr>\n",
       "      <th>Oscar the Grouch</th>\n",
       "      <th>1</th>\n",
       "      <td>NaN</td>\n",
       "      <td>1</td>\n",
       "      <td>1</td>\n",
       "      <td>1</td>\n",
       "      <td>NaN</td>\n",
       "    </tr>\n",
       "  </tbody>\n",
       "</table>\n",
       "</div>"
      ],
      "text/plain": [
       "year                    1970  1980  \\\n",
       "character        dummy               \n",
       "Kermit the Frog  1         1     4   \n",
       "Oscar the Grouch 1       NaN     1   \n",
       "\n",
       "year                    1990  2000  \\\n",
       "character        dummy               \n",
       "Kermit the Frog  1         2     1   \n",
       "Oscar the Grouch 1         1     1   \n",
       "\n",
       "year                    2010  \n",
       "character        dummy        \n",
       "Kermit the Frog  1         1  \n",
       "Oscar the Grouch 1       NaN  "
      ]
     },
     "execution_count": 265,
     "metadata": {},
     "output_type": "execute_result"
    }
   ],
   "source": [
    "un = g.unstack(1)\n",
    "un['dummy'] = 1\n",
    "un = un.set_index('dummy', append=True)\n",
    "un"
   ]
  },
  {
   "cell_type": "code",
   "execution_count": 266,
   "metadata": {
    "collapsed": false
   },
   "outputs": [
    {
     "data": {
      "text/html": [
       "<div>\n",
       "<table border=\"1\" class=\"dataframe\">\n",
       "  <thead>\n",
       "    <tr>\n",
       "      <th>year</th>\n",
       "      <th colspan=\"2\" halign=\"left\">1970</th>\n",
       "      <th>1980</th>\n",
       "      <th>...</th>\n",
       "      <th>2000</th>\n",
       "      <th colspan=\"2\" halign=\"left\">2010</th>\n",
       "    </tr>\n",
       "    <tr>\n",
       "      <th>character</th>\n",
       "      <th>Kermit the Frog</th>\n",
       "      <th>Oscar the Grouch</th>\n",
       "      <th>Kermit the Frog</th>\n",
       "      <th>...</th>\n",
       "      <th>Oscar the Grouch</th>\n",
       "      <th>Kermit the Frog</th>\n",
       "      <th>Oscar the Grouch</th>\n",
       "    </tr>\n",
       "    <tr>\n",
       "      <th>dummy</th>\n",
       "      <th></th>\n",
       "      <th></th>\n",
       "      <th></th>\n",
       "      <th></th>\n",
       "      <th></th>\n",
       "      <th></th>\n",
       "      <th></th>\n",
       "    </tr>\n",
       "  </thead>\n",
       "  <tbody>\n",
       "    <tr>\n",
       "      <th>1</th>\n",
       "      <td>1</td>\n",
       "      <td>NaN</td>\n",
       "      <td>4</td>\n",
       "      <td>...</td>\n",
       "      <td>1</td>\n",
       "      <td>1</td>\n",
       "      <td>NaN</td>\n",
       "    </tr>\n",
       "  </tbody>\n",
       "</table>\n",
       "<p>1 rows × 10 columns</p>\n",
       "</div>"
      ],
      "text/plain": [
       "year                 1970  \\\n",
       "character Kermit the Frog   \n",
       "dummy                       \n",
       "1                       1   \n",
       "\n",
       "year                        \\\n",
       "character Oscar the Grouch   \n",
       "dummy                        \n",
       "1                      NaN   \n",
       "\n",
       "year                 1980  \\\n",
       "character Kermit the Frog   \n",
       "dummy                       \n",
       "1                       4   \n",
       "\n",
       "year            ...         \\\n",
       "character       ...          \n",
       "dummy           ...          \n",
       "1               ...          \n",
       "\n",
       "year                  2000  \\\n",
       "character Oscar the Grouch   \n",
       "dummy                        \n",
       "1                        1   \n",
       "\n",
       "year                 2010  \\\n",
       "character Kermit the Frog   \n",
       "dummy                       \n",
       "1                       1   \n",
       "\n",
       "year                        \n",
       "character Oscar the Grouch  \n",
       "dummy                       \n",
       "1                      NaN  \n",
       "\n",
       "[1 rows x 10 columns]"
      ]
     },
     "execution_count": 266,
     "metadata": {},
     "output_type": "execute_result"
    }
   ],
   "source": [
    "un.unstack(0)"
   ]
  },
  {
   "cell_type": "code",
   "execution_count": null,
   "metadata": {
    "collapsed": true
   },
   "outputs": [],
   "source": []
  },
  {
   "cell_type": "code",
   "execution_count": null,
   "metadata": {
    "collapsed": true
   },
   "outputs": [],
   "source": []
  },
  {
   "cell_type": "markdown",
   "metadata": {
    "collapsed": true
   },
   "source": [
    "# Extras"
   ]
  },
  {
   "cell_type": "code",
   "execution_count": 419,
   "metadata": {
    "collapsed": false
   },
   "outputs": [
    {
     "data": {
      "text/html": [
       "<div>\n",
       "<table border=\"1\" class=\"dataframe\">\n",
       "  <thead>\n",
       "    <tr style=\"text-align: right;\">\n",
       "      <th></th>\n",
       "      <th>title</th>\n",
       "      <th>year</th>\n",
       "    </tr>\n",
       "  </thead>\n",
       "  <tbody>\n",
       "    <tr>\n",
       "      <th>0</th>\n",
       "      <td>Orlando Vargas</td>\n",
       "      <td>2005</td>\n",
       "    </tr>\n",
       "    <tr>\n",
       "      <th>1</th>\n",
       "      <td>Niu-Peng</td>\n",
       "      <td>1989</td>\n",
       "    </tr>\n",
       "    <tr>\n",
       "      <th>2</th>\n",
       "      <td>Anandabhadram</td>\n",
       "      <td>2005</td>\n",
       "    </tr>\n",
       "    <tr>\n",
       "      <th>3</th>\n",
       "      <td>Mahendra Varma</td>\n",
       "      <td>1993</td>\n",
       "    </tr>\n",
       "    <tr>\n",
       "      <th>4</th>\n",
       "      <td>Beomdiga shidae</td>\n",
       "      <td>1970</td>\n",
       "    </tr>\n",
       "    <tr>\n",
       "      <th>5</th>\n",
       "      <td>100Volta</td>\n",
       "      <td>2009</td>\n",
       "    </tr>\n",
       "    <tr>\n",
       "      <th>6</th>\n",
       "      <td>Atakku no. 1</td>\n",
       "      <td>1970</td>\n",
       "    </tr>\n",
       "    <tr>\n",
       "      <th>7</th>\n",
       "      <td>Uroki v kontse vesny</td>\n",
       "      <td>1991</td>\n",
       "    </tr>\n",
       "    <tr>\n",
       "      <th>8</th>\n",
       "      <td>Un sac de billes</td>\n",
       "      <td>1975</td>\n",
       "    </tr>\n",
       "    <tr>\n",
       "      <th>9</th>\n",
       "      <td>The Trouble with Men and Women</td>\n",
       "      <td>2005</td>\n",
       "    </tr>\n",
       "    <tr>\n",
       "      <th>10</th>\n",
       "      <td>That Texas Jamboree</td>\n",
       "      <td>1946</td>\n",
       "    </tr>\n",
       "    <tr>\n",
       "      <th>11</th>\n",
       "      <td>A Knight in London</td>\n",
       "      <td>1928</td>\n",
       "    </tr>\n",
       "    <tr>\n",
       "      <th>12</th>\n",
       "      <td>Al oltro lado de la ley</td>\n",
       "      <td>1995</td>\n",
       "    </tr>\n",
       "    <tr>\n",
       "      <th>13</th>\n",
       "      <td>Too Soon to Forget</td>\n",
       "      <td>2015</td>\n",
       "    </tr>\n",
       "    <tr>\n",
       "      <th>14</th>\n",
       "      <td>Gebo et l'ombre</td>\n",
       "      <td>2012</td>\n",
       "    </tr>\n",
       "    <tr>\n",
       "      <th>15</th>\n",
       "      <td>Amore mio spogliati... che poi ti spiego!</td>\n",
       "      <td>1975</td>\n",
       "    </tr>\n",
       "    <tr>\n",
       "      <th>16</th>\n",
       "      <td>Big Boy</td>\n",
       "      <td>2010</td>\n",
       "    </tr>\n",
       "    <tr>\n",
       "      <th>17</th>\n",
       "      <td>All Night Long</td>\n",
       "      <td>1962</td>\n",
       "    </tr>\n",
       "    <tr>\n",
       "      <th>18</th>\n",
       "      <td>Gold</td>\n",
       "      <td>1932</td>\n",
       "    </tr>\n",
       "    <tr>\n",
       "      <th>19</th>\n",
       "      <td>Partir</td>\n",
       "      <td>1931</td>\n",
       "    </tr>\n",
       "  </tbody>\n",
       "</table>\n",
       "</div>"
      ],
      "text/plain": [
       "                                        title  \\\n",
       "0                              Orlando Vargas   \n",
       "1                                    Niu-Peng   \n",
       "2                               Anandabhadram   \n",
       "3                              Mahendra Varma   \n",
       "4                             Beomdiga shidae   \n",
       "5                                    100Volta   \n",
       "6                                Atakku no. 1   \n",
       "7                        Uroki v kontse vesny   \n",
       "8                            Un sac de billes   \n",
       "9              The Trouble with Men and Women   \n",
       "10                        That Texas Jamboree   \n",
       "11                         A Knight in London   \n",
       "12                    Al oltro lado de la ley   \n",
       "13                         Too Soon to Forget   \n",
       "14                            Gebo et l'ombre   \n",
       "15  Amore mio spogliati... che poi ti spiego!   \n",
       "16                                    Big Boy   \n",
       "17                             All Night Long   \n",
       "18                                       Gold   \n",
       "19                                     Partir   \n",
       "\n",
       "    year  \n",
       "0   2005  \n",
       "1   1989  \n",
       "2   2005  \n",
       "3   1993  \n",
       "4   1970  \n",
       "5   2009  \n",
       "6   1970  \n",
       "7   1991  \n",
       "8   1975  \n",
       "9   2005  \n",
       "10  1946  \n",
       "11  1928  \n",
       "12  1995  \n",
       "13  2015  \n",
       "14  2012  \n",
       "15  1975  \n",
       "16  2010  \n",
       "17  1962  \n",
       "18  1932  \n",
       "19  1931  "
      ]
     },
     "execution_count": 419,
     "metadata": {},
     "output_type": "execute_result"
    }
   ],
   "source": [
    "h"
   ]
  },
  {
   "cell_type": "code",
   "execution_count": 438,
   "metadata": {
    "collapsed": false
   },
   "outputs": [
    {
     "data": {
      "text/html": [
       "<div>\n",
       "<table border=\"1\" class=\"dataframe\">\n",
       "  <thead>\n",
       "    <tr style=\"text-align: right;\">\n",
       "      <th></th>\n",
       "      <th>title</th>\n",
       "      <th>year</th>\n",
       "      <th>rand</th>\n",
       "    </tr>\n",
       "  </thead>\n",
       "  <tbody>\n",
       "    <tr>\n",
       "      <th>0</th>\n",
       "      <td>Orlando Vargas</td>\n",
       "      <td>2005</td>\n",
       "      <td>1</td>\n",
       "    </tr>\n",
       "    <tr>\n",
       "      <th>1</th>\n",
       "      <td>Niu-Peng</td>\n",
       "      <td>1989</td>\n",
       "      <td>1</td>\n",
       "    </tr>\n",
       "    <tr>\n",
       "      <th>2</th>\n",
       "      <td>Anandabhadram</td>\n",
       "      <td>2005</td>\n",
       "      <td>1</td>\n",
       "    </tr>\n",
       "    <tr>\n",
       "      <th>3</th>\n",
       "      <td>Mahendra Varma</td>\n",
       "      <td>1993</td>\n",
       "      <td>1</td>\n",
       "    </tr>\n",
       "    <tr>\n",
       "      <th>4</th>\n",
       "      <td>Beomdiga shidae</td>\n",
       "      <td>1970</td>\n",
       "      <td>1</td>\n",
       "    </tr>\n",
       "    <tr>\n",
       "      <th>5</th>\n",
       "      <td>100Volta</td>\n",
       "      <td>2009</td>\n",
       "      <td>1</td>\n",
       "    </tr>\n",
       "    <tr>\n",
       "      <th>6</th>\n",
       "      <td>Atakku no. 1</td>\n",
       "      <td>1970</td>\n",
       "      <td>1</td>\n",
       "    </tr>\n",
       "    <tr>\n",
       "      <th>7</th>\n",
       "      <td>Uroki v kontse vesny</td>\n",
       "      <td>1991</td>\n",
       "      <td>1</td>\n",
       "    </tr>\n",
       "    <tr>\n",
       "      <th>8</th>\n",
       "      <td>Un sac de billes</td>\n",
       "      <td>1975</td>\n",
       "      <td>1</td>\n",
       "    </tr>\n",
       "    <tr>\n",
       "      <th>9</th>\n",
       "      <td>The Trouble with Men and Women</td>\n",
       "      <td>2005</td>\n",
       "      <td>1</td>\n",
       "    </tr>\n",
       "    <tr>\n",
       "      <th>10</th>\n",
       "      <td>That Texas Jamboree</td>\n",
       "      <td>1946</td>\n",
       "      <td>1</td>\n",
       "    </tr>\n",
       "    <tr>\n",
       "      <th>11</th>\n",
       "      <td>A Knight in London</td>\n",
       "      <td>1928</td>\n",
       "      <td>1</td>\n",
       "    </tr>\n",
       "    <tr>\n",
       "      <th>12</th>\n",
       "      <td>Al oltro lado de la ley</td>\n",
       "      <td>1995</td>\n",
       "      <td>1</td>\n",
       "    </tr>\n",
       "    <tr>\n",
       "      <th>13</th>\n",
       "      <td>Too Soon to Forget</td>\n",
       "      <td>2015</td>\n",
       "      <td>1</td>\n",
       "    </tr>\n",
       "    <tr>\n",
       "      <th>14</th>\n",
       "      <td>Gebo et l'ombre</td>\n",
       "      <td>2012</td>\n",
       "      <td>1</td>\n",
       "    </tr>\n",
       "    <tr>\n",
       "      <th>15</th>\n",
       "      <td>Amore mio spogliati... che poi ti spiego!</td>\n",
       "      <td>1975</td>\n",
       "      <td>1</td>\n",
       "    </tr>\n",
       "    <tr>\n",
       "      <th>16</th>\n",
       "      <td>Big Boy</td>\n",
       "      <td>2010</td>\n",
       "      <td>1</td>\n",
       "    </tr>\n",
       "    <tr>\n",
       "      <th>17</th>\n",
       "      <td>All Night Long</td>\n",
       "      <td>1962</td>\n",
       "      <td>1</td>\n",
       "    </tr>\n",
       "    <tr>\n",
       "      <th>18</th>\n",
       "      <td>Gold</td>\n",
       "      <td>1932</td>\n",
       "      <td>1</td>\n",
       "    </tr>\n",
       "    <tr>\n",
       "      <th>19</th>\n",
       "      <td>Partir</td>\n",
       "      <td>1931</td>\n",
       "      <td>1</td>\n",
       "    </tr>\n",
       "  </tbody>\n",
       "</table>\n",
       "</div>"
      ],
      "text/plain": [
       "                                        title  \\\n",
       "0                              Orlando Vargas   \n",
       "1                                    Niu-Peng   \n",
       "2                               Anandabhadram   \n",
       "3                              Mahendra Varma   \n",
       "4                             Beomdiga shidae   \n",
       "5                                    100Volta   \n",
       "6                                Atakku no. 1   \n",
       "7                        Uroki v kontse vesny   \n",
       "8                            Un sac de billes   \n",
       "9              The Trouble with Men and Women   \n",
       "10                        That Texas Jamboree   \n",
       "11                         A Knight in London   \n",
       "12                    Al oltro lado de la ley   \n",
       "13                         Too Soon to Forget   \n",
       "14                            Gebo et l'ombre   \n",
       "15  Amore mio spogliati... che poi ti spiego!   \n",
       "16                                    Big Boy   \n",
       "17                             All Night Long   \n",
       "18                                       Gold   \n",
       "19                                     Partir   \n",
       "\n",
       "    year  rand  \n",
       "0   2005     1  \n",
       "1   1989     1  \n",
       "2   2005     1  \n",
       "3   1993     1  \n",
       "4   1970     1  \n",
       "5   2009     1  \n",
       "6   1970     1  \n",
       "7   1991     1  \n",
       "8   1975     1  \n",
       "9   2005     1  \n",
       "10  1946     1  \n",
       "11  1928     1  \n",
       "12  1995     1  \n",
       "13  2015     1  \n",
       "14  2012     1  \n",
       "15  1975     1  \n",
       "16  2010     1  \n",
       "17  1962     1  \n",
       "18  1932     1  \n",
       "19  1931     1  "
      ]
     },
     "execution_count": 438,
     "metadata": {},
     "output_type": "execute_result"
    }
   ],
   "source": [
    "h_copy = h.copy()\n",
    "h_copy[\"rand\"] = 1\n",
    "h_copy"
   ]
  },
  {
   "cell_type": "code",
   "execution_count": 439,
   "metadata": {
    "collapsed": false
   },
   "outputs": [
    {
     "data": {
      "text/html": [
       "<div>\n",
       "<table border=\"1\" class=\"dataframe\">\n",
       "  <thead>\n",
       "    <tr style=\"text-align: right;\">\n",
       "      <th></th>\n",
       "      <th>title</th>\n",
       "      <th>year</th>\n",
       "      <th>rand_day</th>\n",
       "    </tr>\n",
       "  </thead>\n",
       "  <tbody>\n",
       "    <tr>\n",
       "      <th>0</th>\n",
       "      <td>Orlando Vargas</td>\n",
       "      <td>2005</td>\n",
       "      <td>14-5-2005</td>\n",
       "    </tr>\n",
       "    <tr>\n",
       "      <th>1</th>\n",
       "      <td>Niu-Peng</td>\n",
       "      <td>1989</td>\n",
       "      <td>21-9-1989</td>\n",
       "    </tr>\n",
       "    <tr>\n",
       "      <th>2</th>\n",
       "      <td>Anandabhadram</td>\n",
       "      <td>2005</td>\n",
       "      <td>4-10-2005</td>\n",
       "    </tr>\n",
       "    <tr>\n",
       "      <th>3</th>\n",
       "      <td>Mahendra Varma</td>\n",
       "      <td>1993</td>\n",
       "      <td>20-8-1993</td>\n",
       "    </tr>\n",
       "    <tr>\n",
       "      <th>4</th>\n",
       "      <td>Beomdiga shidae</td>\n",
       "      <td>1970</td>\n",
       "      <td>12-8-1970</td>\n",
       "    </tr>\n",
       "    <tr>\n",
       "      <th>5</th>\n",
       "      <td>100Volta</td>\n",
       "      <td>2009</td>\n",
       "      <td>26-6-2009</td>\n",
       "    </tr>\n",
       "    <tr>\n",
       "      <th>6</th>\n",
       "      <td>Atakku no. 1</td>\n",
       "      <td>1970</td>\n",
       "      <td>1-9-1970</td>\n",
       "    </tr>\n",
       "    <tr>\n",
       "      <th>7</th>\n",
       "      <td>Uroki v kontse vesny</td>\n",
       "      <td>1991</td>\n",
       "      <td>28-8-1991</td>\n",
       "    </tr>\n",
       "    <tr>\n",
       "      <th>8</th>\n",
       "      <td>Un sac de billes</td>\n",
       "      <td>1975</td>\n",
       "      <td>12-9-1975</td>\n",
       "    </tr>\n",
       "    <tr>\n",
       "      <th>9</th>\n",
       "      <td>The Trouble with Men and Women</td>\n",
       "      <td>2005</td>\n",
       "      <td>25-6-2005</td>\n",
       "    </tr>\n",
       "    <tr>\n",
       "      <th>10</th>\n",
       "      <td>That Texas Jamboree</td>\n",
       "      <td>1946</td>\n",
       "      <td>17-3-1946</td>\n",
       "    </tr>\n",
       "    <tr>\n",
       "      <th>11</th>\n",
       "      <td>A Knight in London</td>\n",
       "      <td>1928</td>\n",
       "      <td>24-3-1928</td>\n",
       "    </tr>\n",
       "    <tr>\n",
       "      <th>12</th>\n",
       "      <td>Al oltro lado de la ley</td>\n",
       "      <td>1995</td>\n",
       "      <td>26-9-1995</td>\n",
       "    </tr>\n",
       "    <tr>\n",
       "      <th>13</th>\n",
       "      <td>Too Soon to Forget</td>\n",
       "      <td>2015</td>\n",
       "      <td>7-8-2015</td>\n",
       "    </tr>\n",
       "    <tr>\n",
       "      <th>14</th>\n",
       "      <td>Gebo et l'ombre</td>\n",
       "      <td>2012</td>\n",
       "      <td>9-9-2012</td>\n",
       "    </tr>\n",
       "    <tr>\n",
       "      <th>15</th>\n",
       "      <td>Amore mio spogliati... che poi ti spiego!</td>\n",
       "      <td>1975</td>\n",
       "      <td>20-1-1975</td>\n",
       "    </tr>\n",
       "    <tr>\n",
       "      <th>16</th>\n",
       "      <td>Big Boy</td>\n",
       "      <td>2010</td>\n",
       "      <td>17-8-2010</td>\n",
       "    </tr>\n",
       "    <tr>\n",
       "      <th>17</th>\n",
       "      <td>All Night Long</td>\n",
       "      <td>1962</td>\n",
       "      <td>29-7-1962</td>\n",
       "    </tr>\n",
       "    <tr>\n",
       "      <th>18</th>\n",
       "      <td>Gold</td>\n",
       "      <td>1932</td>\n",
       "      <td>29-9-1932</td>\n",
       "    </tr>\n",
       "    <tr>\n",
       "      <th>19</th>\n",
       "      <td>Partir</td>\n",
       "      <td>1931</td>\n",
       "      <td>18-3-1931</td>\n",
       "    </tr>\n",
       "  </tbody>\n",
       "</table>\n",
       "</div>"
      ],
      "text/plain": [
       "                                        title  \\\n",
       "0                              Orlando Vargas   \n",
       "1                                    Niu-Peng   \n",
       "2                               Anandabhadram   \n",
       "3                              Mahendra Varma   \n",
       "4                             Beomdiga shidae   \n",
       "5                                    100Volta   \n",
       "6                                Atakku no. 1   \n",
       "7                        Uroki v kontse vesny   \n",
       "8                            Un sac de billes   \n",
       "9              The Trouble with Men and Women   \n",
       "10                        That Texas Jamboree   \n",
       "11                         A Knight in London   \n",
       "12                    Al oltro lado de la ley   \n",
       "13                         Too Soon to Forget   \n",
       "14                            Gebo et l'ombre   \n",
       "15  Amore mio spogliati... che poi ti spiego!   \n",
       "16                                    Big Boy   \n",
       "17                             All Night Long   \n",
       "18                                       Gold   \n",
       "19                                     Partir   \n",
       "\n",
       "    year   rand_day  \n",
       "0   2005  14-5-2005  \n",
       "1   1989  21-9-1989  \n",
       "2   2005  4-10-2005  \n",
       "3   1993  20-8-1993  \n",
       "4   1970  12-8-1970  \n",
       "5   2009  26-6-2009  \n",
       "6   1970   1-9-1970  \n",
       "7   1991  28-8-1991  \n",
       "8   1975  12-9-1975  \n",
       "9   2005  25-6-2005  \n",
       "10  1946  17-3-1946  \n",
       "11  1928  24-3-1928  \n",
       "12  1995  26-9-1995  \n",
       "13  2015   7-8-2015  \n",
       "14  2012   9-9-2012  \n",
       "15  1975  20-1-1975  \n",
       "16  2010  17-8-2010  \n",
       "17  1962  29-7-1962  \n",
       "18  1932  29-9-1932  \n",
       "19  1931  18-3-1931  "
      ]
     },
     "execution_count": 439,
     "metadata": {},
     "output_type": "execute_result"
    }
   ],
   "source": [
    "h_copy[\"rand_date\"] = pd.DataFrame(np.random.randint(1, high=30,size=len(h_copy[\"rand\"])) , dtype=str)\n",
    "h_copy[\"rand_month\"] = pd.DataFrame(np.random.randint(1, high=12,size=len(h_copy[\"rand\"])), dtype=str)\n",
    "h_copy[\"rand_year\"] = pd.DataFrame(h_copy[\"year\"], dtype=str)\n",
    "\n",
    "h_copy['rand_day'] = h_copy[\"rand_date\"]+\"-\"+h_copy[\"rand_month\"]+\"-\"+h_copy[\"rand_year\"]\n",
    "\n",
    "h_copy = h_copy.drop(['rand','rand_date','rand_month','rand_year'], axis=1)\n",
    "h_copy"
   ]
  },
  {
   "cell_type": "markdown",
   "metadata": {},
   "source": [
    "## Series methods\n",
    "\n",
    "#### Srting\n",
    "\n",
    "A namespace `str` is attahced for string manipulations `Series.str.startswith('YYY')`"
   ]
  },
  {
   "cell_type": "code",
   "execution_count": 440,
   "metadata": {
    "collapsed": false
   },
   "outputs": [
    {
     "data": {
      "text/html": [
       "<div>\n",
       "<table border=\"1\" class=\"dataframe\">\n",
       "  <thead>\n",
       "    <tr style=\"text-align: right;\">\n",
       "      <th></th>\n",
       "      <th>title</th>\n",
       "      <th>year</th>\n",
       "      <th>rand_day</th>\n",
       "    </tr>\n",
       "  </thead>\n",
       "  <tbody>\n",
       "    <tr>\n",
       "      <th>7</th>\n",
       "      <td>Uroki v kontse vesny</td>\n",
       "      <td>1991</td>\n",
       "      <td>28-8-1991</td>\n",
       "    </tr>\n",
       "    <tr>\n",
       "      <th>8</th>\n",
       "      <td>Un sac de billes</td>\n",
       "      <td>1975</td>\n",
       "      <td>12-9-1975</td>\n",
       "    </tr>\n",
       "  </tbody>\n",
       "</table>\n",
       "</div>"
      ],
      "text/plain": [
       "                  title  year  \\\n",
       "7  Uroki v kontse vesny  1991   \n",
       "8      Un sac de billes  1975   \n",
       "\n",
       "    rand_day  \n",
       "7  28-8-1991  \n",
       "8  12-9-1975  "
      ]
     },
     "execution_count": 440,
     "metadata": {},
     "output_type": "execute_result"
    }
   ],
   "source": [
    "h1 = h_copy\n",
    "h1[h1.title.str.startswith('U')]"
   ]
  },
  {
   "cell_type": "code",
   "execution_count": null,
   "metadata": {
    "collapsed": true
   },
   "outputs": [],
   "source": []
  },
  {
   "cell_type": "markdown",
   "metadata": {},
   "source": [
    "#### Date\n",
    "`Series.dt.year`"
   ]
  },
  {
   "cell_type": "code",
   "execution_count": 447,
   "metadata": {
    "collapsed": false
   },
   "outputs": [
    {
     "data": {
      "text/plain": [
       "0     134\n",
       "1     264\n",
       "2     100\n",
       "3     232\n",
       "4     342\n",
       "5     177\n",
       "6       9\n",
       "7     240\n",
       "8     343\n",
       "9     176\n",
       "10     76\n",
       "11     84\n",
       "12    269\n",
       "13    189\n",
       "14    253\n",
       "15     20\n",
       "16    229\n",
       "17    210\n",
       "18    273\n",
       "19     77\n",
       "dtype: int64"
      ]
     },
     "execution_count": 447,
     "metadata": {},
     "output_type": "execute_result"
    }
   ],
   "source": [
    "h1['rand_day'] = pd.to_datetime(h1['rand_day'])\n",
    "h1.rand_day.dt.dayofyear"
   ]
  },
  {
   "cell_type": "code",
   "execution_count": null,
   "metadata": {
    "collapsed": true
   },
   "outputs": [],
   "source": []
  },
  {
   "cell_type": "markdown",
   "metadata": {},
   "source": [
    "#### Pivot"
   ]
  },
  {
   "cell_type": "code",
   "execution_count": null,
   "metadata": {
    "collapsed": true
   },
   "outputs": [],
   "source": []
  },
  {
   "cell_type": "code",
   "execution_count": null,
   "metadata": {
    "collapsed": true
   },
   "outputs": [],
   "source": []
  },
  {
   "cell_type": "code",
   "execution_count": null,
   "metadata": {
    "collapsed": true
   },
   "outputs": [],
   "source": []
  },
  {
   "cell_type": "code",
   "execution_count": null,
   "metadata": {
    "collapsed": true
   },
   "outputs": [],
   "source": []
  },
  {
   "cell_type": "code",
   "execution_count": null,
   "metadata": {
    "collapsed": true
   },
   "outputs": [],
   "source": []
  },
  {
   "cell_type": "code",
   "execution_count": null,
   "metadata": {
    "collapsed": true
   },
   "outputs": [],
   "source": []
  }
 ],
 "metadata": {
  "kernelspec": {
   "display_name": "Python 3",
   "language": "python",
   "name": "python3"
  },
  "language_info": {
   "codemirror_mode": {
    "name": "ipython",
    "version": 3
   },
   "file_extension": ".py",
   "mimetype": "text/x-python",
   "name": "python",
   "nbconvert_exporter": "python",
   "pygments_lexer": "ipython3",
   "version": "3.4.3"
  }
 },
 "nbformat": 4,
 "nbformat_minor": 0
}
